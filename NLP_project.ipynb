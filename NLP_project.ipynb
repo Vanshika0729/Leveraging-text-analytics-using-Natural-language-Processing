{
  "nbformat": 4,
  "nbformat_minor": 0,
  "metadata": {
    "colab": {
      "name": "Copy of Copy of project_phase1.ipynb",
      "provenance": [],
      "collapsed_sections": []
    },
    "kernelspec": {
      "name": "python3",
      "display_name": "Python 3"
    },
    "accelerator": "GPU"
  },
  "cells": [
    {
      "cell_type": "code",
      "metadata": {
        "id": "HSCiCrtjEu_7",
        "colab": {
          "base_uri": "https://localhost:8080/",
          "height": 71
        },
        "outputId": "2233a2ef-22ef-4523-cc2b-caaed6fadcb0"
      },
      "source": [
        "import pandas as pd \n",
        "import numpy as np  \n",
        "import matplotlib.pyplot as plt\n",
        "import seaborn as sn\n",
        "from keras.layers import Dense, SimpleRNN, GRU, LSTM, Embedding \n",
        "from keras.models import Sequential\n",
        "from nltk.tokenize import word_tokenize\n",
        "from nltk import pos_tag\n",
        "from nltk.corpus import stopwords\n",
        "from nltk.stem import WordNetLemmatizer\n",
        " \n",
        "from sklearn.preprocessing import LabelEncoder\n",
        "from collections import defaultdict\n",
        "from nltk.corpus import wordnet as wn\n",
        " \n",
        " \n",
        "from keras.utils import to_categorical                  \n",
        "from keras.layers import Input, Flatten, Dropout, BatchNormalization\n",
        "from keras.layers import Conv1D, MaxPooling1D, GlobalMaxPool1D\n",
        "from keras.preprocessing.text import Tokenizer\n",
        "from keras.preprocessing.sequence import pad_sequences"
      ],
      "execution_count": null,
      "outputs": [
        {
          "output_type": "stream",
          "text": [
            "/usr/local/lib/python3.6/dist-packages/statsmodels/tools/_testing.py:19: FutureWarning: pandas.util.testing is deprecated. Use the functions in the public API at pandas.testing instead.\n",
            "  import pandas.util.testing as tm\n"
          ],
          "name": "stderr"
        }
      ]
    },
    {
      "cell_type": "code",
      "metadata": {
        "id": "IJglP-eEE0C3"
      },
      "source": [
        "data = pd.read_csv(\"/content/Womens Clothing E-Commerce Reviews.csv\")"
      ],
      "execution_count": null,
      "outputs": []
    },
    {
      "cell_type": "code",
      "metadata": {
        "id": "1egXUXjlE7MW",
        "colab": {
          "base_uri": "https://localhost:8080/",
          "height": 391
        },
        "outputId": "b72bf15d-1239-4c7a-db07-3a6fdd1589b2"
      },
      "source": [
        "data.head(5)"
      ],
      "execution_count": null,
      "outputs": [
        {
          "output_type": "execute_result",
          "data": {
            "text/html": [
              "<div>\n",
              "<style scoped>\n",
              "    .dataframe tbody tr th:only-of-type {\n",
              "        vertical-align: middle;\n",
              "    }\n",
              "\n",
              "    .dataframe tbody tr th {\n",
              "        vertical-align: top;\n",
              "    }\n",
              "\n",
              "    .dataframe thead th {\n",
              "        text-align: right;\n",
              "    }\n",
              "</style>\n",
              "<table border=\"1\" class=\"dataframe\">\n",
              "  <thead>\n",
              "    <tr style=\"text-align: right;\">\n",
              "      <th></th>\n",
              "      <th>Unnamed: 0</th>\n",
              "      <th>Clothing ID</th>\n",
              "      <th>Age</th>\n",
              "      <th>Title</th>\n",
              "      <th>Review Text</th>\n",
              "      <th>Rating</th>\n",
              "      <th>Recommended IND</th>\n",
              "      <th>Positive Feedback Count</th>\n",
              "      <th>Division Name</th>\n",
              "      <th>Department Name</th>\n",
              "      <th>Class Name</th>\n",
              "    </tr>\n",
              "  </thead>\n",
              "  <tbody>\n",
              "    <tr>\n",
              "      <th>0</th>\n",
              "      <td>0</td>\n",
              "      <td>767</td>\n",
              "      <td>33</td>\n",
              "      <td>NaN</td>\n",
              "      <td>Absolutely wonderful - silky and sexy and comf...</td>\n",
              "      <td>4</td>\n",
              "      <td>1</td>\n",
              "      <td>0</td>\n",
              "      <td>Initmates</td>\n",
              "      <td>Intimate</td>\n",
              "      <td>Intimates</td>\n",
              "    </tr>\n",
              "    <tr>\n",
              "      <th>1</th>\n",
              "      <td>1</td>\n",
              "      <td>1080</td>\n",
              "      <td>34</td>\n",
              "      <td>NaN</td>\n",
              "      <td>Love this dress!  it's sooo pretty.  i happene...</td>\n",
              "      <td>5</td>\n",
              "      <td>1</td>\n",
              "      <td>4</td>\n",
              "      <td>General</td>\n",
              "      <td>Dresses</td>\n",
              "      <td>Dresses</td>\n",
              "    </tr>\n",
              "    <tr>\n",
              "      <th>2</th>\n",
              "      <td>2</td>\n",
              "      <td>1077</td>\n",
              "      <td>60</td>\n",
              "      <td>Some major design flaws</td>\n",
              "      <td>I had such high hopes for this dress and reall...</td>\n",
              "      <td>3</td>\n",
              "      <td>0</td>\n",
              "      <td>0</td>\n",
              "      <td>General</td>\n",
              "      <td>Dresses</td>\n",
              "      <td>Dresses</td>\n",
              "    </tr>\n",
              "    <tr>\n",
              "      <th>3</th>\n",
              "      <td>3</td>\n",
              "      <td>1049</td>\n",
              "      <td>50</td>\n",
              "      <td>My favorite buy!</td>\n",
              "      <td>I love, love, love this jumpsuit. it's fun, fl...</td>\n",
              "      <td>5</td>\n",
              "      <td>1</td>\n",
              "      <td>0</td>\n",
              "      <td>General Petite</td>\n",
              "      <td>Bottoms</td>\n",
              "      <td>Pants</td>\n",
              "    </tr>\n",
              "    <tr>\n",
              "      <th>4</th>\n",
              "      <td>4</td>\n",
              "      <td>847</td>\n",
              "      <td>47</td>\n",
              "      <td>Flattering shirt</td>\n",
              "      <td>This shirt is very flattering to all due to th...</td>\n",
              "      <td>5</td>\n",
              "      <td>1</td>\n",
              "      <td>6</td>\n",
              "      <td>General</td>\n",
              "      <td>Tops</td>\n",
              "      <td>Blouses</td>\n",
              "    </tr>\n",
              "  </tbody>\n",
              "</table>\n",
              "</div>"
            ],
            "text/plain": [
              "   Unnamed: 0  Clothing ID  Age  ...   Division Name Department Name  Class Name\n",
              "0           0          767   33  ...       Initmates        Intimate   Intimates\n",
              "1           1         1080   34  ...         General         Dresses     Dresses\n",
              "2           2         1077   60  ...         General         Dresses     Dresses\n",
              "3           3         1049   50  ...  General Petite         Bottoms       Pants\n",
              "4           4          847   47  ...         General            Tops     Blouses\n",
              "\n",
              "[5 rows x 11 columns]"
            ]
          },
          "metadata": {
            "tags": []
          },
          "execution_count": 7
        }
      ]
    },
    {
      "cell_type": "code",
      "metadata": {
        "id": "3X2wUsFOhbyQ"
      },
      "source": [
        "#data_dul = data.rename(columns={'Clothing ID' : 'Clothing_ID'},inplace= False)"
      ],
      "execution_count": null,
      "outputs": []
    },
    {
      "cell_type": "code",
      "metadata": {
        "id": "30uY-i-WFRwh",
        "colab": {
          "base_uri": "https://localhost:8080/",
          "height": 513
        },
        "outputId": "8e261c80-830e-432c-9863-dcfd96088f04"
      },
      "source": [
        "data_dul = data.rename(columns={'Review Text':'Review_Text', 'Clothing ID' : 'Clothing_ID', 'Recommended IND' : 'Recommended_IND', 'Positive Feedback Count' : 'Positive_Feedback_Count' },inplace= False)\n",
        "data_dul.head()"
      ],
      "execution_count": null,
      "outputs": [
        {
          "output_type": "execute_result",
          "data": {
            "text/html": [
              "<div>\n",
              "<style scoped>\n",
              "    .dataframe tbody tr th:only-of-type {\n",
              "        vertical-align: middle;\n",
              "    }\n",
              "\n",
              "    .dataframe tbody tr th {\n",
              "        vertical-align: top;\n",
              "    }\n",
              "\n",
              "    .dataframe thead th {\n",
              "        text-align: right;\n",
              "    }\n",
              "</style>\n",
              "<table border=\"1\" class=\"dataframe\">\n",
              "  <thead>\n",
              "    <tr style=\"text-align: right;\">\n",
              "      <th></th>\n",
              "      <th>Unnamed: 0</th>\n",
              "      <th>Clothing_ID</th>\n",
              "      <th>Age</th>\n",
              "      <th>Title</th>\n",
              "      <th>Review_Text</th>\n",
              "      <th>Rating</th>\n",
              "      <th>Recommended_IND</th>\n",
              "      <th>Positive_Feedback_Count</th>\n",
              "      <th>Division Name</th>\n",
              "      <th>Department Name</th>\n",
              "      <th>Class Name</th>\n",
              "    </tr>\n",
              "  </thead>\n",
              "  <tbody>\n",
              "    <tr>\n",
              "      <th>0</th>\n",
              "      <td>0</td>\n",
              "      <td>767</td>\n",
              "      <td>33</td>\n",
              "      <td>NaN</td>\n",
              "      <td>Absolutely wonderful - silky and sexy and comf...</td>\n",
              "      <td>4</td>\n",
              "      <td>1</td>\n",
              "      <td>0</td>\n",
              "      <td>Initmates</td>\n",
              "      <td>Intimate</td>\n",
              "      <td>Intimates</td>\n",
              "    </tr>\n",
              "    <tr>\n",
              "      <th>1</th>\n",
              "      <td>1</td>\n",
              "      <td>1080</td>\n",
              "      <td>34</td>\n",
              "      <td>NaN</td>\n",
              "      <td>Love this dress!  it's sooo pretty.  i happene...</td>\n",
              "      <td>5</td>\n",
              "      <td>1</td>\n",
              "      <td>4</td>\n",
              "      <td>General</td>\n",
              "      <td>Dresses</td>\n",
              "      <td>Dresses</td>\n",
              "    </tr>\n",
              "    <tr>\n",
              "      <th>2</th>\n",
              "      <td>2</td>\n",
              "      <td>1077</td>\n",
              "      <td>60</td>\n",
              "      <td>Some major design flaws</td>\n",
              "      <td>I had such high hopes for this dress and reall...</td>\n",
              "      <td>3</td>\n",
              "      <td>0</td>\n",
              "      <td>0</td>\n",
              "      <td>General</td>\n",
              "      <td>Dresses</td>\n",
              "      <td>Dresses</td>\n",
              "    </tr>\n",
              "    <tr>\n",
              "      <th>3</th>\n",
              "      <td>3</td>\n",
              "      <td>1049</td>\n",
              "      <td>50</td>\n",
              "      <td>My favorite buy!</td>\n",
              "      <td>I love, love, love this jumpsuit. it's fun, fl...</td>\n",
              "      <td>5</td>\n",
              "      <td>1</td>\n",
              "      <td>0</td>\n",
              "      <td>General Petite</td>\n",
              "      <td>Bottoms</td>\n",
              "      <td>Pants</td>\n",
              "    </tr>\n",
              "    <tr>\n",
              "      <th>4</th>\n",
              "      <td>4</td>\n",
              "      <td>847</td>\n",
              "      <td>47</td>\n",
              "      <td>Flattering shirt</td>\n",
              "      <td>This shirt is very flattering to all due to th...</td>\n",
              "      <td>5</td>\n",
              "      <td>1</td>\n",
              "      <td>6</td>\n",
              "      <td>General</td>\n",
              "      <td>Tops</td>\n",
              "      <td>Blouses</td>\n",
              "    </tr>\n",
              "  </tbody>\n",
              "</table>\n",
              "</div>"
            ],
            "text/plain": [
              "   Unnamed: 0  Clothing_ID  Age  ...   Division Name Department Name  Class Name\n",
              "0           0          767   33  ...       Initmates        Intimate   Intimates\n",
              "1           1         1080   34  ...         General         Dresses     Dresses\n",
              "2           2         1077   60  ...         General         Dresses     Dresses\n",
              "3           3         1049   50  ...  General Petite         Bottoms       Pants\n",
              "4           4          847   47  ...         General            Tops     Blouses\n",
              "\n",
              "[5 rows x 11 columns]"
            ]
          },
          "metadata": {
            "tags": []
          },
          "execution_count": 8
        }
      ]
    },
    {
      "cell_type": "code",
      "metadata": {
        "id": "56dGam5Z2RAK",
        "colab": {
          "base_uri": "https://localhost:8080/",
          "height": 34
        },
        "outputId": "c75a4957-2180-4075-8d3c-55ba89918ce6"
      },
      "source": [
        "from google.colab import drive\n",
        "drive.mount('/content/drive')"
      ],
      "execution_count": null,
      "outputs": [
        {
          "output_type": "stream",
          "text": [
            "Mounted at /content/drive\n"
          ],
          "name": "stdout"
        }
      ]
    },
    {
      "cell_type": "code",
      "metadata": {
        "id": "EuoSIwxYFZnc",
        "colab": {
          "base_uri": "https://localhost:8080/",
          "height": 513
        },
        "outputId": "d4d3cd6e-3823-4771-fdd4-7a4d067ecb59"
      },
      "source": [
        "data_dul.dropna(subset= ['Review_Text'],inplace = True)\n",
        "data_dul.head()"
      ],
      "execution_count": null,
      "outputs": [
        {
          "output_type": "execute_result",
          "data": {
            "text/html": [
              "<div>\n",
              "<style scoped>\n",
              "    .dataframe tbody tr th:only-of-type {\n",
              "        vertical-align: middle;\n",
              "    }\n",
              "\n",
              "    .dataframe tbody tr th {\n",
              "        vertical-align: top;\n",
              "    }\n",
              "\n",
              "    .dataframe thead th {\n",
              "        text-align: right;\n",
              "    }\n",
              "</style>\n",
              "<table border=\"1\" class=\"dataframe\">\n",
              "  <thead>\n",
              "    <tr style=\"text-align: right;\">\n",
              "      <th></th>\n",
              "      <th>Unnamed: 0</th>\n",
              "      <th>Clothing_ID</th>\n",
              "      <th>Age</th>\n",
              "      <th>Title</th>\n",
              "      <th>Review_Text</th>\n",
              "      <th>Rating</th>\n",
              "      <th>Recommended_IND</th>\n",
              "      <th>Positive_Feedback_Count</th>\n",
              "      <th>Division Name</th>\n",
              "      <th>Department Name</th>\n",
              "      <th>Class Name</th>\n",
              "    </tr>\n",
              "  </thead>\n",
              "  <tbody>\n",
              "    <tr>\n",
              "      <th>0</th>\n",
              "      <td>0</td>\n",
              "      <td>767</td>\n",
              "      <td>33</td>\n",
              "      <td>NaN</td>\n",
              "      <td>Absolutely wonderful - silky and sexy and comf...</td>\n",
              "      <td>4</td>\n",
              "      <td>1</td>\n",
              "      <td>0</td>\n",
              "      <td>Initmates</td>\n",
              "      <td>Intimate</td>\n",
              "      <td>Intimates</td>\n",
              "    </tr>\n",
              "    <tr>\n",
              "      <th>1</th>\n",
              "      <td>1</td>\n",
              "      <td>1080</td>\n",
              "      <td>34</td>\n",
              "      <td>NaN</td>\n",
              "      <td>Love this dress!  it's sooo pretty.  i happene...</td>\n",
              "      <td>5</td>\n",
              "      <td>1</td>\n",
              "      <td>4</td>\n",
              "      <td>General</td>\n",
              "      <td>Dresses</td>\n",
              "      <td>Dresses</td>\n",
              "    </tr>\n",
              "    <tr>\n",
              "      <th>2</th>\n",
              "      <td>2</td>\n",
              "      <td>1077</td>\n",
              "      <td>60</td>\n",
              "      <td>Some major design flaws</td>\n",
              "      <td>I had such high hopes for this dress and reall...</td>\n",
              "      <td>3</td>\n",
              "      <td>0</td>\n",
              "      <td>0</td>\n",
              "      <td>General</td>\n",
              "      <td>Dresses</td>\n",
              "      <td>Dresses</td>\n",
              "    </tr>\n",
              "    <tr>\n",
              "      <th>3</th>\n",
              "      <td>3</td>\n",
              "      <td>1049</td>\n",
              "      <td>50</td>\n",
              "      <td>My favorite buy!</td>\n",
              "      <td>I love, love, love this jumpsuit. it's fun, fl...</td>\n",
              "      <td>5</td>\n",
              "      <td>1</td>\n",
              "      <td>0</td>\n",
              "      <td>General Petite</td>\n",
              "      <td>Bottoms</td>\n",
              "      <td>Pants</td>\n",
              "    </tr>\n",
              "    <tr>\n",
              "      <th>4</th>\n",
              "      <td>4</td>\n",
              "      <td>847</td>\n",
              "      <td>47</td>\n",
              "      <td>Flattering shirt</td>\n",
              "      <td>This shirt is very flattering to all due to th...</td>\n",
              "      <td>5</td>\n",
              "      <td>1</td>\n",
              "      <td>6</td>\n",
              "      <td>General</td>\n",
              "      <td>Tops</td>\n",
              "      <td>Blouses</td>\n",
              "    </tr>\n",
              "  </tbody>\n",
              "</table>\n",
              "</div>"
            ],
            "text/plain": [
              "   Unnamed: 0  Clothing_ID  Age  ...   Division Name Department Name  Class Name\n",
              "0           0          767   33  ...       Initmates        Intimate   Intimates\n",
              "1           1         1080   34  ...         General         Dresses     Dresses\n",
              "2           2         1077   60  ...         General         Dresses     Dresses\n",
              "3           3         1049   50  ...  General Petite         Bottoms       Pants\n",
              "4           4          847   47  ...         General            Tops     Blouses\n",
              "\n",
              "[5 rows x 11 columns]"
            ]
          },
          "metadata": {
            "tags": []
          },
          "execution_count": 9
        }
      ]
    },
    {
      "cell_type": "code",
      "metadata": {
        "id": "GrB_I_IoFfPr",
        "colab": {
          "base_uri": "https://localhost:8080/",
          "height": 221
        },
        "outputId": "55fc1ece-b044-41ca-eb3c-d2788735dcd6"
      },
      "source": [
        "data_dul.isna().sum()"
      ],
      "execution_count": null,
      "outputs": [
        {
          "output_type": "execute_result",
          "data": {
            "text/plain": [
              "Unnamed: 0                    0\n",
              "Clothing_ID                   0\n",
              "Age                           0\n",
              "Title                      2966\n",
              "Review_Text                   0\n",
              "Rating                        0\n",
              "Recommended_IND               0\n",
              "Positive_Feedback_Count       0\n",
              "Division Name                13\n",
              "Department Name              13\n",
              "Class Name                   13\n",
              "dtype: int64"
            ]
          },
          "metadata": {
            "tags": []
          },
          "execution_count": 10
        }
      ]
    },
    {
      "cell_type": "code",
      "metadata": {
        "id": "ievJDpMHFjS1"
      },
      "source": [
        "import string\n",
        "def remove_punctuations(text):\n",
        "    for punctuation in string.punctuation:\n",
        "        text = text.replace(punctuation, '') \n",
        "        return text\n",
        "\n",
        "data_dul['Review_Text'] = data_dul['Review_Text'].apply(remove_punctuations)"
      ],
      "execution_count": null,
      "outputs": []
    },
    {
      "cell_type": "code",
      "metadata": {
        "id": "y-qwQTgEdUfg",
        "colab": {
          "base_uri": "https://localhost:8080/",
          "height": 513
        },
        "outputId": "405f8b1a-cfcf-4d12-b667-176b4bb69c74"
      },
      "source": [
        "data_dul.head()"
      ],
      "execution_count": null,
      "outputs": [
        {
          "output_type": "execute_result",
          "data": {
            "text/html": [
              "<div>\n",
              "<style scoped>\n",
              "    .dataframe tbody tr th:only-of-type {\n",
              "        vertical-align: middle;\n",
              "    }\n",
              "\n",
              "    .dataframe tbody tr th {\n",
              "        vertical-align: top;\n",
              "    }\n",
              "\n",
              "    .dataframe thead th {\n",
              "        text-align: right;\n",
              "    }\n",
              "</style>\n",
              "<table border=\"1\" class=\"dataframe\">\n",
              "  <thead>\n",
              "    <tr style=\"text-align: right;\">\n",
              "      <th></th>\n",
              "      <th>Unnamed: 0</th>\n",
              "      <th>Clothing_ID</th>\n",
              "      <th>Age</th>\n",
              "      <th>Title</th>\n",
              "      <th>Review_Text</th>\n",
              "      <th>Rating</th>\n",
              "      <th>Recommended_IND</th>\n",
              "      <th>Positive_Feedback_Count</th>\n",
              "      <th>Division Name</th>\n",
              "      <th>Department Name</th>\n",
              "      <th>Class Name</th>\n",
              "    </tr>\n",
              "  </thead>\n",
              "  <tbody>\n",
              "    <tr>\n",
              "      <th>0</th>\n",
              "      <td>0</td>\n",
              "      <td>767</td>\n",
              "      <td>33</td>\n",
              "      <td>NaN</td>\n",
              "      <td>Absolutely wonderful - silky and sexy and comf...</td>\n",
              "      <td>4</td>\n",
              "      <td>1</td>\n",
              "      <td>0</td>\n",
              "      <td>Initmates</td>\n",
              "      <td>Intimate</td>\n",
              "      <td>Intimates</td>\n",
              "    </tr>\n",
              "    <tr>\n",
              "      <th>1</th>\n",
              "      <td>1</td>\n",
              "      <td>1080</td>\n",
              "      <td>34</td>\n",
              "      <td>NaN</td>\n",
              "      <td>Love this dress  it's sooo pretty.  i happened...</td>\n",
              "      <td>5</td>\n",
              "      <td>1</td>\n",
              "      <td>4</td>\n",
              "      <td>General</td>\n",
              "      <td>Dresses</td>\n",
              "      <td>Dresses</td>\n",
              "    </tr>\n",
              "    <tr>\n",
              "      <th>2</th>\n",
              "      <td>2</td>\n",
              "      <td>1077</td>\n",
              "      <td>60</td>\n",
              "      <td>Some major design flaws</td>\n",
              "      <td>I had such high hopes for this dress and reall...</td>\n",
              "      <td>3</td>\n",
              "      <td>0</td>\n",
              "      <td>0</td>\n",
              "      <td>General</td>\n",
              "      <td>Dresses</td>\n",
              "      <td>Dresses</td>\n",
              "    </tr>\n",
              "    <tr>\n",
              "      <th>3</th>\n",
              "      <td>3</td>\n",
              "      <td>1049</td>\n",
              "      <td>50</td>\n",
              "      <td>My favorite buy!</td>\n",
              "      <td>I love, love, love this jumpsuit. it's fun, fl...</td>\n",
              "      <td>5</td>\n",
              "      <td>1</td>\n",
              "      <td>0</td>\n",
              "      <td>General Petite</td>\n",
              "      <td>Bottoms</td>\n",
              "      <td>Pants</td>\n",
              "    </tr>\n",
              "    <tr>\n",
              "      <th>4</th>\n",
              "      <td>4</td>\n",
              "      <td>847</td>\n",
              "      <td>47</td>\n",
              "      <td>Flattering shirt</td>\n",
              "      <td>This shirt is very flattering to all due to th...</td>\n",
              "      <td>5</td>\n",
              "      <td>1</td>\n",
              "      <td>6</td>\n",
              "      <td>General</td>\n",
              "      <td>Tops</td>\n",
              "      <td>Blouses</td>\n",
              "    </tr>\n",
              "  </tbody>\n",
              "</table>\n",
              "</div>"
            ],
            "text/plain": [
              "   Unnamed: 0  Clothing_ID  Age  ...   Division Name Department Name  Class Name\n",
              "0           0          767   33  ...       Initmates        Intimate   Intimates\n",
              "1           1         1080   34  ...         General         Dresses     Dresses\n",
              "2           2         1077   60  ...         General         Dresses     Dresses\n",
              "3           3         1049   50  ...  General Petite         Bottoms       Pants\n",
              "4           4          847   47  ...         General            Tops     Blouses\n",
              "\n",
              "[5 rows x 11 columns]"
            ]
          },
          "metadata": {
            "tags": []
          },
          "execution_count": 12
        }
      ]
    },
    {
      "cell_type": "code",
      "metadata": {
        "id": "_cezqxlLkCW7"
      },
      "source": [
        "data_dul['Review_Text'] = data_dul['Review_Text'].str.lower()"
      ],
      "execution_count": null,
      "outputs": []
    },
    {
      "cell_type": "code",
      "metadata": {
        "id": "jaddr5CyF_Cj",
        "colab": {
          "base_uri": "https://localhost:8080/",
          "height": 513
        },
        "outputId": "177e3394-769e-4d02-ce64-ce347bf73776"
      },
      "source": [
        "data_dul.head()\n"
      ],
      "execution_count": null,
      "outputs": [
        {
          "output_type": "execute_result",
          "data": {
            "text/html": [
              "<div>\n",
              "<style scoped>\n",
              "    .dataframe tbody tr th:only-of-type {\n",
              "        vertical-align: middle;\n",
              "    }\n",
              "\n",
              "    .dataframe tbody tr th {\n",
              "        vertical-align: top;\n",
              "    }\n",
              "\n",
              "    .dataframe thead th {\n",
              "        text-align: right;\n",
              "    }\n",
              "</style>\n",
              "<table border=\"1\" class=\"dataframe\">\n",
              "  <thead>\n",
              "    <tr style=\"text-align: right;\">\n",
              "      <th></th>\n",
              "      <th>Unnamed: 0</th>\n",
              "      <th>Clothing_ID</th>\n",
              "      <th>Age</th>\n",
              "      <th>Title</th>\n",
              "      <th>Review_Text</th>\n",
              "      <th>Rating</th>\n",
              "      <th>Recommended_IND</th>\n",
              "      <th>Positive_Feedback_Count</th>\n",
              "      <th>Division Name</th>\n",
              "      <th>Department Name</th>\n",
              "      <th>Class Name</th>\n",
              "    </tr>\n",
              "  </thead>\n",
              "  <tbody>\n",
              "    <tr>\n",
              "      <th>0</th>\n",
              "      <td>0</td>\n",
              "      <td>767</td>\n",
              "      <td>33</td>\n",
              "      <td>NaN</td>\n",
              "      <td>absolutely wonderful - silky and sexy and comf...</td>\n",
              "      <td>4</td>\n",
              "      <td>1</td>\n",
              "      <td>0</td>\n",
              "      <td>Initmates</td>\n",
              "      <td>Intimate</td>\n",
              "      <td>Intimates</td>\n",
              "    </tr>\n",
              "    <tr>\n",
              "      <th>1</th>\n",
              "      <td>1</td>\n",
              "      <td>1080</td>\n",
              "      <td>34</td>\n",
              "      <td>NaN</td>\n",
              "      <td>love this dress  it's sooo pretty.  i happened...</td>\n",
              "      <td>5</td>\n",
              "      <td>1</td>\n",
              "      <td>4</td>\n",
              "      <td>General</td>\n",
              "      <td>Dresses</td>\n",
              "      <td>Dresses</td>\n",
              "    </tr>\n",
              "    <tr>\n",
              "      <th>2</th>\n",
              "      <td>2</td>\n",
              "      <td>1077</td>\n",
              "      <td>60</td>\n",
              "      <td>Some major design flaws</td>\n",
              "      <td>i had such high hopes for this dress and reall...</td>\n",
              "      <td>3</td>\n",
              "      <td>0</td>\n",
              "      <td>0</td>\n",
              "      <td>General</td>\n",
              "      <td>Dresses</td>\n",
              "      <td>Dresses</td>\n",
              "    </tr>\n",
              "    <tr>\n",
              "      <th>3</th>\n",
              "      <td>3</td>\n",
              "      <td>1049</td>\n",
              "      <td>50</td>\n",
              "      <td>My favorite buy!</td>\n",
              "      <td>i love, love, love this jumpsuit. it's fun, fl...</td>\n",
              "      <td>5</td>\n",
              "      <td>1</td>\n",
              "      <td>0</td>\n",
              "      <td>General Petite</td>\n",
              "      <td>Bottoms</td>\n",
              "      <td>Pants</td>\n",
              "    </tr>\n",
              "    <tr>\n",
              "      <th>4</th>\n",
              "      <td>4</td>\n",
              "      <td>847</td>\n",
              "      <td>47</td>\n",
              "      <td>Flattering shirt</td>\n",
              "      <td>this shirt is very flattering to all due to th...</td>\n",
              "      <td>5</td>\n",
              "      <td>1</td>\n",
              "      <td>6</td>\n",
              "      <td>General</td>\n",
              "      <td>Tops</td>\n",
              "      <td>Blouses</td>\n",
              "    </tr>\n",
              "  </tbody>\n",
              "</table>\n",
              "</div>"
            ],
            "text/plain": [
              "   Unnamed: 0  Clothing_ID  Age  ...   Division Name Department Name  Class Name\n",
              "0           0          767   33  ...       Initmates        Intimate   Intimates\n",
              "1           1         1080   34  ...         General         Dresses     Dresses\n",
              "2           2         1077   60  ...         General         Dresses     Dresses\n",
              "3           3         1049   50  ...  General Petite         Bottoms       Pants\n",
              "4           4          847   47  ...         General            Tops     Blouses\n",
              "\n",
              "[5 rows x 11 columns]"
            ]
          },
          "metadata": {
            "tags": []
          },
          "execution_count": 14
        }
      ]
    },
    {
      "cell_type": "code",
      "metadata": {
        "id": "I7YBzV1O-kv4",
        "colab": {
          "base_uri": "https://localhost:8080/",
          "height": 170
        },
        "outputId": "9e8090a0-ff6c-4e44-f196-64f2eb07c22f"
      },
      "source": [
        "['not', 'no', 'don', \"don't\", \"didn't\", 'doesn', \"doesn't\", 'couldn', \"couldn't\" ]"
      ],
      "execution_count": null,
      "outputs": [
        {
          "output_type": "execute_result",
          "data": {
            "text/plain": [
              "['not',\n",
              " 'no',\n",
              " 'don',\n",
              " \"don't\",\n",
              " \"didn't\",\n",
              " 'doesn',\n",
              " \"doesn't\",\n",
              " 'couldn',\n",
              " \"couldn't\"]"
            ]
          },
          "metadata": {
            "tags": []
          },
          "execution_count": 15
        }
      ]
    },
    {
      "cell_type": "code",
      "metadata": {
        "id": "12XSumP1GIVf",
        "colab": {
          "base_uri": "https://localhost:8080/",
          "height": 207
        },
        "outputId": "721dfbb1-5203-42db-b888-d2bf366c5d12"
      },
      "source": [
        "\n",
        "import nltk\n",
        "nltk.download('averaged_perceptron_tagger')\n",
        "nltk.download('wordnet')\n",
        "nltk.download('punkt')\n",
        "nltk.download('stopwords') \n",
        "from nltk.corpus import stopwords\n",
        "stop = set(nltk.corpus.stopwords.words('english'))\n",
        "exclude_words = set(('not', 'no', 'don', \"don't\", \n",
        "                     \"didn't\", 'doesn', \"doesn't\",\n",
        "                     'couldn', \"couldn't\", \"hadn't\",\n",
        "                     'wasn',\"aren't\", 'isn', \"wasn't\",\n",
        "                     \"mightn't\", 'hadn',\"hasn't\",\"wouldn't\",\n",
        "                     \"weren't\",\"haven't\" ))\n",
        "new_stop_words = stop.difference(exclude_words)\n",
        "print(new_stop_words)\n",
        "data_dul['Review_Text'] = data_dul['Review_Text'].apply(lambda x: ' '.join([word for word in x.split() \n",
        "                                                                                  if word not in (new_stop_words )]))\n"
      ],
      "execution_count": null,
      "outputs": [
        {
          "output_type": "stream",
          "text": [
            "[nltk_data] Downloading package averaged_perceptron_tagger to\n",
            "[nltk_data]     /root/nltk_data...\n",
            "[nltk_data]   Unzipping taggers/averaged_perceptron_tagger.zip.\n",
            "[nltk_data] Downloading package wordnet to /root/nltk_data...\n",
            "[nltk_data]   Unzipping corpora/wordnet.zip.\n",
            "[nltk_data] Downloading package punkt to /root/nltk_data...\n",
            "[nltk_data]   Unzipping tokenizers/punkt.zip.\n",
            "[nltk_data] Downloading package stopwords to /root/nltk_data...\n",
            "[nltk_data]   Unzipping corpora/stopwords.zip.\n",
            "{\"shan't\", 'having', 'what', 'which', 'were', 'by', 'he', 'after', 'up', 'that', 'your', 'or', 'own', 'mightn', 'my', 'any', 'll', 'yourself', 'down', 'such', 'it', 'been', 'haven', \"you're\", 'about', 'these', 're', 'few', 'further', \"needn't\", \"you'd\", 'whom', 'to', 'their', 'have', 'be', 'me', \"you've\", 'over', 'other', 'herself', 's', 'why', 'then', 'his', \"won't\", 'ourselves', \"that'll\", 'this', \"isn't\", 'had', 'nor', 'y', 'its', 'has', 'through', 'than', 'they', 'who', 'aren', 'she', 'in', 'until', 'same', 'for', 'didn', 'while', 'doing', 've', 'shouldn', 'with', 'once', 'off', 'some', 'if', 'during', 'you', 'do', 'where', 'o', 't', \"should've\", 'mustn', 'because', 'ma', \"shouldn't\", 'ain', 'did', 'wouldn', 'under', 'hers', \"you'll\", 'but', 'is', 'each', 'how', 'a', 'm', 'the', 'all', 'shan', 'yours', 'our', 'we', 'her', 'when', 'itself', 'so', 'themselves', 'won', 'here', 'being', 'those', 'myself', 'd', 'more', 'himself', 'hasn', 'yourselves', 'does', 'both', 'just', 'above', 'of', 'theirs', 'can', 'now', 'on', 'ours', 'i', 'will', \"mustn't\", 'weren', 'too', 'an', 'needn', 'was', 'as', 'him', 'below', 'should', 'and', 'again', 'into', 'there', 'at', 'out', \"it's\", 'am', 'against', 'are', \"she's\", 'very', 'between', 'most', 'only', 'before', 'them', 'from'}\n"
          ],
          "name": "stdout"
        }
      ]
    },
    {
      "cell_type": "code",
      "metadata": {
        "id": "ivCUgGxk_X3n",
        "colab": {
          "base_uri": "https://localhost:8080/",
          "height": 513
        },
        "outputId": "1fa4a4a4-fd71-4026-889a-5db91d65e676"
      },
      "source": [
        "data_dul.head()"
      ],
      "execution_count": null,
      "outputs": [
        {
          "output_type": "execute_result",
          "data": {
            "text/html": [
              "<div>\n",
              "<style scoped>\n",
              "    .dataframe tbody tr th:only-of-type {\n",
              "        vertical-align: middle;\n",
              "    }\n",
              "\n",
              "    .dataframe tbody tr th {\n",
              "        vertical-align: top;\n",
              "    }\n",
              "\n",
              "    .dataframe thead th {\n",
              "        text-align: right;\n",
              "    }\n",
              "</style>\n",
              "<table border=\"1\" class=\"dataframe\">\n",
              "  <thead>\n",
              "    <tr style=\"text-align: right;\">\n",
              "      <th></th>\n",
              "      <th>Unnamed: 0</th>\n",
              "      <th>Clothing_ID</th>\n",
              "      <th>Age</th>\n",
              "      <th>Title</th>\n",
              "      <th>Review_Text</th>\n",
              "      <th>Rating</th>\n",
              "      <th>Recommended_IND</th>\n",
              "      <th>Positive_Feedback_Count</th>\n",
              "      <th>Division Name</th>\n",
              "      <th>Department Name</th>\n",
              "      <th>Class Name</th>\n",
              "    </tr>\n",
              "  </thead>\n",
              "  <tbody>\n",
              "    <tr>\n",
              "      <th>0</th>\n",
              "      <td>0</td>\n",
              "      <td>767</td>\n",
              "      <td>33</td>\n",
              "      <td>NaN</td>\n",
              "      <td>absolutely wonderful - silky sexy comfortable</td>\n",
              "      <td>4</td>\n",
              "      <td>1</td>\n",
              "      <td>0</td>\n",
              "      <td>Initmates</td>\n",
              "      <td>Intimate</td>\n",
              "      <td>Intimates</td>\n",
              "    </tr>\n",
              "    <tr>\n",
              "      <th>1</th>\n",
              "      <td>1</td>\n",
              "      <td>1080</td>\n",
              "      <td>34</td>\n",
              "      <td>NaN</td>\n",
              "      <td>love dress sooo pretty. happened find store, i...</td>\n",
              "      <td>5</td>\n",
              "      <td>1</td>\n",
              "      <td>4</td>\n",
              "      <td>General</td>\n",
              "      <td>Dresses</td>\n",
              "      <td>Dresses</td>\n",
              "    </tr>\n",
              "    <tr>\n",
              "      <th>2</th>\n",
              "      <td>2</td>\n",
              "      <td>1077</td>\n",
              "      <td>60</td>\n",
              "      <td>Some major design flaws</td>\n",
              "      <td>high hopes dress really wanted work me. initia...</td>\n",
              "      <td>3</td>\n",
              "      <td>0</td>\n",
              "      <td>0</td>\n",
              "      <td>General</td>\n",
              "      <td>Dresses</td>\n",
              "      <td>Dresses</td>\n",
              "    </tr>\n",
              "    <tr>\n",
              "      <th>3</th>\n",
              "      <td>3</td>\n",
              "      <td>1049</td>\n",
              "      <td>50</td>\n",
              "      <td>My favorite buy!</td>\n",
              "      <td>love, love, love jumpsuit. fun, flirty, fabulo...</td>\n",
              "      <td>5</td>\n",
              "      <td>1</td>\n",
              "      <td>0</td>\n",
              "      <td>General Petite</td>\n",
              "      <td>Bottoms</td>\n",
              "      <td>Pants</td>\n",
              "    </tr>\n",
              "    <tr>\n",
              "      <th>4</th>\n",
              "      <td>4</td>\n",
              "      <td>847</td>\n",
              "      <td>47</td>\n",
              "      <td>Flattering shirt</td>\n",
              "      <td>shirt flattering due adjustable front tie. per...</td>\n",
              "      <td>5</td>\n",
              "      <td>1</td>\n",
              "      <td>6</td>\n",
              "      <td>General</td>\n",
              "      <td>Tops</td>\n",
              "      <td>Blouses</td>\n",
              "    </tr>\n",
              "  </tbody>\n",
              "</table>\n",
              "</div>"
            ],
            "text/plain": [
              "   Unnamed: 0  Clothing_ID  Age  ...   Division Name Department Name  Class Name\n",
              "0           0          767   33  ...       Initmates        Intimate   Intimates\n",
              "1           1         1080   34  ...         General         Dresses     Dresses\n",
              "2           2         1077   60  ...         General         Dresses     Dresses\n",
              "3           3         1049   50  ...  General Petite         Bottoms       Pants\n",
              "4           4          847   47  ...         General            Tops     Blouses\n",
              "\n",
              "[5 rows x 11 columns]"
            ]
          },
          "metadata": {
            "tags": []
          },
          "execution_count": 17
        }
      ]
    },
    {
      "cell_type": "code",
      "metadata": {
        "id": "n_9gs9ceNXYs"
      },
      "source": [
        "from sklearn.model_selection import train_test_split"
      ],
      "execution_count": null,
      "outputs": []
    },
    {
      "cell_type": "code",
      "metadata": {
        "id": "Zxp8XvV2c7Oc"
      },
      "source": [
        "train, test = train_test_split(data_dul, test_size=0.3)"
      ],
      "execution_count": null,
      "outputs": []
    },
    {
      "cell_type": "code",
      "metadata": {
        "id": "0GL0HSxWQGGu",
        "colab": {
          "base_uri": "https://localhost:8080/",
          "height": 564
        },
        "outputId": "1329b4c2-bef1-46a1-9079-e211426956e1"
      },
      "source": [
        "train.head()"
      ],
      "execution_count": null,
      "outputs": [
        {
          "output_type": "execute_result",
          "data": {
            "text/html": [
              "<div>\n",
              "<style scoped>\n",
              "    .dataframe tbody tr th:only-of-type {\n",
              "        vertical-align: middle;\n",
              "    }\n",
              "\n",
              "    .dataframe tbody tr th {\n",
              "        vertical-align: top;\n",
              "    }\n",
              "\n",
              "    .dataframe thead th {\n",
              "        text-align: right;\n",
              "    }\n",
              "</style>\n",
              "<table border=\"1\" class=\"dataframe\">\n",
              "  <thead>\n",
              "    <tr style=\"text-align: right;\">\n",
              "      <th></th>\n",
              "      <th>Unnamed: 0</th>\n",
              "      <th>Clothing_ID</th>\n",
              "      <th>Age</th>\n",
              "      <th>Title</th>\n",
              "      <th>Review_Text</th>\n",
              "      <th>Rating</th>\n",
              "      <th>Recommended_IND</th>\n",
              "      <th>Positive_Feedback_Count</th>\n",
              "      <th>Division Name</th>\n",
              "      <th>Department Name</th>\n",
              "      <th>Class Name</th>\n",
              "    </tr>\n",
              "  </thead>\n",
              "  <tbody>\n",
              "    <tr>\n",
              "      <th>9871</th>\n",
              "      <td>9871</td>\n",
              "      <td>1089</td>\n",
              "      <td>56</td>\n",
              "      <td>Great style!</td>\n",
              "      <td>dress timeless. cute fits easily. like long sl...</td>\n",
              "      <td>5</td>\n",
              "      <td>1</td>\n",
              "      <td>1</td>\n",
              "      <td>General</td>\n",
              "      <td>Dresses</td>\n",
              "      <td>Dresses</td>\n",
              "    </tr>\n",
              "    <tr>\n",
              "      <th>12734</th>\n",
              "      <td>12734</td>\n",
              "      <td>1110</td>\n",
              "      <td>47</td>\n",
              "      <td>No hemming or hawing</td>\n",
              "      <td>want love dress. cute fits well...except hem t...</td>\n",
              "      <td>3</td>\n",
              "      <td>0</td>\n",
              "      <td>10</td>\n",
              "      <td>General</td>\n",
              "      <td>Dresses</td>\n",
              "      <td>Dresses</td>\n",
              "    </tr>\n",
              "    <tr>\n",
              "      <th>573</th>\n",
              "      <td>573</td>\n",
              "      <td>820</td>\n",
              "      <td>24</td>\n",
              "      <td>Fits so well!</td>\n",
              "      <td>often hard time finding items fit true size, t...</td>\n",
              "      <td>5</td>\n",
              "      <td>1</td>\n",
              "      <td>0</td>\n",
              "      <td>General</td>\n",
              "      <td>Tops</td>\n",
              "      <td>Blouses</td>\n",
              "    </tr>\n",
              "    <tr>\n",
              "      <th>19538</th>\n",
              "      <td>19538</td>\n",
              "      <td>936</td>\n",
              "      <td>34</td>\n",
              "      <td>Cute layering option for fall</td>\n",
              "      <td>color style pretty sleeves long return it. cuf...</td>\n",
              "      <td>4</td>\n",
              "      <td>1</td>\n",
              "      <td>3</td>\n",
              "      <td>General</td>\n",
              "      <td>Tops</td>\n",
              "      <td>Sweaters</td>\n",
              "    </tr>\n",
              "    <tr>\n",
              "      <th>7620</th>\n",
              "      <td>7620</td>\n",
              "      <td>868</td>\n",
              "      <td>26</td>\n",
              "      <td>Purchase immediately</td>\n",
              "      <td>not think could express much love top flatteri...</td>\n",
              "      <td>5</td>\n",
              "      <td>1</td>\n",
              "      <td>3</td>\n",
              "      <td>General</td>\n",
              "      <td>Tops</td>\n",
              "      <td>Knits</td>\n",
              "    </tr>\n",
              "  </tbody>\n",
              "</table>\n",
              "</div>"
            ],
            "text/plain": [
              "       Unnamed: 0  Clothing_ID  Age  ... Division Name Department Name  Class Name\n",
              "9871         9871         1089   56  ...       General         Dresses     Dresses\n",
              "12734       12734         1110   47  ...       General         Dresses     Dresses\n",
              "573           573          820   24  ...       General            Tops     Blouses\n",
              "19538       19538          936   34  ...       General            Tops    Sweaters\n",
              "7620         7620          868   26  ...       General            Tops       Knits\n",
              "\n",
              "[5 rows x 11 columns]"
            ]
          },
          "metadata": {
            "tags": []
          },
          "execution_count": 20
        }
      ]
    },
    {
      "cell_type": "code",
      "metadata": {
        "id": "-I9vXm2fQQWQ",
        "colab": {
          "base_uri": "https://localhost:8080/",
          "height": 34
        },
        "outputId": "a1b0df67-0792-4335-b328-1a5a30e24cb6"
      },
      "source": [
        "train.shape"
      ],
      "execution_count": null,
      "outputs": [
        {
          "output_type": "execute_result",
          "data": {
            "text/plain": [
              "(15848, 11)"
            ]
          },
          "metadata": {
            "tags": []
          },
          "execution_count": 21
        }
      ]
    },
    {
      "cell_type": "code",
      "metadata": {
        "id": "vK1s2B2uQc6j",
        "colab": {
          "base_uri": "https://localhost:8080/",
          "height": 34
        },
        "outputId": "61ee7572-f257-4870-b88d-a029ad82d055"
      },
      "source": [
        "test.shape"
      ],
      "execution_count": null,
      "outputs": [
        {
          "output_type": "execute_result",
          "data": {
            "text/plain": [
              "(6793, 11)"
            ]
          },
          "metadata": {
            "tags": []
          },
          "execution_count": 22
        }
      ]
    },
    {
      "cell_type": "code",
      "metadata": {
        "id": "5kwjIE1uVHBq",
        "colab": {
          "base_uri": "https://localhost:8080/",
          "height": 71
        },
        "outputId": "e926e27e-3ecd-4ca3-8ba4-e8d40a0221f0"
      },
      "source": [
        "t = Tokenizer()\n",
        "t.fit_on_texts(train.Review_Text)\n",
        "\n",
        "print (t.word_index)\n",
        "\n",
        "vocab_size = len(t.word_index) + 1\n",
        "print (vocab_size)"
      ],
      "execution_count": null,
      "outputs": [
        {
          "output_type": "stream",
          "text": [
            "{'dress': 1, 'not': 2, 'love': 3, 'size': 4, 'top': 5, 'fit': 6, 'like': 7, 'wear': 8, 'great': 9, \"i'm\": 10, 'would': 11, 'fabric': 12, 'small': 13, 'color': 14, 'it': 15, 'look': 16, 'really': 17, 'little': 18, 'ordered': 19, 'perfect': 20, 'one': 21, 'flattering': 22, 'well': 23, 'soft': 24, 'back': 25, 'nice': 26, 'cute': 27, 'beautiful': 28, 'bought': 29, 'comfortable': 30, 'large': 31, 'shirt': 32, 'fits': 33, 'looks': 34, 'bit': 35, 'much': 36, 'me': 37, 'material': 38, 'length': 39, 'also': 40, 'sweater': 41, 'long': 42, 'colors': 43, 'petite': 44, 'got': 45, 'jeans': 46, 'waist': 47, 'quality': 48, 'medium': 49, 'xs': 50, 'pretty': 51, 'think': 52, 'even': 53, 'work': 54, 'tried': 55, 'retailer': 56, 'store': 57, 'usually': 58, 'skirt': 59, 'good': 60, 'short': 61, 'get': 62, 'made': 63, 'way': 64, 'pants': 65, 'cut': 66, 'big': 67, 'could': 68, 'see': 69, 'still': 70, \"didn't\": 71, 'right': 72, \"don't\": 73, 'black': 74, 'super': 75, 'style': 76, 'runs': 77, 'true': 78, 'no': 79, 'sleeves': 80, 'design': 81, 'online': 82, 'purchased': 83, 'wearing': 84, 'white': 85, 'however': 86, 'feel': 87, 'go': 88, 'on': 89, 'summer': 90, 'perfectly': 91, 'enough': 92, 'tight': 93, 'front': 94, 'model': 95, '2': 96, '4': 97, 'definitely': 98, 'sale': 99, 'blue': 100, 'looked': 101, 'though': 102, 'person': 103, 'loved': 104, 'price': 105, 'lbs': 106, 'better': 107, 'fall': 108, 'jacket': 109, 'first': 110, 'bottom': 111, 'body': 112, 'going': 113, 'loose': 114, 'around': 115, 'worn': 116, 'looking': 117, 'try': 118, 'high': 119, '6': 120, 'time': 121, 'shape': 122, 'wanted': 123, 'many': 124, 'regular': 125, 'arms': 126, 'thought': 127, 'light': 128, 'lovely': 129, 'make': 130, 'shoulders': 131, 'saw': 132, 'down': 133, 'chest': 134, 'gorgeous': 135, 'thin': 136, 'casual': 137, 'piece': 138, 'recommend': 139, 'makes': 140, 'tops': 141, 'without': 142, 'need': 143, 'run': 144, 'compliments': 145, 'want': 146, 'side': 147, 'pair': 148, 'sure': 149, 'pattern': 150, 'blouse': 151, \"doesn't\": 152, \"can't\": 153, 'weight': 154, 'found': 155, 'went': 156, 'reviews': 157, 'wore': 158, 'find': 159, 'wish': 160, 'bra': 161, 'bust': 162, 'i': 163, 'picture': 164, \"i've\": 165, 'hips': 166, 'since': 167, 'dresses': 168, 'print': 169, 'up': 170, 'usual': 171, 'lot': 172, 'buy': 173, 'different': 174, 'received': 175, '8': 176, 'order': 177, 'overall': 178, 'comfy': 179, 'absolutely': 180, 'normally': 181, 'longer': 182, 'fitted': 183, 'may': 184, 'slightly': 185, 'quite': 186, 'return': 187, 'detail': 188, 'nicely': 189, 'keep': 190, 'two': 191, 'day': 192, '5': 193, 'wide': 194, 'red': 195, 'felt': 196, 'leggings': 197, 'green': 198, 'might': 199, 'neck': 200, 'photo': 201, 'unique': 202, 'another': 203, 'underneath': 204, 'fun': 205, 'stretch': 206, 'almost': 207, 'out': 208, \"wasn't\": 209, 'actually': 210, 'lace': 211, 'extra': 212, 'boxy': 213, 'happy': 214, 'probably': 215, 'say': 216, 'sizes': 217, 'easy': 218, 'something': 219, 'sizing': 220, 'too': 221, 'low': 222, 'tee': 223, 'warm': 224, 'tank': 225, 'sheer': 226, 'area': 227, '10': 228, 'flowy': 229, 'smaller': 230, 'purchase': 231, 'dressed': 232, 'glad': 233, 'pockets': 234, 'feels': 235, \"5'4\": 236, 'give': 237, 'all': 238, 'boots': 239, 'shorter': 240, 'fine': 241, 'worth': 242, 'this': 243, 'full': 244, 'tall': 245, 'yet': 246, 'reference': 247, 'unfortunately': 248, 'disappointed': 249, 'every': 250, 'them': 251, 'navy': 252, 'spring': 253, 'always': 254, 'sized': 255, 'wait': 256, 'tts': 257, 'put': 258, 'maybe': 259, 'versatile': 260, 'part': 261, 'favorite': 262, 'neckline': 263, 'adorable': 264, 'liked': 265, 'larger': 266, 'buttons': 267, 'easily': 268, 'line': 269, 'said': 270, 'everything': 271, 'thick': 272, 'fitting': 273, 'denim': 274, 'returned': 275, 'skinny': 276, 'huge': 277, 'wash': 278, 'winter': 279, 'shorts': 280, 'pink': 281, 'decided': 282, 'figure': 283, 'button': 284, 'amazing': 285, 'hem': 286, 'especially': 287, 'seems': 288, 'coat': 289, 'details': 290, 'thing': 291, 'room': 292, 'slip': 293, \"i'd\": 294, 'problem': 295, 'normal': 296, 'off': 297, 'and': 298, 'take': 299, 'tunic': 300, 'grey': 301, 'came': 302, 'cotton': 303, 'best': 304, 'knit': 305, \"5'3\": 306, 'cami': 307, '3': 308, 'heavy': 309, 'lightweight': 310, 'feminine': 311, 'l': 312, 'snug': 313, 'know': 314, 'reviewers': 315, 'pictured': 316, \"couldn't\": 317, 'kind': 318, 'knee': 319, 'xl': 320, 'torso': 321, \"that's\": 322, '0': 323, 'took': 324, 'goes': 325, 'lined': 326, 'hit': 327, 'dark': 328, 'beautifully': 329, 'curvy': 330, 'extremely': 331, 'expected': 332, 'returning': 333, 'typically': 334, 'cardigan': 335, 'works': 336, 'embroidery': 337, 'arm': 338, \"5'2\": 339, 'legs': 340, 'in': 341, 'show': 342, \"5'5\": 343, 'belt': 344, 'hits': 345, '12': 346, 'highly': 347, 'but': 348, 'excited': 349, 'able': 350, 'frame': 351, 'reviewer': 352, 'never': 353, 's': 354, 'washed': 355, 'although': 356, 'anything': 357, 'bad': 358, 'lining': 359, 'either': 360, 'today': 361, \"5'7\": 362, 'someone': 363, 'sold': 364, \"i'll\": 365, 'that': 366, 'shown': 367, 'issue': 368, 'sleeve': 369, 'ended': 370, 'new': 371, 'so': 372, 'm': 373, 'year': 374, 'layer': 375, 't': 376, 'through': 377, 'shoulder': 378, 'the': 379, 'things': 380, \"5'6\": 381, 'xxs': 382, 'agree': 383, 'weather': 384, 'otherwise': 385, 'photos': 386, 'already': 387, 'gray': 388, 'holes': 389, 'stretchy': 390, 'trying': 391, 'type': 392, 'cool': 393, 'orange': 394, 'zipper': 395, 'last': 396, '26': 397, 'cozy': 398, 'add': 399, 'arrived': 400, 'hoping': 401, 'hard': 402, 'come': 403, 'days': 404, 'due': 405, 'suit': 406, 'tie': 407, 'exactly': 408, 'local': 409, 'needed': 410, \"5'8\": 411, 'skin': 412, 'sadly': 413, 'away': 414, 'keeping': 415, 'open': 416, 'others': 417, 'fell': 418, 'wardrobe': 419, 'across': 420, 'hot': 421, 'dry': 422, 'ran': 423, 'cheap': 424, 'stylish': 425, \"5'\": 426, 'classic': 427, 'vest': 428, 'swing': 429, 'sides': 430, 'heels': 431, 'least': 432, \"wouldn't\": 433, 'baggy': 434, 'must': 435, 'inches': 436, 'tad': 437, '1': 438, 'brand': 439, 'unflattering': 440, 'getting': 441, 'straight': 442, 'delicate': 443, 'drape': 444, 'plan': 445, 'vibrant': 446, 'pounds': 447, 'ever': 448, 'rather': 449, 'yellow': 450, 'straps': 451, 'wonderful': 452, \"they're\": 453, 'less': 454, 'plus': 455, 'touch': 456, 'stunning': 457, 'several': 458, 'kept': 459, 'paired': 460, 'drapes': 461, 'a': 462, 'item': 463, 'pictures': 464, 'slim': 465, 'use': 466, 'is': 467, 'nothing': 468, 'shirts': 469, 'surprised': 470, 'seem': 471, 'ordering': 472, '27': 473, 'roomy': 474, 'worked': 475, 'bright': 476, 'pilcro': 477, '28': 478, 'cropped': 479, 'waisted': 480, 'instead': 481, 'for': 482, 'night': 483, 'far': 484, 'pull': 485, 'sometimes': 486, 'ankle': 487, 'based': 488, 'bigger': 489, 'comes': 490, 'years': 491, 'elastic': 492, 'oversized': 493, 'lots': 494, 'you': 495, 'review': 496, 'buying': 497, 'v': 498, 'times': 499, 'simple': 500, 'tights': 501, 'seemed': 502, 'did': 503, 'mine': 504, 'gives': 505, 'hangs': 506, 'booties': 507, 'ivory': 508, 'cover': 509, 'version': 510, 'tiny': 511, 'making': 512, 'available': 513, 'flat': 514, 'special': 515, 'skirts': 516, 'wedding': 517, 'athletic': 518, 'falls': 519, 'itchy': 520, 'cold': 521, 'end': 522, 'form': 523, 'adds': 524, 'jumpsuit': 525, 'flare': 526, 'busty': 527, 'collar': 528, 'texture': 529, 'shows': 530, 'completely': 531, 'to': 532, 'wool': 533, \"5'1\": 534, \"5'9\": 535, 'higher': 536, 'weird': 537, 'months': 538, 'linen': 539, 'leg': 540, 'broad': 541, 'mid': 542, 'previous': 543, 'mentioned': 544, 'jean': 545, 'knees': 546, 'lower': 547, 'read': 548, 'immediately': 549, 'used': 550, 'staple': 551, 'odd': 552, 'sandals': 553, 'interesting': 554, 'clothes': 555, 'second': 556, 'people': 557, 'neutral': 558, 'prefer': 559, 'season': 560, 'stiff': 561, 'knew': 562, 'cream': 563, 'totally': 564, 'clothing': 565, '115': 566, 'curves': 567, 'flats': 568, 'layering': 569, 'wrong': 570, 'maternity': 571, 'worried': 572, 'inside': 573, 'ok': 574, 'hope': 575, 'eye': 576, 'these': 577, 'similar': 578, 'slimming': 579, 'addition': 580, \"there's\": 581, 'half': 582, 'incredibly': 583, 'sexy': 584, 'basic': 585, 'reason': 586, 'amount': 587, 'gotten': 588, 'hourglass': 589, 'point': 590, 'close': 591, 'awesome': 592, 'home': 593, 'next': 594, 'hip': 595, 'fact': 596, 'dressy': 597, 'often': 598, 'substantial': 599, 'mind': 600, 'somewhat': 601, 'deep': 602, '120': 603, 'rich': 604, 'subtle': 605, 'brown': 606, 'stripes': 607, 'thicker': 608, 'thinking': 609, 'couple': 610, 'elegant': 611, '25': 612, 'appears': 613, 'bulky': 614, 'rise': 615, 'finally': 616, 'else': 617, 'upper': 618, 'case': 619, 'c': 620, 'appropriate': 621, 'flow': 622, 'yes': 623, 'sweaters': 624, 'expect': 625, 'closet': 626, 'gave': 627, 'justice': 628, 'throw': 629, 'hang': 630, 'except': 631, 'pleased': 632, 'looser': 633, 'complaint': 634, 'outfit': 635, 'sad': 636, 'purple': 637, 'mail': 638, 'tell': 639, 'colored': 640, 'depending': 641, 'detailing': 642, 'perhaps': 643, 'peplum': 644, 'product': 645, '30': 646, '125': 647, 'left': 648, 'washing': 649, 'pant': 650, 'thighs': 651, '135': 652, 'taller': 653, 'expecting': 654, 'seam': 655, 'armholes': 656, 'forward': 657, 'b': 658, 'zip': 659, 'narrow': 660, 'hand': 661, 'nude': 662, '34b': 663, 'baby': 664, 'cannot': 665, 'truly': 666, 'build': 667, 'maeve': 668, 'soon': 669, 'spot': 670, 'hung': 671, 'place': 672, 'gone': 673, 'inch': 674, 'exchange': 675, '130': 676, 'fan': 677, 'barely': 678, 'bodice': 679, 'added': 680, 'middle': 681, 'now': 682, 'deal': 683, 'real': 684, '140': 685, 'tag': 686, 'hold': 687, 'bottoms': 688, 'classy': 689, 'anyway': 690, 'idea': 691, 'w': 692, 'fairly': 693, 'slight': 694, 'items': 695, 'transition': 696, 'sort': 697, '34c': 698, 'awkward': 699, 'silk': 700, 'along': 701, 'be': 702, 'darker': 703, 'typical': 704, 'waistband': 705, 'pieces': 706, 'together': 707, \"haven't\": 708, 'places': 709, 'blazer': 710, 'past': 711, 'anyone': 712, 'sweatshirt': 713, 'fantastic': 714, 'strange': 715, 'feeling': 716, 'which': 717, 'old': 718, '100': 719, 'gold': 720, 'romper': 721, 'issues': 722, 'meant': 723, 'flows': 724, 'butt': 725, '34': 726, 'band': 727, 'reading': 728, 'seams': 729, 'styling': 730, 'whole': 731, 'live': 732, 'tent': 733, 'everywhere': 734, 'heavier': 735, 'three': 736, '14': 737, 'floral': 738, 'chic': 739, 'please': 740, 'lay': 741, 'office': 742, 'imagine': 743, 'motif': 744, 'leather': 745, 'pulled': 746, 'fabulous': 747, 'glove': 748, 'tummy': 749, 'pairs': 750, 'beach': 751, 'noticed': 752, 'stitching': 753, 'generally': 754, 'coverage': 755, '29': 756, 'relaxed': 757, 'rest': 758, 'there': 759, 'done': 760, 'over': 761, 'necklace': 762, 'sewn': 763, 'unless': 764, 'seen': 765, 'chested': 766, 'says': 767, 'running': 768, 'needs': 769, 'opinion': 770, 'girls': 771, 'difficult': 772, 'help': 773, 'simply': 774, 'stay': 775, 'sack': 776, 'slender': 777, 'tucked': 778, 'showing': 779, 'scratchy': 780, 'keeper': 781, 'lines': 782, 'portion': 783, \"aren't\": 784, 'belly': 785, 'party': 786, 'excellent': 787, 'again': 788, 'believe': 789, 'height': 790, '34d': 791, \"5'10\": 792, 'lighter': 793, 'chance': 794, 'adore': 795, 'coral': 796, 'weekend': 797, 'frumpy': 798, 'cup': 799, 'seasons': 800, 'wider': 801, 'clingy': 802, 'comfort': 803, 'care': 804, 'girl': 805, 'women': 806, 'caught': 807, 'husband': 808, 'dinner': 809, 'money': 810, 'stars': 811, 'stomach': 812, 'description': 813, 'tailored': 814, 'clean': 815, 'finding': 816, 'cooler': 817, 'airy': 818, 'with': 819, 'etc': 820, 'structured': 821, 'ago': 822, 'solid': 823, 'pregnant': 824, 'house': 825, 'forgiving': 826, 'originally': 827, '39': 828, 'bag': 829, 'expensive': 830, 'wow': 831, 'shade': 832, 'slits': 833, 'natural': 834, 'silhouette': 835, 'swingy': 836, 'yesterday': 837, 'more': 838, 'designed': 839, 'stock': 840, '40': 841, 'given': 842, 'p': 843, 'daughter': 844, 'camisole': 845, 'beading': 846, 'everyone': 847, 'plenty': 848, 'pear': 849, 'beige': 850, 'oh': 851, 'disappointing': 852, 'prettier': 853, 'shaped': 854, 'life': 855, 'swimming': 856, 'twice': 857, 'section': 858, 'pleats': 859, '32': 860, 'round': 861, 'pricey': 862, 'hanger': 863, 'polyester': 864, 'wrinkle': 865, 'silky': 866, 'hide': 867, 'layers': 868, '38': 869, 'hides': 870, 'send': 871, 'covers': 872, 'hanging': 873, 'plaid': 874, 'note': 875, 'average': 876, 'patterns': 877, 'here': 878, 'poor': 879, 'flowing': 880, 'uncomfortable': 881, 'pale': 882, 'maxi': 883, 'pass': 884, 'surprise': 885, 'cuter': 886, 'purchasing': 887, 'flowers': 888, 'holiday': 889, 'recently': 890, 'dressing': 891, 'option': 892, 'considering': 893, 'flatter': 894, 'snag': 895, 'tend': 896, 'my': 897, '36c': 898, 'jackets': 899, 'guess': 900, 'have': 901, 'careful': 902, 'shrunk': 903, 'machine': 904, 'shapeless': 905, 'us': 906, 'tons': 907, 'pencil': 908, 'website': 909, 'ladies': 910, 'sweet': 911, 'shrink': 912, 'supposed': 913, 'or': 914, 'stand': 915, 'th': 916, 'receive': 917, 'tees': 918, 'thigh': 919, 'despite': 920, 'let': 921, 'ag': 922, 'ways': 923, 'embroidered': 924, 'week': 925, 'water': 926, 'velvet': 927, 'date': 928, 'hoped': 929, 'okay': 930, 'throughout': 931, '20': 932, '36': 933, 'wears': 934, 'slit': 935, 'sit': 936, 'wine': 937, 'shoes': 938, 'hole': 939, 'coming': 940, 'feet': 941, 'gets': 942, 'poncho': 943, 'fence': 944, 'ones': 945, 'petites': 946, 'wedges': 947, 'plain': 948, 'stated': 949, 'taking': 950, 'taken': 951, 'afraid': 952, 'layered': 953, '110': 954, 'everyday': 955, 'hesitant': 956, 'tighter': 957, 'likely': 958, 'attractive': 959, 'stretched': 960, 'consider': 961, 'garment': 962, 'moss': 963, '00': 964, 'ruffle': 965, 'sent': 966, 'flares': 967, 'trim': 968, 'head': 969, 'lb': 970, 'crazy': 971, 'bell': 972, 'pay': 973, 'noted': 974, 'alone': 975, 'picked': 976, 'near': 977, 'xsp': 978, 'billowy': 979, 'stripe': 980, 'thrilled': 981, 'hopes': 982, 'wrinkles': 983, 'move': 984, 'overly': 985, 'sloppy': 986, 'covered': 987, 'evening': 988, 'package': 989, 'appear': 990, 'opening': 991, 'washes': 992, '35': 993, 'wrap': 994, 'unlike': 995, 'thread': 996, 'vibe': 997, 'match': 998, 'stick': 999, 'wonderfully': 1000, 'turtleneck': 1001, 'multiple': 1002, 'chose': 1003, 'means': 1004, 'rayon': 1005, 'muscular': 1006, 'lays': 1007, 'styles': 1008, 'disappoint': 1009, 'weigh': 1010, 'effect': 1011, 'strapless': 1012, 'woman': 1013, 'pulling': 1014, 'dots': 1015, 'occasions': 1016, '36d': 1017, 'difference': 1018, 'olive': 1019, 'hate': 1020, 'awful': 1021, 'tuck': 1022, 'scarf': 1023, 'outside': 1024, 'types': 1025, '145': 1026, 'weeks': 1027, '0p': 1028, 'busted': 1029, 'bathing': 1030, 'star': 1031, 'movement': 1032, \"would've\": 1033, 'giving': 1034, 'mostly': 1035, 'anywhere': 1036, 'fabrics': 1037, 'helps': 1038, 'peach': 1039, 'combination': 1040, 'keeps': 1041, 'romantic': 1042, 'boyfriend': 1043, 'pic': 1044, 'jersey': 1045, 'lost': 1046, 'negative': 1047, 'concerned': 1048, \"it's\": 1049, 'comfortably': 1050, 'warmer': 1051, 'turquoise': 1052, 'do': 1053, 'surprisingly': 1054, 'terrible': 1055, 'waistline': 1056, 'thanks': 1057, 'blend': 1058, 'thinner': 1059, 'beauty': 1060, 'choice': 1061, 'rolled': 1062, 'threads': 1063, 'interest': 1064, 'fix': 1065, 'attached': 1066, 'very': 1067, 'bc': 1068, 'pleasantly': 1069, 'suggest': 1070, 'currently': 1071, 'christmas': 1072, 'vintage': 1073, 'tone': 1074, 'initially': 1075, 'stores': 1076, 'dream': 1077, 'change': 1078, 'notice': 1079, 'whether': 1080, 'later': 1081, 'early': 1082, 'bother': 1083, 'turned': 1084, 'im': 1085, 'unusual': 1086, 'entire': 1087, 'adjustable': 1088, 'ruffles': 1089, 'overwhelming': 1090, 'pop': 1091, 'wrinkled': 1092, 'trip': 1093, 'construction': 1094, 'dd': 1095, 'trend': 1096, 'structure': 1097, 'compared': 1098, 'particular': 1099, 'hopefully': 1100, 'smooth': 1101, 'lavender': 1102, 'areas': 1103, 'become': 1104, 'combo': 1105, 'blouses': 1106, 'particularly': 1107, 'literally': 1108, 'exception': 1109, '16': 1110, 'tan': 1111, 'attention': 1112, 'as': 1113, 'problems': 1114, 'med': 1115, 'showed': 1116, 'weave': 1117, 'x': 1118, 'ties': 1119, 'xxsp': 1120, 'walk': 1121, 'event': 1122, 'teal': 1123, 'ton': 1124, 'breezy': 1125, 'seeing': 1126, 'lose': 1127, 'quickly': 1128, 'sending': 1129, 'hugs': 1130, 'designer': 1131, 'bill': 1132, 'post': 1133, 'bulk': 1134, 'errands': 1135, 'rack': 1136, 'occasion': 1137, 'owned': 1138, 'pocket': 1139, 'paid': 1140, 'set': 1141, 'edge': 1142, 'muted': 1143, 'upon': 1144, 'flared': 1145, 'leave': 1146, 'double': 1147, 'behind': 1148, 'gift': 1149, 'only': 1150, 'winner': 1151, 'nicer': 1152, 'taupe': 1153, 'faded': 1154, 'mom': 1155, 'perfection': 1156, 'sits': 1157, 'lounge': 1158, 'ish': 1159, 'roll': 1160, 'putting': 1161, 'bring': 1162, 'understand': 1163, 'contrast': 1164, 'carry': 1165, 'apart': 1166, 'are': 1167, 'pick': 1168, 'pics': 1169, 'shopping': 1170, 'options': 1171, 'mix': 1172, 'prints': 1173, 'saying': 1174, 'worry': 1175, 'rose': 1176, 'tailor': 1177, 'whim': 1178, 'brands': 1179, 'strap': 1180, 'drawn': 1181, 'support': 1182, 'appreciate': 1183, 'brighter': 1184, 'friends': 1185, 'exchanged': 1186, 'statement': 1187, 'bow': 1188, 'own': 1189, 'start': 1190, 'silver': 1191, 'waiting': 1192, 'shot': 1193, 'swimsuit': 1194, 'buttoned': 1195, 'realize': 1196, 'generous': 1197, 'moment': 1198, '33': 1199, 'flaws': 1200, 'number': 1201, 'sleeveless': 1202, 'shipping': 1203, 'personally': 1204, 'decide': 1205, 'center': 1206, 'crop': 1207, 'midi': 1208, '150': 1209, 'falling': 1210, 'cleavage': 1211, 'cuffs': 1212, '135lbs': 1213, 'actual': 1214, 'was': 1215, 'closure': 1216, 'washable': 1217, 'realized': 1218, '34dd': 1219, 'snap': 1220, 'thank': 1221, 'flower': 1222, 'cuff': 1223, 'sales': 1224, 'bummer': 1225, 'trouble': 1226, 'tied': 1227, 'inseam': 1228, 'lately': 1229, 'sturdy': 1230, 'instantly': 1231, 'ankles': 1232, 'flirty': 1233, 'lady': 1234, 'darling': 1235, 'hemmed': 1236, 'twist': 1237, 'constructed': 1238, 'flimsy': 1239, 'free': 1240, 'cloth': 1241, 'disappointment': 1242, 'yoga': 1243, 'asymmetrical': 1244, 'burgundy': 1245, 'honestly': 1246, 'allows': 1247, 'drapey': 1248, 'pilling': 1249, 'adding': 1250, 'basically': 1251, 'stone': 1252, 'dryer': 1253, 'trousers': 1254, 'hair': 1255, 'fully': 1256, 'exchanging': 1257, 'sleeved': 1258, '118': 1259, 'floor': 1260, 'wearable': 1261, 'started': 1262, '7': 1263, 'faux': 1264, 'holds': 1265, 'holding': 1266, 'detailed': 1267, '32dd': 1268, 'travel': 1269, 'bum': 1270, 'birthday': 1271, '32c': 1272, 'seriously': 1273, 'regret': 1274, 'figured': 1275, 'volume': 1276, 'revealing': 1277, 'pros': 1278, 'styled': 1279, 'opened': 1280, 'am': 1281, 'jewelry': 1282, 'funny': 1283, '00p': 1284, 'timeless': 1285, 'taste': 1286, 'dressier': 1287, 'boobs': 1288, 'vacation': 1289, 'properly': 1290, 'crotch': 1291, 'stuck': 1292, 'flair': 1293, '36dd': 1294, 'built': 1295, 'nearly': 1296, 'air': 1297, 'beware': 1298, 'striped': 1299, 'purchases': 1300, 'recommended': 1301, 'just': 1302, 'hour': 1303, 'working': 1304, 'require': 1305, 'if': 1306, 'pullover': 1307, 'standard': 1308, 'certainly': 1309, 'slouchy': 1310, 'offered': 1311, 'both': 1312, 'modest': 1313, 'ridiculous': 1314, 'helped': 1315, 'width': 1316, 'heel': 1317, 'course': 1318, 'liner': 1319, 'shift': 1320, 'sleep': 1321, 'breaker': 1322, 'softer': 1323, 'check': 1324, 'modern': 1325, 'events': 1326, 'of': 1327, 'yarn': 1328, 'gaping': 1329, 'hook': 1330, 'thru': 1331, 'rear': 1332, 'hte': 1333, 'placement': 1334, '24': 1335, 'accurate': 1336, 'cling': 1337, 'altered': 1338, 'late': 1339, 'polka': 1340, 'warmth': 1341, 'exposed': 1342, 'cords': 1343, 'chunky': 1344, 'voluminous': 1345, 'six': 1346, '31': 1347, 'happened': 1348, 'sophisticated': 1349, 'softness': 1350, 'mention': 1351, 'boho': 1352, 'colorful': 1353, 'non': 1354, 'breathable': 1355, 'fuller': 1356, 'possible': 1357, 'cashmere': 1358, 'bonus': 1359, \"retailer's\": 1360, 'ft': 1361, 'avoid': 1362, '2p': 1363, 'hemline': 1364, 'feature': 1365, 'miss': 1366, 'pulls': 1367, 'metallic': 1368, 'hug': 1369, 'catalog': 1370, 'age': 1371, \"weren't\": 1372, 'sitting': 1373, 'kimono': 1374, 'discount': 1375, 'materials': 1376, 'stop': 1377, 'oddly': 1378, 'cost': 1379, 'plum': 1380, 'myself': 1381, '120lbs': 1382, 'sp': 1383, 'instructions': 1384, 'empire': 1385, '34a': 1386, 'gap': 1387, 'softest': 1388, 'casually': 1389, 'beyond': 1390, 'downside': 1391, 'chinos': 1392, 'spend': 1393, \"it'll\": 1394, 'eyeing': 1395, 'polished': 1396, 'shame': 1397, 'd': 1398, 'disagree': 1399, 'considered': 1400, 'passed': 1401, 'dye': 1402, 'business': 1403, 'accessories': 1404, 'hours': 1405, 'background': 1406, 'impressed': 1407, 'calf': 1408, 'retro': 1409, 'mother': 1410, 'closed': 1411, 'cowl': 1412, 'spandex': 1413, 'mean': 1414, 'ultimately': 1415, '32d': 1416, 'socks': 1417, 'designs': 1418, 'somehow': 1419, 'alternative': 1420, 'complements': 1421, 'crisp': 1422, 'flaw': 1423, 'takes': 1424, 'call': 1425, 'month': 1426, 'while': 1427, '130lbs': 1428, 'possibly': 1429, 'rarely': 1430, 'mixed': 1431, 'legging': 1432, 'coloring': 1433, 'colder': 1434, 'snaps': 1435, 'chambray': 1436, 'walked': 1437, 'fringe': 1438, 'sheen': 1439, 'cardi': 1440, 'measurements': 1441, 'drawstring': 1442, 'called': 1443, 'luxurious': 1444, 'label': 1445, 'fyi': 1446, 'fair': 1447, 'heat': 1448, 'mustard': 1449, 'grab': 1450, 'drop': 1451, 'level': 1452, 'same': 1453, 'draped': 1454, 'slimmer': 1455, 'suede': 1456, 'concern': 1457, '4p': 1458, 'happier': 1459, 'formal': 1460, '115lbs': 1461, 'obsessed': 1462, '30dd': 1463, 'main': 1464, 'waited': 1465, 'cycle': 1466, 'waste': 1467, '105': 1468, 'luckily': 1469, 'minutes': 1470, 'enjoy': 1471, 'scoop': 1472, 'unlined': 1473, 'positive': 1474, 'rib': 1475, 'hidden': 1476, 'lucky': 1477, 'xsmall': 1478, 'bummed': 1479, \"5'11\": 1480, 'badly': 1481, 'closer': 1482, 'smell': 1483, 'visible': 1484, 'split': 1485, 'liking': 1486, 'comments': 1487, 'lack': 1488, 'ripped': 1489, 'choose': 1490, 'general': 1491, 'fold': 1492, 'versatility': 1493, 'panel': 1494, 'asked': 1495, 'box': 1496, 'dried': 1497, 'minute': 1498, 'snagged': 1499, 'textured': 1500, 'breasts': 1501, 'hei': 1502, 'funky': 1503, 'inner': 1504, 'cross': 1505, 'bunch': 1506, 'preferred': 1507, 'using': 1508, 'tricky': 1509, 'bohemian': 1510, 'adjust': 1511, 'flatters': 1512, 'walking': 1513, '32b': 1514, 'concept': 1515, 'florida': 1516, 'hood': 1517, 'cups': 1518, 'searching': 1519, 'at': 1520, 'outer': 1521, 'fur': 1522, 'additional': 1523, 'therefore': 1524, 'conservative': 1525, 'y': 1526, 'trendy': 1527, 'wise': 1528, 'art': 1529, 'four': 1530, 'write': 1531, 'matter': 1532, 'loosely': 1533, 'whatever': 1534, 'alas': 1535, 'pregnancy': 1536, 'amp': 1537, 'crochet': 1538, 'correct': 1539, 'missing': 1540, 'single': 1541, 'blousy': 1542, 'ideal': 1543, 'edges': 1544, 'holidays': 1545, 'tempted': 1546, 'ride': 1547, 'professional': 1548, 'hands': 1549, 'held': 1550, 'outfits': 1551, 'grabbed': 1552, 'slacks': 1553, 'fast': 1554, 'zipped': 1555, 'about': 1556, '125lbs': 1557, 'placed': 1558, 'gal': 1559, 'suits': 1560, 'risk': 1561, 'foot': 1562, 'joggers': 1563, 'loving': 1564, 'expectations': 1565, 'contrasting': 1566, 'per': 1567, 'reminds': 1568, 'iron': 1569, 'luck': 1570, 'sparkle': 1571, 'proportions': 1572, 'bumps': 1573, 'range': 1574, '9': 1575, 'fancy': 1576, 're': 1577, 'armpit': 1578, 'rough': 1579, 'dot': 1580, 'comment': 1581, 'shower': 1582, 'boring': 1583, 'striking': 1584, 'con': 1585, 'mauve': 1586, 'variety': 1587, 'arrive': 1588, 'splurge': 1589, 'once': 1590, 'laid': 1591, 'biggest': 1592, 'sell': 1593, 'panels': 1594, 'spots': 1595, 'ribbon': 1596, 'snags': 1597, 'sz': 1598, 'within': 1599, 'does': 1600, 'loves': 1601, 'customer': 1602, 'cons': 1603, 'ruching': 1604, 'some': 1605, 'lift': 1606, 'thickness': 1607, 'tanks': 1608, 'opted': 1609, 'younger': 1610, 'parts': 1611, 'weekends': 1612, 'lounging': 1613, 'compliment': 1614, 'rust': 1615, 'flannel': 1616, 'wrist': 1617, 'tones': 1618, 'ends': 1619, 'sooo': 1620, 'aware': 1621, 'pleat': 1622, 'fresh': 1623, 'lean': 1624, 'allow': 1625, 'pajama': 1626, 'pajamas': 1627, 'below': 1628, 'sense': 1629, 'stays': 1630, 'woven': 1631, 'stretches': 1632, 'matching': 1633, 'cardigans': 1634, 'f': 1635, 'justify': 1636, 'shiny': 1637, 'booty': 1638, 'worse': 1639, 'potential': 1640, 'paige': 1641, 'kids': 1642, 'rare': 1643, 'described': 1644, \"5'0\": 1645, 'third': 1646, '36b': 1647, 'experience': 1648, 'hi': 1649, 'square': 1650, 'penny': 1651, 'belted': 1652, 'poorly': 1653, 'certain': 1654, 'sensitive': 1655, 'fashion': 1656, 'site': 1657, 'smallest': 1658, 'skims': 1659, 'decent': 1660, 'friend': 1661, 'constantly': 1662, 'noticeable': 1663, 'cage': 1664, 'planning': 1665, 'wonder': 1666, 'puffy': 1667, 'obviously': 1668, 'tshirt': 1669, 'image': 1670, 'models': 1671, 'job': 1672, 'then': 1673, 'matches': 1674, 'ease': 1675, 'transitional': 1676, 'five': 1677, 'quirky': 1678, 'recent': 1679, 'beads': 1680, 'california': 1681, 'appearance': 1682, 'gathered': 1683, 'peasant': 1684, 'semi': 1685, 'intricate': 1686, 'can': 1687, 'distressed': 1688, 'followed': 1689, 'accommodate': 1690, 'flops': 1691, 'enormous': 1692, 'willing': 1693, 'e': 1694, 'receiving': 1695, 'ribbed': 1696, 'dolman': 1697, 'self': 1698, 'drawback': 1699, 'terms': 1700, 'tends': 1701, 'chilly': 1702, 'vivid': 1703, 'armpits': 1704, 'pin': 1705, 'wanting': 1706, 'earlier': 1707, 'patterned': 1708, 'nervous': 1709, 'shimmer': 1710, 'became': 1711, 'gentle': 1712, 'create': 1713, 'rompers': 1714, 'mess': 1715, 'stylist': 1716, 'skinnies': 1717, 'hugging': 1718, 'kinda': 1719, 'traditional': 1720, 'durable': 1721, 'resist': 1722, 'flip': 1723, 'breast': 1724, 'awhile': 1725, 'happen': 1726, '50': 1727, 'charcoal': 1728, 'capris': 1729, 'swim': 1730, 'indeed': 1731, 'stitched': 1732, 'practical': 1733, 'sorry': 1734, 'midsection': 1735, 'bunched': 1736, 'amazingly': 1737, 'they': 1738, 'mock': 1739, 'raw': 1740, 'pairing': 1741, 'robe': 1742, 'gals': 1743, 'doubt': 1744, 'whimsical': 1745, 'boy': 1746, 'bump': 1747, 'ruined': 1748, 'horrible': 1749, 'commented': 1750, 'cause': 1751, 'including': 1752, 'pleated': 1753, 'begin': 1754, 'decision': 1755, 'summery': 1756, 'obvious': 1757, 'soooo': 1758, 'curvier': 1759, 'hesitate': 1760, 'mirror': 1761, 'nights': 1762, 'play': 1763, 'shop': 1764, 'ironing': 1765, 'figures': 1766, 'catching': 1767, '140lbs': 1768, 'attracted': 1769, 'tulle': 1770, 'leaving': 1771, 'boiled': 1772, 'cuts': 1773, \"could've\": 1774, 'seamstress': 1775, 'terribly': 1776, 'fullness': 1777, 'tailoring': 1778, '37': 1779, 'major': 1780, 'mark': 1781, 'necessary': 1782, \"they'd\": 1783, 'provide': 1784, 'effortless': 1785, 'original': 1786, 'sight': 1787, 'features': 1788, 'steal': 1789, 'balance': 1790, 'spare': 1791, 'cleaning': 1792, 'pure': 1793, 'backside': 1794, 'cape': 1795, 'incredible': 1796, 'draping': 1797, 'creates': 1798, 'complaints': 1799, 'strong': 1800, 'complimented': 1801, 'accentuates': 1802, 'crossed': 1803, 'hemming': 1804, 'hitting': 1805, 'young': 1806, 'autumn': 1807, 'view': 1808, 'trench': 1809, 'cutouts': 1810, 'mistake': 1811, 'frayed': 1812, 'byron': 1813, 'stands': 1814, 'burnt': 1815, 'missed': 1816, 'meet': 1817, 'fat': 1818, '138': 1819, 'checked': 1820, 'assumed': 1821, '15': 1822, 'easier': 1823, 'tunics': 1824, \"model's\": 1825, 'halter': 1826, 'n': 1827, '128': 1828, 'advice': 1829, 'town': 1830, 'name': 1831, 'fingers': 1832, 'provides': 1833, 'parties': 1834, 'reese': 1835, 'underwear': 1836, 'culottes': 1837, '6p': 1838, 'imo': 1839, 'torn': 1840, 'printed': 1841, 'favorites': 1842, 'edgy': 1843, 'yay': 1844, 'horses': 1845, 'cinched': 1846, 'eyes': 1847, 'stretching': 1848, 'sneakers': 1849, 'weddings': 1850, 'neither': 1851, 'clearly': 1852, 'personal': 1853, 'ridiculously': 1854, 'functional': 1855, 'cap': 1856, 'flutter': 1857, 'fixed': 1858, 'raspberry': 1859, 'sky': 1860, 'priced': 1861, 'impossible': 1862, 'brunch': 1863, 'string': 1864, 'jsut': 1865, 'calves': 1866, 'wondering': 1867, 'reasons': 1868, 'evenings': 1869, 'closely': 1870, 'summers': 1871, 'heart': 1872, 'tracy': 1873, 'accentuate': 1874, 'turn': 1875, 'elbow': 1876, 'describe': 1877, 'ready': 1878, 'mint': 1879, 'correctly': 1880, 'promo': 1881, 'upcoming': 1882, 'appealing': 1883, 'unbuttoned': 1884, 'mesh': 1885, 'remove': 1886, 'why': 1887, 'under': 1888, 'lars': 1889, 'shipped': 1890, 'pleating': 1891, 'sequins': 1892, 'texas': 1893, 'stopped': 1894, 'struggle': 1895, 'nature': 1896, 'cutest': 1897, 'ill': 1898, 'wants': 1899, 'debating': 1900, 'happens': 1901, 'plunge': 1902, 'zippers': 1903, 'tough': 1904, 'moving': 1905, 'strangely': 1906, 'swallowed': 1907, 'suppose': 1908, 'debated': 1909, 'unexpected': 1910, 'forever': 1911, 'pill': 1912, 'ahead': 1913, 'coats': 1914, 'what': 1915, 'lol': 1916, 'towards': 1917, 'uneven': 1918, 'future': 1919, 'jumper': 1920, 'sister': 1921, 'appeared': 1922, 'reality': 1923, 'cant': 1924, 'hue': 1925, 'cuffed': 1926, 'knitted': 1927, 'anticipated': 1928, 'listed': 1929, 'minor': 1930, 'because': 1931, 'sm': 1932, 'excess': 1933, 'ps': 1934, 'pinned': 1935, 'eyelet': 1936, 'corduroy': 1937, 'moves': 1938, 'suggested': 1939, 'unsure': 1940, 'church': 1941, 'poofy': 1942, 'folded': 1943, 'friday': 1944, 'muffin': 1945, 'bras': 1946, 'suited': 1947, 'awkwardly': 1948, 'raise': 1949, 'worst': 1950, 'rip': 1951, 'shapes': 1952, 'traveling': 1953, \"they'll\": 1954, 'deciding': 1955, 'creating': 1956, 'known': 1957, 'required': 1958, 'jumpsuits': 1959, 'cinch': 1960, 'tassels': 1961, 'reminded': 1962, 'older': 1963, 'significantly': 1964, 'tapered': 1965, 'between': 1966, 'shortened': 1967, 'knowing': 1968, 'saturated': 1969, 'stuff': 1970, 'bold': 1971, 'family': 1972, 'quick': 1973, 'imagined': 1974, 'vs': 1975, 'paying': 1976, 'brought': 1977, 'ti': 1978, 'drying': 1979, 'space': 1980, 'mainly': 1981, 'service': 1982, 'toned': 1983, 'finished': 1984, 'humid': 1985, 'busy': 1986, 'step': 1987, 'armhole': 1988, 'had': 1989, 'zero': 1990, 'reordered': 1991, 'stitch': 1992, 'combined': 1993, 'ha': 1994, 'uniqueness': 1995, 'factor': 1996, 'wrists': 1997, 'gaps': 1998, 'skimming': 1999, 'appeal': 2000, 'wished': 2001, 'total': 2002, 'definite': 2003, '160': 2004, 'relatively': 2005, 'current': 2006, 'thus': 2007, 'ample': 2008, 'entirely': 2009, 'hesitated': 2010, 'school': 2011, 'itself': 2012, '108': 2013, 'pops': 2014, 'boot': 2015, 'charming': 2016, 'curve': 2017, 'above': 2018, 'transparent': 2019, 'onto': 2020, 'knot': 2021, 'turns': 2022, 'undergarments': 2023, 'teacher': 2024, 'itch': 2025, 'fuzzy': 2026, 'removed': 2027, 'unfortunate': 2028, 'wi': 2029, 'warned': 2030, 'accurately': 2031, 'chiffon': 2032, 'morning': 2033, 'sleek': 2034, 'toward': 2035, 'spotted': 2036, 'fear': 2037, 'shrinkage': 2038, 'anymore': 2039, 'associate': 2040, 'ironed': 2041, 'before': 2042, 'understated': 2043, 'tired': 2044, 'finish': 2045, 'prepared': 2046, 'besides': 2047, 'dusty': 2048, 'suspect': 2049, '145lbs': 2050, 'imperfections': 2051, \"hadn't\": 2052, 'various': 2053, 'tucking': 2054, 'aesthetic': 2055, 'compare': 2056, 'key': 2057, 'win': 2058, 'list': 2059, 'sheath': 2060, 'alterations': 2061, 'undone': 2062, 'pxs': 2063, 'blush': 2064, \"it'd\": 2065, 'requires': 2066, 'bronze': 2067, 'giant': 2068, 'pushed': 2069, 'loops': 2070, 'thankfully': 2071, 'sat': 2072, 'depicted': 2073, \"what's\": 2074, 'textures': 2075, 'hoodie': 2076, 'bunching': 2077, 'acrylic': 2078, 'break': 2079, 'shades': 2080, 'told': 2081, 'broke': 2082, 'ordinary': 2083, 'according': 2084, 'cleaned': 2085, 'h': 2086, 'multi': 2087, 'sparkly': 2088, 'stevie': 2089, 'control': 2090, 'maroon': 2091, 'collection': 2092, 'cocktail': 2093, 'delighted': 2094, 'ultra': 2095, 'smalls': 2096, 'exact': 2097, 'confident': 2098, 'shocked': 2099, 'ground': 2100, 'accentuated': 2101, 'mini': 2102, 'leaves': 2103, 'sewing': 2104, 'regarding': 2105, 'south': 2106, 'absolute': 2107, 'purpose': 2108, '110lbs': 2109, 'somewhere': 2110, 'blah': 2111, 'her': 2112, '117': 2113, 'touches': 2114, 'draw': 2115, 'wrinkly': 2116, 'nightgown': 2117, 'matronly': 2118, 'carefully': 2119, 'sweat': 2120, 'sew': 2121, 'lo': 2122, 'tear': 2123, 'shed': 2124, 'holly': 2125, 'hardly': 2126, 'world': 2127, 'fragile': 2128, 'character': 2129, 'inspired': 2130, 'conscious': 2131, 'endowed': 2132, 'lunch': 2133, 'regardless': 2134, 'prone': 2135, \"5'4''\": 2136, 'blanket': 2137, 'silly': 2138, 'def': 2139, 'fashionable': 2140, 'boo': 2141, 'broader': 2142, 'important': 2143, 'usa': 2144, 'yoke': 2145, 'openings': 2146, 'becoming': 2147, '60': 2148, 'definition': 2149, 'generously': 2150, 'shrinks': 2151, 'mango': 2152, 'vests': 2153, 'intended': 2154, 'accents': 2155, 'complete': 2156, 'push': 2157, 'gauzy': 2158, 'save': 2159, 'numerous': 2160, 'workout': 2161, 'bend': 2162, 'elegance': 2163, 'hint': 2164, 'tightly': 2165, 'standing': 2166, 'fill': 2167, 'knotted': 2168, 'vegan': 2169, 'images': 2170, 'word': 2171, 'drew': 2172, 'crops': 2173, 'bridal': 2174, 'shorten': 2175, 'chemise': 2176, 'ruffled': 2177, 'khaki': 2178, \"70's\": 2179, 'lumps': 2180, 'base': 2181, 'included': 2182, 'shimmery': 2183, 'bikini': 2184, 'dirty': 2185, 'class': 2186, 'chart': 2187, 'strings': 2188, 'most': 2189, 'watch': 2190, 'tighten': 2191, 'misleading': 2192, 'consistent': 2193, 'pumps': 2194, 'vertical': 2195, 'gauze': 2196, 'spent': 2197, 'wedge': 2198, 'needless': 2199, 'fleece': 2200, 'aside': 2201, 'illusion': 2202, 'unfinished': 2203, 'die': 2204, 'peek': 2205, 'untucked': 2206, 'bomber': 2207, 'losing': 2208, 'customers': 2209, 'rehearsal': 2210, 'sun': 2211, 'deeper': 2212, 'drab': 2213, 'hyphen': 2214, 'strappy': 2215, 'sports': 2216, 'equally': 2217, 'temps': 2218, 'consistently': 2219, 'opposed': 2220, 'spending': 2221, 'lilac': 2222, 'caused': 2223, 'sheerness': 2224, 'notch': 2225, 'oversize': 2226, 'dolan': 2227, 'ribbing': 2228, 'lint': 2229, 'prior': 2230, 'starts': 2231, '155': 2232, 'platform': 2233, 'accent': 2234, 'poly': 2235, 'superb': 2236, 'opaque': 2237, 'gapping': 2238, 'eventually': 2239, 'stayed': 2240, 'shrank': 2241, 'overlay': 2242, 'hiding': 2243, 'blazers': 2244, 'stain': 2245, 'saggy': 2246, 'transitioning': 2247, 'window': 2248, '44': 2249, 'keyhole': 2250, 'beneath': 2251, 'products': 2252, 'other': 2253, 'nylon': 2254, 'cartonnier': 2255, 'million': 2256, 'none': 2257, 'threw': 2258, '34f': 2259, 'seaming': 2260, 'treat': 2261, 'anyways': 2262, 'skeptical': 2263, 'writing': 2264, 'degree': 2265, 'moth': 2266, 'preference': 2267, 'investment': 2268, 'heeled': 2269, 'paris': 2270, 'meets': 2271, 'value': 2272, 'helpful': 2273, 'lie': 2274, 'overpriced': 2275, 'search': 2276, 'wasted': 2277, 'bunches': 2278, 'changed': 2279, '112': 2280, 'rating': 2281, 'u': 2282, 'arrival': 2283, 'roomier': 2284, 'la': 2285, 'gathers': 2286, 'bare': 2287, 'horizontal': 2288, 'shouldered': 2289, 'annoying': 2290, 'asap': 2291, 'snugly': 2292, 'j': 2293, '34ddd': 2294, 'catch': 2295, 'complimentary': 2296, 'gape': 2297, 'dreamy': 2298, 'states': 2299, 'likes': 2300, 'dull': 2301, 'speak': 2302, 'proportion': 2303, 'sag': 2304, 'fault': 2305, 'unwearable': 2306, 'clear': 2307, 'display': 2308, 'charm': 2309, 'has': 2310, 'staying': 2311, 'pjs': 2312, 'interior': 2313, 'aqua': 2314, 'poof': 2315, 'effort': 2316, '90': 2317, 'spectacular': 2318, 'heathered': 2319, 'padding': 2320, 'company': 2321, 'overwhelmed': 2322, 'opposite': 2323, 'apple': 2324, 'dance': 2325, 'swings': 2326, 'drag': 2327, \"one's\": 2328, 'deletta': 2329, '128lbs': 2330, 'spanx': 2331, 'gathering': 2332, 'tha': 2333, 'adjusting': 2334, 'static': 2335, 'uniform': 2336, 'outs': 2337, 'don': 2338, 'man': 2339, 'hippy': 2340, 'peachy': 2341, 'duster': 2342, 'bordeaux': 2343, 'challenge': 2344, 'workmanship': 2345, 'princess': 2346, 'discovered': 2347, 'bothered': 2348, 'public': 2349, 'mp': 2350, 'whatsoever': 2351, 'pool': 2352, 'variations': 2353, 'ask': 2354, 'meadow': 2355, 'admit': 2356, 'placket': 2357, 'convinced': 2358, 'bib': 2359, 'listened': 2360, 'terrific': 2361, 'warning': 2362, 'gently': 2363, 'gown': 2364, 'g': 2365, '36ddd': 2366, 'taper': 2367, 'overwhelm': 2368, 'practically': 2369, '11': 2370, 'baggier': 2371, 'darn': 2372, '8p': 2373, 'brings': 2374, 'unraveling': 2375, 'crooked': 2376, 'hd': 2377, 'clinging': 2378, 'book': 2379, 'apparent': 2380, 'cheaper': 2381, 'advertised': 2382, 'from': 2383, 'guessing': 2384, 'comparison': 2385, 'capri': 2386, 'garments': 2387, 'common': 2388, 'reach': 2389, 'unattractive': 2390, 'slide': 2391, 'appreciated': 2392, 'brocade': 2393, 'blues': 2394, 'sucker': 2395, 'climate': 2396, 'fraying': 2397, 'rotation': 2398, '99': 2399, 'rock': 2400, 'directions': 2401, 'sticks': 2402, 'undershirt': 2403, 'weirdly': 2404, 'stats': 2405, 'massive': 2406, 'content': 2407, 'whenever': 2408, 'environment': 2409, 'fl': 2410, 'adjusted': 2411, 'fluid': 2412, '2nd': 2413, 'car': 2414, 'cobalt': 2415, '5ft': 2416, 'cutout': 2417, 'paper': 2418, 'setting': 2419, 'salmon': 2420, 'gem': 2421, 'halfway': 2422, 'result': 2423, 'hence': 2424, \"6'\": 2425, 'offer': 2426, 'block': 2427, 'fiber': 2428, 'phone': 2429, 'r': 2430, 'rue': 2431, 'straighter': 2432, 'solved': 2433, 'postpartum': 2434, 'nonetheless': 2435, 'outdoor': 2436, 'wiggle': 2437, 'adn': 2438, 'plastic': 2439, 'topper': 2440, 'buttery': 2441, 'shell': 2442, 'piping': 2443, 'mannequin': 2444, 'teeny': 2445, 'lacy': 2446, 'wrote': 2447, 'wrapped': 2448, 'bustier': 2449, 'unbutton': 2450, 'apparently': 2451, 'specifically': 2452, 'park': 2453, 'created': 2454, 'fo': 2455, 'necessarily': 2456, 'poofs': 2457, 'doll': 2458, 'dowdy': 2459, 'pre': 2460, 'divine': 2461, 'causing': 2462, 'after': 2463, 'depth': 2464, 'secure': 2465, 'offers': 2466, 'overlook': 2467, 'versions': 2468, 'photograph': 2469, 'potato': 2470, 'wraps': 2471, 'depends': 2472, 'gigantic': 2473, 'reviewed': 2474, 'gym': 2475, 'synthetic': 2476, 'emphasized': 2477, 'percent': 2478, 'ages': 2479, 'variation': 2480, 'caution': 2481, 'co': 2482, '95': 2483, 'tho': 2484, 'defective': 2485, 'festive': 2486, 'flap': 2487, 'shoe': 2488, 'sleeping': 2489, '127': 2490, 'pointed': 2491, 'snuggly': 2492, 'bulges': 2493, \"we'll\": 2494, 'achieve': 2495, \"here's\": 2496, 'moto': 2497, 'prevent': 2498, 'posted': 2499, 'covering': 2500, 'heads': 2501, 'cheaply': 2502, '32a': 2503, 'honest': 2504, 'interested': 2505, 'sheds': 2506, 'intrigued': 2507, 'emphasize': 2508, 'rolls': 2509, 'girly': 2510, 'shirtdress': 2511, 'goodness': 2512, 'slips': 2513, 'zips': 2514, 'daytime': 2515, 'previously': 2516, 'birds': 2517, 'such': 2518, \"they've\": 2519, 'constricting': 2520, 'legged': 2521, 'toe': 2522, 'execution': 2523, 'neat': 2524, 'pilled': 2525, 'screen': 2526, '122': 2527, 'featured': 2528, 'broken': 2529, 'sooooo': 2530, 'bustline': 2531, 'creative': 2532, 'palette': 2533, 'trapeze': 2534, 'essential': 2535, 'outstanding': 2536, 'precious': 2537, 'boxier': 2538, 'saturday': 2539, 'fluffy': 2540, 'blonde': 2541, 'significant': 2542, 'jeggings': 2543, 'vary': 2544, 'frilly': 2545, '103': 2546, 'nursing': 2547, 'basics': 2548, \"dind't\": 2549, 'hawaii': 2550, 'golden': 2551, 'abt': 2552, 'profile': 2553, 'dont': 2554, 'complexion': 2555, 'touched': 2556, 'sunday': 2557, 'dramatic': 2558, 'clings': 2559, 'visit': 2560, 'emphasizes': 2561, 'cutting': 2562, 'skort': 2563, 'ca': 2564, 'scalloped': 2565, 'living': 2566, 'reversible': 2567, 'delivered': 2568, 'differently': 2569, 'lingerie': 2570, 'pooch': 2571, '134': 2572, 'bralette': 2573, 'example': 2574, 'popped': 2575, 'title': 2576, 'elbows': 2577, 'sea': 2578, 'padded': 2579, 'sharp': 2580, 'lover': 2581, 'ballet': 2582, 'detachable': 2583, 'displayed': 2584, 'snatched': 2585, 'removable': 2586, 'stood': 2587, 'fab': 2588, 'scared': 2589, 'minimal': 2590, 'visual': 2591, 'curious': 2592, 'confused': 2593, 'carried': 2594, 'pilcros': 2595, 'stained': 2596, 'desired': 2597, 'simplicity': 2598, \"5'8''\": 2599, 'coverup': 2600, 'ugly': 2601, 'li': 2602, 'separate': 2603, 'hunt': 2604, 'greenish': 2605, 'nope': 2606, \"year's\": 2607, 'ddd': 2608, \"60's\": 2609, 'glass': 2610, '70s': 2611, 'bone': 2612, 'balloon': 2613, 'exceptionally': 2614, 'flairs': 2615, 'till': 2616, '38c': 2617, 'dancing': 2618, 'trick': 2619, 'loop': 2620, 'pleasant': 2621, 'amazed': 2622, 'shut': 2623, 'specific': 2624, 'easter': 2625, 'lastly': 2626, 'italy': 2627, 'random': 2628, 'function': 2629, 'ribcage': 2630, 'slate': 2631, 'promotion': 2632, 'impeccable': 2633, 'bed': 2634, 'warms': 2635, 'heals': 2636, 'charlie': 2637, 'alot': 2638, 'copper': 2639, 'artistic': 2640, 'teh': 2641, 'southern': 2642, 'mediums': 2643, 'selling': 2644, 'folds': 2645, 'sash': 2646, 'decorative': 2647, 'picky': 2648, 'restrictive': 2649, 'snapped': 2650, 'causal': 2651, 'dips': 2652, 'manner': 2653, 'washer': 2654, 'throwing': 2655, 'matched': 2656, 'becomes': 2657, 'men': 2658, 'forest': 2659, 'carries': 2660, 'grabbing': 2661, '170': 2662, 'pinkish': 2663, 'bet': 2664, 'north': 2665, 'snagging': 2666, 'effortlessly': 2667, 'personality': 2668, 'planned': 2669, 'will': 2670, 'shaping': 2671, 'wings': 2672, 'trouser': 2673, 'tightness': 2674, 'droopy': 2675, 'proportioned': 2676, 'meaning': 2677, 'fray': 2678, 'july': 2679, 'enhance': 2680, 'irl': 2681, 'dip': 2682, 'viscose': 2683, 'strangers': 2684, 'stains': 2685, 'damaged': 2686, 'tangerine': 2687, 'diagonal': 2688, 'floppy': 2689, 'dumpy': 2690, 'royal': 2691, 'shedding': 2692, 'slightest': 2693, 'wind': 2694, 'yikes': 2695, 'balloons': 2696, 'shawl': 2697, 'quot': 2698, 'tissue': 2699, 'reaching': 2700, 'carbon': 2701, 'raised': 2702, 'virtually': 2703, 'test': 2704, 'bandeau': 2705, 'attire': 2706, 'contemporary': 2707, 'ruched': 2708, '116': 2709, 'panty': 2710, 'undecided': 2711, 'allowing': 2712, 'replace': 2713, 'overalls': 2714, 'lets': 2715, 'soo': 2716, 'following': 2717, 'fading': 2718, 'defined': 2719, 'breathe': 2720, 'distracting': 2721, 'ruin': 2722, 'lazy': 2723, 'exquisite': 2724, 'beaded': 2725, 'graduation': 2726, 'bailey': 2727, 'splurged': 2728, 'jumped': 2729, 'makeup': 2730, 'useful': 2731, 'surprising': 2732, 'fir': 2733, '107': 2734, 'si': 2735, 'distressing': 2736, 'fussy': 2737, 'earrings': 2738, 'acceptable': 2739, 'friendly': 2740, 'mornings': 2741, 'buttoning': 2742, 'detergent': 2743, 'largest': 2744, 'darts': 2745, 'ref': 2746, 'packaging': 2747, 'bones': 2748, 'midriff': 2749, 'thanksgiving': 2750, 'fly': 2751, 'hated': 2752, 'accessorize': 2753, 'shrinking': 2754, 'naturally': 2755, 'thoughts': 2756, 'itching': 2757, '18': 2758, 'chesty': 2759, 'instant': 2760, 'flowed': 2761, 'anytime': 2762, 'neon': 2763, '126': 2764, 'marked': 2765, 'lightly': 2766, 'triangle': 2767, 'irritating': 2768, 'cheerful': 2769, 'hugged': 2770, 'costume': 2771, 'flounce': 2772, 'circle': 2773, 'brick': 2774, 'ripping': 2775, 'possibilities': 2776, 'fortunately': 2777, 'emerald': 2778, 'richer': 2779, \"mother's\": 2780, \"isn't\": 2781, 'twisted': 2782, 'sticking': 2783, 'rate': 2784, 'ball': 2785, 'winters': 2786, 'partially': 2787, 'eve': 2788, 'sells': 2789, 'ugh': 2790, 'table': 2791, 'citizens': 2792, 'riding': 2793, 'began': 2794, 'rides': 2795, 'hems': 2796, 'ups': 2797, 'wondered': 2798, 'ribs': 2799, 'bird': 2800, 'k': 2801, 'stitches': 2802, 'alteration': 2803, 'limited': 2804, 'uses': 2805, 'ten': 2806, 'lush': 2807, 'military': 2808, 'periwinkle': 2809, 'country': 2810, 'squeeze': 2811, 'border': 2812, 'continue': 2813, 'handle': 2814, 'slub': 2815, 'reddish': 2816, 'satisfied': 2817, 'heavenly': 2818, 'camel': 2819, 'complain': 2820, 'boob': 2821, 'elsewhere': 2822, 'indoors': 2823, 'opt': 2824, '155lbs': 2825, 'scheme': 2826, 'rolling': 2827, 'expose': 2828, 'exceptional': 2829, 'narrower': 2830, 'remember': 2831, 'horribly': 2832, 'aspect': 2833, 'brownish': 2834, 'starting': 2835, 'grandma': 2836, 'measured': 2837, 'replacement': 2838, '132': 2839, 'netting': 2840, 'meh': 2841, 'o': 2842, 'slipping': 2843, 'secondly': 2844, '200': 2845, 'climates': 2846, 'complement': 2847, 'lbd': 2848, 'unraveled': 2849, 'measurement': 2850, 'sagging': 2851, 'honey': 2852, '114': 2853, 'rain': 2854, 'written': 2855, 'suitable': 2856, 'gained': 2857, 'bunchy': 2858, 'cocoon': 2859, 'element': 2860, 'rounder': 2861, 'unbelievably': 2862, 'underarms': 2863, 'exceeded': 2864, 'hooks': 2865, 'macrame': 2866, 'billowed': 2867, 'mild': 2868, 'city': 2869, 'hopeful': 2870, 'extreme': 2871, 'additionally': 2872, 'frames': 2873, 'oatmeal': 2874, 'bits': 2875, 'bubble': 2876, 'fav': 2877, 'clung': 2878, 'sets': 2879, 'lookout': 2880, 'purse': 2881, 'changes': 2882, 'contemplating': 2883, 'cowboy': 2884, 'colorway': 2885, 'exclusive': 2886, 'alter': 2887, 'indigo': 2888, 'thats': 2889, 'differences': 2890, 'supportive': 2891, '3rd': 2892, 'happily': 2893, 'lengths': 2894, 'fave': 2895, 'chino': 2896, 'rounded': 2897, 'ability': 2898, '150lbs': 2899, 'dislike': 2900, 'smocking': 2901, 'west': 2902, 'frustrating': 2903, 'hat': 2904, 'eat': 2905, 'craftsmanship': 2906, 'upset': 2907, '136': 2908, 'offering': 2909, 'bias': 2910, 'breath': 2911, 'poplin': 2912, 'cable': 2913, 'seat': 2914, '123': 2915, 'unstructured': 2916, 'lapels': 2917, 'words': 2918, 'cools': 2919, 'impression': 2920, 'metal': 2921, 'theory': 2922, 'colour': 2923, 'serious': 2924, 'poofed': 2925, 'knits': 2926, \"woman's\": 2927, 'canvas': 2928, 'dollars': 2929, 'floreat': 2930, 'heather': 2931, 'enhances': 2932, 'cleaners': 2933, 'stiffer': 2934, 'disaster': 2935, 'gripe': 2936, 'those': 2937, 'fuzz': 2938, \"daughter's\": 2939, 'looseness': 2940, 'occasionally': 2941, 'quarter': 2942, 'st': 2943, 'striping': 2944, '25p': 2945, 'btw': 2946, 'thi': 2947, 'turtle': 2948, 'goddess': 2949, 'remind': 2950, 'proper': 2951, 'attend': 2952, 'should': 2953, 'mad': 2954, 'accidentally': 2955, 'pouch': 2956, 'albeit': 2957, 'happening': 2958, 'braless': 2959, 'college': 2960, 'underarm': 2961, 'engagement': 2962, 'web': 2963, '1st': 2964, 'backwards': 2965, 'manages': 2966, 'cranberry': 2967, 'gain': 2968, 'widest': 2969, 'afternoon': 2970, 'tweed': 2971, 'trust': 2972, 'brilliant': 2973, 'inset': 2974, 'jewel': 2975, 'worthy': 2976, 'pj': 2977, 'cat': 2978, 'tail': 2979, 'creamy': 2980, 'face': 2981, '32ddd': 2982, 'adequate': 2983, 'tags': 2984, 'state': 2985, 'steam': 2986, 'stet': 2987, 'slipped': 2988, '100lbs': 2989, 'wet': 2990, 'distinctive': 2991, 'june': 2992, 'basket': 2993, 'unravel': 2994, 'delight': 2995, 'question': 2996, 'opportunity': 2997, 'stuffed': 2998, 'wo': 2999, 'flesh': 3000, '34g': 3001, 'tea': 3002, 'shortness': 3003, 'moo': 3004, 'edging': 3005, 'curved': 3006, 'nyc': 3007, 'grayish': 3008, 'te': 3009, 'popping': 3010, 'french': 3011, 'appropriately': 3012, 'situation': 3013, 'criss': 3014, 'laces': 3015, 'pineapple': 3016, 'laundering': 3017, 'bizarre': 3018, 'computer': 3019, 'substance': 3020, 'elasticized': 3021, 'executed': 3022, 'child': 3023, 'skim': 3024, '113': 3025, 'uncomfortably': 3026, 'shrug': 3027, 'pills': 3028, 'bulge': 3029, 'modal': 3030, 'loosen': 3031, '27p': 3032, 'regularly': 3033, 'granted': 3034, 'flexible': 3035, 'caftan': 3036, 'coh': 3037, 'zipping': 3038, 'needing': 3039, 'resembles': 3040, 'asking': 3041, 'tacked': 3042, 'twill': 3043, 'reg': 3044, 'sagged': 3045, 'designers': 3046, 'army': 3047, 'overlooked': 3048, 'stevies': 3049, 'approx': 3050, 'gapes': 3051, 'grow': 3052, 'closes': 3053, 'truth': 3054, 'dog': 3055, 'banded': 3056, 'where': 3057, 'id': 3058, 'cart': 3059, 'board': 3060, 'active': 3061, 'kid': 3062, 'clasp': 3063, 'assume': 3064, 'slinky': 3065, 'frequently': 3066, 'sherpa': 3067, 'problematic': 3068, 'espadrilles': 3069, 'purposes': 3070, 'chests': 3071, 'playful': 3072, '142': 3073, 'crepe': 3074, 'chocolate': 3075, \"50's\": 3076, 'movie': 3077, 'noticeably': 3078, '5ft2in': 3079, 'sigh': 3080, 'soften': 3081, 'shy': 3082, 'breathtaking': 3083, 'sewed': 3084, 'pressed': 3085, 'experienced': 3086, 'who': 3087, 'fail': 3088, 'puckered': 3089, 'tomorrow': 3090, 'elevenses': 3091, 'bringing': 3092, 'ensure': 3093, 'excessive': 3094, 'bucks': 3095, 'animal': 3096, 'hubby': 3097, 'plane': 3098, 'directly': 3099, 'strip': 3100, 'prob': 3101, '124': 3102, 'breathing': 3103, 'beginning': 3104, 'wee': 3105, 'exposing': 3106, 'blends': 3107, 'salesperson': 3108, 'belting': 3109, 'marled': 3110, 'lies': 3111, 'dropped': 3112, 'compelled': 3113, 'knows': 3114, 'modesty': 3115, 'billow': 3116, 'laundered': 3117, 'instagram': 3118, 'agreed': 3119, 'butter': 3120, 'didnt': 3121, 'headed': 3122, 'stunner': 3123, 'dreaded': 3124, 'beadwork': 3125, 'continues': 3126, 'count': 3127, 'weighs': 3128, 'heartbeat': 3129, 'accentuating': 3130, 'sa': 3131, '165': 3132, 'henley': 3133, 'clipped': 3134, 'breathes': 3135, 'clearance': 3136, 'update': 3137, 'affordable': 3138, 'fancier': 3139, 'biceps': 3140, 'satin': 3141, 'nowhere': 3142, 'eva': 3143, 'franco': 3144, 'rhinestones': 3145, 'hassle': 3146, '123lbs': 3147, \"let's\": 3148, 'fade': 3149, 'pain': 3150, 'crushed': 3151, 'forgot': 3152, 'reveal': 3153, 'bu': 3154, 'reasonable': 3155, '6ft': 3156, 'floaty': 3157, 'rid': 3158, 'technically': 3159, 'stumbled': 3160, 'door': 3161, 'reorder': 3162, 'adored': 3163, 'antro': 3164, 'wa': 3165, 'billows': 3166, 'tendency': 3167, 'prefect': 3168, 'gravitate': 3169, 'creases': 3170, 'causes': 3171, 'handy': 3172, 'lump': 3173, 'proportionate': 3174, 'altering': 3175, 'xspetite': 3176, 'underwhelmed': 3177, 'cottony': 3178, '32g': 3179, 'football': 3180, 'stating': 3181, 'centered': 3182, 'crocheted': 3183, 'define': 3184, 'scooped': 3185, 'lends': 3186, 'embellishment': 3187, 'criticism': 3188, 'results': 3189, 'scarves': 3190, 'downs': 3191, 'bland': 3192, 'updated': 3193, 'haha': 3194, 'bough': 3195, 'bat': 3196, 'wing': 3197, '4th': 3198, 'tiered': 3199, 'flowey': 3200, 'fibers': 3201, 'shortening': 3202, 'when': 3203, 'discover': 3204, 'thrown': 3205, 'necklaces': 3206, 'contrary': 3207, 'surprises': 3208, 'summertime': 3209, 'skinnys': 3210, 'wld': 3211, 'endless': 3212, 'pilco': 3213, 'nautical': 3214, 'pet': 3215, 'importantly': 3216, 'bothersome': 3217, 'snow': 3218, 'bothers': 3219, 'graphic': 3220, 'popular': 3221, 'safe': 3222, 'tonight': 3223, 'pom': 3224, 'picks': 3225, 'coffee': 3226, 'waffle': 3227, 'checking': 3228, 'san': 3229, '42': 3230, 'gaped': 3231, \"we're\": 3232, 'un': 3233, '127lbs': 3234, '30s': 3235, 'beat': 3236, 'underlay': 3237, 'exciting': 3238, 'kidding': 3239, 'plans': 3240, 'rave': 3241, '120lb': 3242, 'admittedly': 3243, 'heck': 3244, 'tencel': 3245, 'temperatures': 3246, 'combinations': 3247, 'upside': 3248, 'its': 3249, 'coarse': 3250, 'partum': 3251, 'twirling': 3252, '36a': 3253, 'lg': 3254, 'defiantly': 3255, 'highlights': 3256, 'moderate': 3257, 'orangey': 3258, 'travels': 3259, 'suitcase': 3260, 'suggestion': 3261, 'returns': 3262, 'glamorous': 3263, 'bootie': 3264, 'gather': 3265, 'puts': 3266, 'developed': 3267, 'shine': 3268, 'wound': 3269, 'met': 3270, 'ad': 3271, 'brainer': 3272, 'assuming': 3273, 'ship': 3274, 'chemical': 3275, 'studs': 3276, 'crew': 3277, 'how': 3278, 'retailers': 3279, 'relaxing': 3280, 'tumble': 3281, 'standards': 3282, 'labeled': 3283, 'suggests': 3284, 'elements': 3285, 'forth': 3286, 'cleaner': 3287, 'exaggerated': 3288, 'monitor': 3289, 'managed': 3290, 'hid': 3291, 'represented': 3292, 'bending': 3293, 'moved': 3294, 'omg': 3295, 'reds': 3296, 'card': 3297, 'lend': 3298, 'weighty': 3299, \"hasn't\": 3300, 'victorian': 3301, 'graceful': 3302, 'europe': 3303, 'yo': 3304, 'clogs': 3305, 'email': 3306, 'dr': 3307, 'underwire': 3308, 'fridays': 3309, 'maker': 3310, 'laying': 3311, 'carrying': 3312, 'concerns': 3313, 'shots': 3314, 'steep': 3315, 'closures': 3316, 'page': 3317, 'ski': 3318, 'unbuttoning': 3319, 'intention': 3320, 'delightful': 3321, 'reached': 3322, 'fluttery': 3323, 'arrives': 3324, 'violet': 3325, 'flouncy': 3326, 'solution': 3327, 'annoyed': 3328, 'varies': 3329, 'trimmed': 3330, 'pastel': 3331, 'location': 3332, '130lb': 3333, 'drinks': 3334, 'nubby': 3335, 'tube': 3336, 'breeze': 3337, 'angle': 3338, 'settled': 3339, 'opens': 3340, 'magical': 3341, 'lacing': 3342, 'tearing': 3343, 'vanity': 3344, 'hundred': 3345, 'concert': 3346, 'buttondown': 3347, 'camouflage': 3348, 'advised': 3349, 'sticky': 3350, 'didn': 3351, 'durability': 3352, '50s': 3353, 'fuss': 3354, 'bo': 3355, 'reminiscent': 3356, 'patiently': 3357, 'bluish': 3358, 'heft': 3359, 'messy': 3360, 'biased': 3361, 'explain': 3362, 'reinforced': 3363, 'present': 3364, 'offset': 3365, 'bleach': 3366, 'breasted': 3367, 'indian': 3368, 'hefty': 3369, 'bodysuit': 3370, 'nightmare': 3371, 'brightness': 3372, 'ribbons': 3373, 'gauge': 3374, 'shopper': 3375, 'staff': 3376, 'outline': 3377, 'invisible': 3378, \"5'3'\": 3379, 'baseball': 3380, 'game': 3381, 'patch': 3382, 'street': 3383, 'seamless': 3384, 'death': 3385, 'dragging': 3386, 'european': 3387, 'loud': 3388, 'killer': 3389, 'sunny': 3390, 'pieced': 3391, \"husband's\": 3392, 'regualr': 3393, 'majority': 3394, \"4'11\": 3395, 'market': 3396, 'navel': 3397, 'pearls': 3398, 'uncertain': 3399, 'seasonal': 3400, 'dingy': 3401, 'accessory': 3402, 'blessed': 3403, 'luxe': 3404, 'tying': 3405, 'struck': 3406, 'sick': 3407, 'glance': 3408, 'adjustment': 3409, 'minus': 3410, 'replaced': 3411, 'partial': 3412, 'coast': 3413, 'desire': 3414, 'october': 3415, 'harder': 3416, 'load': 3417, 'poms': 3418, 'serif': 3419, 'swallow': 3420, 'inexpensive': 3421, 'pack': 3422, 'initial': 3423, 'photographed': 3424, 'sausage': 3425, 'butterflies': 3426, 'impressive': 3427, 'wrinkling': 3428, 'outerwear': 3429, 'angles': 3430, 'heaven': 3431, 'femininity': 3432, 'intend': 3433, 'camis': 3434, 'felted': 3435, \"5'5''\": 3436, 'staples': 3437, 'yeah': 3438, 'downfall': 3439, '102': 3440, 'tush': 3441, 'audrey': 3442, 'hepburn': 3443, 'caveat': 3444, 'borderline': 3445, 'laser': 3446, 'lik': 3447, 'proportional': 3448, 'hav': 3449, 'measures': 3450, 'outings': 3451, 'welcome': 3452, 'similarly': 3453, 'glittery': 3454, 'visually': 3455, '41': 3456, 'pinks': 3457, 'stopper': 3458, '160lbs': 3459, 'video': 3460, 'smidge': 3461, 'flattered': 3462, 'fallen': 3463, 'bleed': 3464, 'mara': 3465, 'hoffman': 3466, 'cal': 3467, 'delicious': 3468, 'diamond': 3469, 'turtlenecks': 3470, 'extended': 3471, 'tegan': 3472, 'highlight': 3473, 'follows': 3474, 'gorgeously': 3475, \"5'5'\": 3476, 'anyhow': 3477, 'share': 3478, 'rub': 3479, 'dinners': 3480, 'disappear': 3481, 'afford': 3482, 'ratio': 3483, 'stalking': 3484, 'safety': 3485, \"'\": 3486, 'aka': 3487, 'figuring': 3488, 'quilted': 3489, 'by': 3490, 'remover': 3491, 'success': 3492, 'unforgiving': 3493, 'dear': 3494, 'reluctantly': 3495, 'tinge': 3496, 'hippie': 3497, 'bug': 3498, 'loss': 3499, 'belts': 3500, 'pronounced': 3501, 'elevate': 3502, 'billowing': 3503, 'pinch': 3504, 'mood': 3505, 'category': 3506, 'enjoying': 3507, 'mislabeled': 3508, 'pushing': 3509, 'september': 3510, 'stiffness': 3511, 'rigid': 3512, 'bracelet': 3513, 'children': 3514, 'employee': 3515, \"5'7'\": 3516, \"friend's\": 3517, 'balls': 3518, 'puff': 3519, 'position': 3520, '105lbs': 3521, 'wh': 3522, 'an': 3523, 'crossover': 3524, 'rated': 3525, 'sequin': 3526, 'petit': 3527, 'defeats': 3528, 'wil': 3529, 'drapery': 3530, 'heading': 3531, 'strongly': 3532, 'jump': 3533, 'manage': 3534, 'intense': 3535, 'portrayed': 3536, 'knock': 3537, 'provided': 3538, 'cloths': 3539, \"40's\": 3540, 'loosened': 3541, 'ensemble': 3542, 'crosses': 3543, 'lifestyle': 3544, 'berry': 3545, 'playing': 3546, 'larges': 3547, \"5'6''\": 3548, 'watching': 3549, 'chill': 3550, 'unable': 3551, 'ignored': 3552, 'kelly': 3553, 'region': 3554, 'essentially': 3555, 'geometric': 3556, 'bulkier': 3557, 'drive': 3558, 'blousey': 3559, 'pricy': 3560, 'yourself': 3561, 'changing': 3562, 'meeting': 3563, 'favor': 3564, 'refined': 3565, 'prices': 3566, 'mexico': 3567, '98': 3568, 'been': 3569, 'tennis': 3570, 'leftover': 3571, 'balances': 3572, 'trigger': 3573, 'mismatched': 3574, \"80's\": 3575, 'flatteringly': 3576, 'whereas': 3577, '43': 3578, \"pj's\": 3579, 'depicts': 3580, 'lighting': 3581, 'cruise': 3582, 'artsy': 3583, 'anticipate': 3584, 'puckering': 3585, 'inconsistent': 3586, 'act': 3587, 'tacky': 3588, 'informal': 3589, 'switch': 3590, 'houston': 3591, 'foam': 3592, 'hesitation': 3593, '34aa': 3594, 'leggy': 3595, 'ponte': 3596, 'undo': 3597, 'pointelle': 3598, 'cord': 3599, 'bargain': 3600, 'played': 3601, 'gonna': 3602, 'khakis': 3603, 'catalogue': 3604, 'tucks': 3605, 'slides': 3606, 'pleasure': 3607, 'pleasing': 3608, 'backorder': 3609, 'antrho': 3610, 'considerably': 3611, 'overlap': 3612, 'flaps': 3613, 'period': 3614, 'led': 3615, 'lifted': 3616, 'burnout': 3617, 'gracefully': 3618, 'sh': 3619, 'allowed': 3620, 'swimsuits': 3621, 'loyal': 3622, 'process': 3623, 'lengthwise': 3624, 'story': 3625, 'ahve': 3626, 'tapering': 3627, '106': 3628, 'glowing': 3629, 'untied': 3630, 'teach': 3631, 'measure': 3632, 'develop': 3633, 'nicest': 3634, 'treasure': 3635, 'dimension': 3636, 'caramel': 3637, 'begins': 3638, 'difficulty': 3639, 'stretchiness': 3640, 'blown': 3641, 'goal': 3642, 'palazzo': 3643, 'struggling': 3644, '119': 3645, '32f': 3646, 'qualities': 3647, 'ruins': 3648, 'uber': 3649, 'sounds': 3650, 'unhappy': 3651, 'flashy': 3652, 'tiers': 3653, 'firm': 3654, 'laundry': 3655, 'plunging': 3656, 'indicated': 3657, 'suddenly': 3658, 'backordered': 3659, 'intentional': 3660, 'unrolled': 3661, \"women's\": 3662, 'deceiving': 3663, 'unwanted': 3664, 'incorrectly': 3665, 'dipped': 3666, '30d': 3667, \"reviewer's\": 3668, 'nails': 3669, 'bathroom': 3670, 'gotta': 3671, 'remotely': 3672, 'finishing': 3673, 'angel': 3674, 'anticipating': 3675, 'complained': 3676, '109lbs': 3677, 'deter': 3678, \"5'7''\": 3679, 'regrets': 3680, 'watercolor': 3681, 'transparency': 3682, 'shapely': 3683, 'lacking': 3684, 'seconds': 3685, 'attitude': 3686, 'media': 3687, 'advantage': 3688, 'flashing': 3689, 'insanely': 3690, '10p': 3691, 'sassy': 3692, 'comical': 3693, 'promise': 3694, '133': 3695, 'sanctuary': 3696, 'wishing': 3697, 'umbrella': 3698, 'breaks': 3699, 'into': 3700, 'blocking': 3701, 'promptly': 3702, 'sign': 3703, 'everytime': 3704, 'asymmetry': 3705, 'snugger': 3706, 'loo': 3707, 'odor': 3708, 'lumpy': 3709, 'throwback': 3710, 'steps': 3711, 'prettiest': 3712, '2015': 3713, 'condition': 3714, 'secured': 3715, 'kimonos': 3716, 'western': 3717, 'rinse': 3718, 'collared': 3719, 'windy': 3720, 'indicates': 3721, 'raglan': 3722, 'downsides': 3723, 'luxuriously': 3724, 'banding': 3725, '138lbs': 3726, '118lbs': 3727, 'coupon': 3728, '104': 3729, 'code': 3730, 'roller': 3731, 'misses': 3732, 'va': 3733, 'appearing': 3734, 'envisioned': 3735, 'wearer': 3736, 'versa': 3737, 'smitten': 3738, 'converse': 3739, 'beachy': 3740, 'sections': 3741, 'speaking': 3742, 'cinches': 3743, 'final': 3744, 'closing': 3745, 'antho': 3746, 'jackpot': 3747, 'weighted': 3748, 'solves': 3749, 'bells': 3750, 'delightfully': 3751, 'bands': 3752, 'highlighted': 3753, 'glitter': 3754, 'news': 3755, '48': 3756, 'thinks': 3757, 'jumpers': 3758, 'defining': 3759, 'steamed': 3760, 'boat': 3761, 'rea': 3762, 'stil': 3763, 'pm': 3764, 'scallop': 3765, 'peacock': 3766, 'verdict': 3767, 'restock': 3768, 'impractical': 3769, 'east': 3770, 'wedgie': 3771, 'pound': 3772, 'humanity': 3773, \"5'2''\": 3774, 'mindful': 3775, 'fake': 3776, 'mailbox': 3777, 'busts': 3778, 'portions': 3779, 'pa': 3780, 'daughters': 3781, 'anniversary': 3782, 'bent': 3783, 'cognac': 3784, '26p': 3785, 'attempt': 3786, 'favors': 3787, 'nips': 3788, 'folding': 3789, 'ticket': 3790, '55': 3791, 'crinkly': 3792, 'binding': 3793, 'fairy': 3794, 'ot': 3795, 'hooked': 3796, 'flash': 3797, 'counts': 3798, 'tack': 3799, 'ive': 3800, 'loads': 3801, 'â': 3802, 'coordinating': 3803, \"men's\": 3804, 'deliver': 3805, 'realizing': 3806, 'somebody': 3807, 'gapped': 3808, 'answer': 3809, 'sleepwear': 3810, 'lapel': 3811, 'threading': 3812, 'streamlined': 3813, 'unzipped': 3814, 'stress': 3815, \"30's\": 3816, 'reservations': 3817, 'lying': 3818, 'seemingly': 3819, 'law': 3820, 'visited': 3821, 'wea': 3822, 'pit': 3823, 'clasps': 3824, 'cuddly': 3825, 'jacquard': 3826, 'forget': 3827, 'finger': 3828, 'include': 3829, 'reservation': 3830, 'vertically': 3831, 'prominent': 3832, 'confusing': 3833, 'until': 3834, 'telling': 3835, 'magenta': 3836, 'tightened': 3837, 'relax': 3838, 'fasten': 3839, 'boxiness': 3840, 'silvery': 3841, 'snatch': 3842, 'falttering': 3843, '21': 3844, 'direction': 3845, 'flawless': 3846, 'loungewear': 3847, 'doesnt': 3848, 'freezing': 3849, 'fe': 3850, 'knitting': 3851, 'undergarment': 3852, 'talking': 3853, 'restocked': 3854, 'subtly': 3855, 'snuggle': 3856, 'doable': 3857, 'tankini': 3858, 'cautious': 3859, 'swimwear': 3860, 'strips': 3861, '160lb': 3862, 'shall': 3863, 'workable': 3864, 'judge': 3865, 'cheery': 3866, 'rainy': 3867, 'translucent': 3868, 'greatly': 3869, 'drowning': 3870, 'comically': 3871, 'errand': 3872, 'restroom': 3873, 'panties': 3874, 'enjoyed': 3875, 'compensate': 3876, 'raincoat': 3877, 'apprehensive': 3878, 'alright': 3879, 'puffed': 3880, 'inappropriate': 3881, 'waves': 3882, 'daily': 3883, 'steaming': 3884, 'budget': 3885, 'ponchos': 3886, 'maintain': 3887, 'dres': 3888, '60s': 3889, 'uniquely': 3890, '58': 3891, 'fringed': 3892, 'whimsy': 3893, 'wowed': 3894, 'player': 3895, 'garish': 3896, 'approximately': 3897, 'complementary': 3898, 'handful': 3899, 'esp': 3900, '148': 3901, 'bows': 3902, 'sexiness': 3903, 'worlds': 3904, 'failed': 3905, 'retain': 3906, 'increase': 3907, 'muumuu': 3908, 'picking': 3909, 'restaurant': 3910, 'reasonably': 3911, 'ignore': 3912, 'any': 3913, 'stranger': 3914, 'mature': 3915, 'adult': 3916, 'skinned': 3917, 'degrees': 3918, 'ii': 3919, 'batch': 3920, 'squeezed': 3921, 'filled': 3922, 'contains': 3923, 'custom': 3924, 'revealed': 3925, 'shifts': 3926, 'fee': 3927, 'visiting': 3928, 'dainty': 3929, 'distracted': 3930, 'motifs': 3931, 'carpet': 3932, 'frankly': 3933, 'piling': 3934, 'regard': 3935, 'largely': 3936, 'draws': 3937, 'buyer': 3938, \"7'\": 3939, 'teaching': 3940, 'poking': 3941, 'doubled': 3942, 'beauties': 3943, 'velvety': 3944, 'premium': 3945, 'gosh': 3946, 'breaking': 3947, 'sundress': 3948, 'choices': 3949, 'latter': 3950, 'buckle': 3951, 'eight': 3952, 'confidence': 3953, 'bosom': 3954, 'supple': 3955, 'di': 3956, 'expand': 3957, 'costs': 3958, 'constricted': 3959, '36g': 3960, '80s': 3961, 'fire': 3962, 'listen': 3963, 'angled': 3964, 'ar': 3965, 'skip': 3966, 'tells': 3967, 'lattice': 3968, 'hospital': 3969, 'belled': 3970, 'cure': 3971, 'settle': 3972, 'refreshing': 3973, 'whoa': 3974, 'flying': 3975, 'yummy': 3976, 'bled': 3977, 'springy': 3978, 'knocked': 3979, 'niece': 3980, 'immediate': 3981, 'purchas': 3982, 'scallops': 3983, 'fashioned': 3984, 'successfully': 3985, 'floats': 3986, 'subdued': 3987, 'theme': 3988, 'crimson': 3989, 'micro': 3990, 'speaks': 3991, 'indicate': 3992, 'stepped': 3993, 'watched': 3994, 'aesthetics': 3995, 'primary': 3996, 'amounts': 3997, 'varying': 3998, 'ballooned': 3999, 'junk': 4000, 'trunk': 4001, 'picnic': 4002, 'prevents': 4003, 'social': 4004, 'belonged': 4005, 'terry': 4006, 'dare': 4007, 'touching': 4008, 'sparrow': 4009, 'sweatshirts': 4010, 'patches': 4011, 'peeve': 4012, 'cinching': 4013, 'sheet': 4014, 'colros': 4015, '107lbs': 4016, '68': 4017, 'solve': 4018, 'transitions': 4019, 'meaty': 4020, 'muddy': 4021, 'abundance': 4022, 'unnecessary': 4023, 'mentioning': 4024, 'streaks': 4025, 'spilled': 4026, 'restricting': 4027, 'gingham': 4028, 'obnoxious': 4029, 'preppy': 4030, 'underlying': 4031, 'rode': 4032, 'prefered': 4033, 'siz': 4034, 'sacrificing': 4035, 'reveals': 4036, 'smells': 4037, 'puppy': 4038, 'tastefully': 4039, 'thankful': 4040, 'realistic': 4041, 'lacks': 4042, 'rocking': 4043, 'settings': 4044, 'sooner': 4045, 'activities': 4046, 'softly': 4047, 'bar': 4048, 'sand': 4049, 'marks': 4050, 'embellishments': 4051, '135lb': 4052, 'reaches': 4053, 'glam': 4054, 'zone': 4055, 'elongate': 4056, 'row': 4057, 'dotted': 4058, 'patchwork': 4059, 'exposure': 4060, 'lipstick': 4061, 'mask': 4062, 'continuous': 4063, 'supima': 4064, 'com': 4065, 'moulinette': 4066, 'bagginess': 4067, 'inverted': 4068, 'conceal': 4069, 'account': 4070, 'muscles': 4071, 'avoids': 4072, 'handkerchief': 4073, 'reads': 4074, 'hunter': 4075, 'folks': 4076, 'aligned': 4077, 'widely': 4078, 'dart': 4079, 'muscle': 4080, 'among': 4081, 'overpowering': 4082, 'shortest': 4083, 'quest': 4084, 'emerson': 4085, 'seldom': 4086, 'max': 4087, 'wit': 4088, 'finds': 4089, 'frustrated': 4090, 'warming': 4091, 'choosing': 4092, 'poppy': 4093, 'enhancing': 4094, 'natori': 4095, 'teen': 4096, 'mileage': 4097, 'hipped': 4098, 'skimpy': 4099, 'digging': 4100, 'underskirt': 4101, 'catches': 4102, 'elegantly': 4103, 'article': 4104, 'twirl': 4105, '140lb': 4106, 'richly': 4107, 'flipped': 4108, 'hints': 4109, 'ensures': 4110, 'neatly': 4111, 'laced': 4112, 'washings': 4113, 'embarrassing': 4114, 'nevertheless': 4115, 'screams': 4116, 'rusty': 4117, 'weighing': 4118, 'swinging': 4119, 'forearm': 4120, 'talk': 4121, 'serve': 4122, 'luv': 4123, 'assets': 4124, 'windowpane': 4125, 'lived': 4126, 'sound': 4127, 'nowadays': 4128, 'itchiness': 4129, 'wherever': 4130, 'contributes': 4131, 'mistaken': 4132, 'eating': 4133, 'tree': 4134, 'wife': 4135, '80': 4136, 'boned': 4137, 'identical': 4138, 'universally': 4139, 'pins': 4140, 'department': 4141, 'defect': 4142, 'positively': 4143, 'aline': 4144, '145lb': 4145, 'brunette': 4146, 'positioned': 4147, 'ness': 4148, 'represent': 4149, '90s': 4150, 'steel': 4151, 'hyphens': 4152, 'lil': 4153, 'tint': 4154, 'inappropriately': 4155, 'fabrication': 4156, '137': 4157, 'dad': 4158, \"5'1''\": 4159, 'paisley': 4160, 'tigh': 4161, 'expectation': 4162, '170lbs': 4163, 'road': 4164, 'matters': 4165, 'racer': 4166, 'wary': 4167, 'tip': 4168, 'ombrã©': 4169, 'misshapen': 4170, 'helping': 4171, 'feather': 4172, 'satiny': 4173, 'torsos': 4174, 'whiskering': 4175, 'detached': 4176, 'learned': 4177, 'poufy': 4178, 'chair': 4179, 'mile': 4180, 'sporty': 4181, 'challenging': 4182, 'faces': 4183, 'swtr': 4184, 'buckles': 4185, 'presentation': 4186, 'potentially': 4187, 'sorts': 4188, 'ladylike': 4189, 'descriptions': 4190, 'kick': 4191, 'plush': 4192, 'de': 4193, 'bees': 4194, 'simplistic': 4195, 'undies': 4196, 'insets': 4197, 'varied': 4198, '102lbs': 4199, 'bead': 4200, 'humidity': 4201, 'fortunate': 4202, 'flexibility': 4203, '45': 4204, '28p': 4205, 'leaner': 4206, 'tug': 4207, 'girlfriend': 4208, 'stops': 4209, 'pile': 4210, 'tab': 4211, 'ver': 4212, 'framed': 4213, 'unbelted': 4214, 'greens': 4215, 'employees': 4216, 'combine': 4217, 'affect': 4218, 'smile': 4219, 'mall': 4220, 'coveted': 4221, 'slept': 4222, 'appliquã©': 4223, 'festival': 4224, 'worrying': 4225, \"sister's\": 4226, 'insert': 4227, 'platforms': 4228, 'greatest': 4229, 'fi': 4230, 'carefree': 4231, 'thoroughly': 4232, 'territory': 4233, '103lbs': 4234, '24p': 4235, 'undertones': 4236, 'altogether': 4237, 'appealed': 4238, 'thong': 4239, 'wonders': 4240, 'clip': 4241, 'longevity': 4242, 'swishy': 4243, 'attending': 4244, 'cedar': 4245, 'hurry': 4246, 'accident': 4247, 'thinness': 4248, 'painful': 4249, 'adequately': 4250, 'cuteness': 4251, 'superior': 4252, 'petitie': 4253, 'undertone': 4254, 'branch': 4255, 'overweight': 4256, 'vice': 4257, 'tapers': 4258, 'net': 4259, 'constant': 4260, 'mohair': 4261, 'reduce': 4262, 'representation': 4263, 'sipping': 4264, 'express': 4265, 'pendant': 4266, 'warn': 4267, 'maid': 4268, 'access': 4269, 'snd': 4270, 'fa': 4271, 'thinnest': 4272, 'opinions': 4273, 'genius': 4274, 'rows': 4275, 'dallas': 4276, 'le': 4277, 'feedback': 4278, 'ranna': 4279, 'gill': 4280, 'human': 4281, '49': 4282, 'pads': 4283, 'horrified': 4284, 'laughed': 4285, 'launder': 4286, 'bee': 4287, 'mentions': 4288, 'recall': 4289, 'ombre': 4290, 'xmas': 4291, 'bloated': 4292, 'brass': 4293, 'doubtful': 4294, 'availability': 4295, 'turning': 4296, 'fourth': 4297, 'luncheon': 4298, 'matte': 4299, 'hotel': 4300, 'towel': 4301, 'sliding': 4302, 'shinier': 4303, 'pose': 4304, 'longest': 4305, 'imho': 4306, 'chillier': 4307, 'baily': 4308, 'gaudy': 4309, 'flab': 4310, 'former': 4311, 'graze': 4312, 'impact': 4313, 'seattle': 4314, 'bagging': 4315, 'teensy': 4316, 'record': 4317, 'breastfeeding': 4318, 'parachute': 4319, 'beforehand': 4320, 'apron': 4321, 'flatering': 4322, 'heights': 4323, 'protection': 4324, 'sunshine': 4325, 'lacework': 4326, 'points': 4327, 'rubs': 4328, 'burn': 4329, 'caribbean': 4330, 'rope': 4331, 'confortable': 4332, 'smallish': 4333, 'limbs': 4334, 'youthful': 4335, 'guy': 4336, '2016': 4337, 'combos': 4338, 'shelf': 4339, 'term': 4340, 'determine': 4341, 'standout': 4342, 'pro': 4343, 'exposes': 4344, 'reinforce': 4345, 'positives': 4346, 'drama': 4347, 'unevenly': 4348, 'linebacker': 4349, 'lengthen': 4350, 'shrunken': 4351, 'pastels': 4352, 'dozen': 4353, 'po': 4354, 'saved': 4355, 'crumpled': 4356, 'packs': 4357, 'underlayer': 4358, 'femine': 4359, 'vinegar': 4360, 'dramatically': 4361, 'report': 4362, 'curvey': 4363, 'biggie': 4364, 'shipment': 4365, \"someone's\": 4366, 'surely': 4367, 'epitome': 4368, 'walks': 4369, 'understood': 4370, 'relationship': 4371, 'lemon': 4372, 'everybody': 4373, 'puffer': 4374, \"fabric's\": 4375, 'occasional': 4376, 'distinct': 4377, 'fabri': 4378, 'grabs': 4379, 'stunned': 4380, 'speckled': 4381, 'boning': 4382, 'colo': 4383, 'wasnt': 4384, 'sti': 4385, 'tended': 4386, 'benefit': 4387, 'student': 4388, 'chosen': 4389, 'improve': 4390, 'definately': 4391, 'esque': 4392, 'boucle': 4393, 'furry': 4394, 'sequence': 4395, 'tire': 4396, 'dangling': 4397, 'imperfect': 4398, 'merino': 4399, 'posture': 4400, 'peak': 4401, 'laughing': 4402, '20s': 4403, 'feared': 4404, 'chevron': 4405, 'quote': 4406, 'outdoors': 4407, 'droop': 4408, 'unroll': 4409, 'bac': 4410, 'fluke': 4411, 'recieved': 4412, 'suck': 4413, 'convert': 4414, 'unusually': 4415, 'wire': 4416, 'offerings': 4417, 'understanding': 4418, 'ocean': 4419, 'regrettably': 4420, 'disguise': 4421, '17': 4422, 'cocktails': 4423, 'marrakech': 4424, 'spite': 4425, 'yep': 4426, 'unavailable': 4427, 'lime': 4428, '19': 4429, 'eyelets': 4430, 'randomly': 4431, 'movements': 4432, 'flattened': 4433, 'rouching': 4434, 'heard': 4435, 'symmetrical': 4436, 'train': 4437, 'scrunch': 4438, 'sapphire': 4439, 'ecstatic': 4440, 'overheated': 4441, 'disliked': 4442, 'modeling': 4443, '12p': 4444, 'kinds': 4445, 'smart': 4446, 'collected': 4447, 'diet': 4448, 'tape': 4449, 'spice': 4450, 'paint': 4451, 'shoppers': 4452, 'recommendation': 4453, 'se': 4454, 'creme': 4455, 'fabulously': 4456, 'addicted': 4457, 'wasit': 4458, 'opportunities': 4459, 'cargos': 4460, 'thrill': 4461, 'were': 4462, 'int': 4463, 'offices': 4464, 'punch': 4465, 'swiss': 4466, 'accomodate': 4467, 'braided': 4468, 'invested': 4469, 'horse': 4470, 'australian': 4471, 'verify': 4472, 'force': 4473, 'evident': 4474, 'cheapens': 4475, 'dissapointed': 4476, 'providing': 4477, 'rifle': 4478, 'da': 4479, 'tiger': 4480, 'hey': 4481, 'activewear': 4482, 'bind': 4483, 'finely': 4484, 'rustic': 4485, 'substantive': 4486, 'replacing': 4487, 'organic': 4488, 'artist': 4489, 'shimmering': 4490, 'studio': 4491, 'stash': 4492, 'peeks': 4493, 'listening': 4494, 'motion': 4495, 'squares': 4496, 'par': 4497, 'flecks': 4498, 'tore': 4499, 'grown': 4500, 'maxis': 4501, 'deeply': 4502, 'further': 4503, 'fastened': 4504, 'bite': 4505, 'irregular': 4506, 'cowled': 4507, 'lacey': 4508, 'delivery': 4509, 'elevates': 4510, 'orde': 4511, 'runner': 4512, 'sweatercoat': 4513, 'babies': 4514, 'gallery': 4515, 'severe': 4516, 'footwear': 4517, 'dust': 4518, 'worthwhile': 4519, 'sacklike': 4520, 'neoprene': 4521, \"pilcro's\": 4522, 'instance': 4523, 'vacations': 4524, 'each': 4525, 'kate': 4526, 'circus': 4527, 'forced': 4528, '37ish': 4529, 'relaxes': 4530, 'loser': 4531, 'intact': 4532, 'hearing': 4533, 'corset': 4534, 'boatneck': 4535, 'surpassed': 4536, 'necks': 4537, \"5'9'\": 4538, 'emphasizing': 4539, 'gala': 4540, 'ceremony': 4541, 'reccomend': 4542, 'socal': 4543, 'fooled': 4544, 'pilates': 4545, 'integrity': 4546, 'htey': 4547, 'admire': 4548, 'boston': 4549, 'apply': 4550, 'skimmed': 4551, 'sisters': 4552, 'champagne': 4553, 'scored': 4554, 'encountered': 4555, 'dogs': 4556, 'mis': 4557, '40s': 4558, 'derby': 4559, 'duty': 4560, 'god': 4561, 'cargo': 4562, 'sotre': 4563, 'damage': 4564, \"'4\": 4565, 'alike': 4566, 'lengthy': 4567, 'caved': 4568, 'partly': 4569, 'trips': 4570, 'swishes': 4571, 'gatherings': 4572, 'roughly': 4573, 'apricot': 4574, 'pea': 4575, 'wou': 4576, 'associates': 4577, 'vacationing': 4578, 'circulation': 4579, 'tassel': 4580, 'wavy': 4581, 'mu': 4582, 'grocery': 4583, 'applique': 4584, 'boxes': 4585, 'lightness': 4586, 'snowy': 4587, 'excessively': 4588, 'doesn': 4589, 'rushed': 4590, 'follow': 4591, 'criteria': 4592, 'implies': 4593, 'convenient': 4594, 'wallet': 4595, 'forming': 4596, 'menswear': 4597, 'leggins': 4598, 'paring': 4599, 'trimester': 4600, 'music': 4601, 'pur': 4602, 'weightless': 4603, 'skirted': 4604, 'rely': 4605, 'sage': 4606, 'sum': 4607, 'calls': 4608, 'expanding': 4609, 'midweight': 4610, 'affair': 4611, 'heartbroken': 4612, 'guys': 4613, 'nip': 4614, 'requiring': 4615, 'citizen': 4616, 'desert': 4617, 'luxury': 4618, 'choking': 4619, 'score': 4620, 'woul': 4621, 'blow': 4622, 'trusty': 4623, 'creasing': 4624, \"stevie's\": 4625, 'lifting': 4626, \"fit's\": 4627, 'impulse': 4628, 'miraculously': 4629, 'proportionally': 4630, 'splotchy': 4631, 'ons': 4632, 'seafolly': 4633, 'laughable': 4634, 'rules': 4635, 'physique': 4636, 'dying': 4637, 'comf': 4638, 'expense': 4639, 'floored': 4640, 'moms': 4641, 'wonky': 4642, 'situations': 4643, 'disproportionate': 4644, 'basis': 4645, 'formfitting': 4646, 'skinnier': 4647, 'drops': 4648, '117lbs': 4649, '3x': 4650, 'gladiator': 4651, 'pizzazz': 4652, 'eclectic': 4653, 'bridesmaid': 4654, '124lbs': 4655, 'fight': 4656, 'disappoints': 4657, 'puckers': 4658, 'sandal': 4659, 'edgier': 4660, 'spill': 4661, 'compromise': 4662, '22': 4663, 'tips': 4664, 'land': 4665, 'runway': 4666, 'truthfully': 4667, \"3'\": 4668, 'htis': 4669, 'individual': 4670, \"5'6'\": 4671, 'crossing': 4672, 'coveting': 4673, \"dress's\": 4674, 'gamble': 4675, 'clerk': 4676, 'bullet': 4677, 'shabby': 4678, '23': 4679, 'optimistic': 4680, 'giddy': 4681, 'embellished': 4682, 'internet': 4683, 'info': 4684, 'francisco': 4685, 'handmade': 4686, 'northeast': 4687, 'snails': 4688, 'clown': 4689, 'safely': 4690, 'sport': 4691, 'girlie': 4692, 'shear': 4693, '35a': 4694, 'quibble': 4695, 'jeweled': 4696, 'slims': 4697, 'rosie': 4698, 'neira': 4699, 'stylists': 4700, 'levels': 4701, 'minimizes': 4702, 'majorly': 4703, 'chicago': 4704, 'wearability': 4705, 'december': 4706, 'antique': 4707, 'than': 4708, 'waaay': 4709, 'april': 4710, 'represents': 4711, 'involved': 4712, 'florals': 4713, 'aged': 4714, 'cherry': 4715, 'justifies': 4716, 'grommets': 4717, 'lambswool': 4718, 'mockneck': 4719, 'struggled': 4720, 'magic': 4721, 'pouf': 4722, 'faint': 4723, 'sweats': 4724, 'northern': 4725, 'slant': 4726, 'accommodates': 4727, 'immodest': 4728, 'juxtaposition': 4729, 'neutrals': 4730, \"brother's\": 4731, '70': 4732, 'bathrobe': 4733, 'lights': 4734, 'located': 4735, 'pxxs': 4736, 'england': 4737, 'sleev': 4738, 'gifts': 4739, 'puffs': 4740, 'highest': 4741, \"5'0''\": 4742, 'folk': 4743, 'buyers': 4744, 'moveable': 4745, '32h': 4746, 'scissors': 4747, 'jade': 4748, 'coloration': 4749, 'challenged': 4750, 'named': 4751, \"dress'\": 4752, 'solids': 4753, 'tears': 4754, 'driving': 4755, 'mi': 4756, 'photographs': 4757, 'shimmy': 4758, 'graphics': 4759, 'alley': 4760, 'clever': 4761, 'reported': 4762, 'stepping': 4763, 'isnt': 4764, 'becasue': 4765, 'selection': 4766, 'loses': 4767, 'spin': 4768, 'roses': 4769, 'workers': 4770, 'signature': 4771, 'decently': 4772, 'slash': 4773, 'thumb': 4774, 'desperately': 4775, 'killed': 4776, 'scene': 4777, 'sweetheart': 4778, 'leery': 4779, 'robes': 4780, 'anticipation': 4781, 'midline': 4782, 'countless': 4783, 'butterfly': 4784, 'dollar': 4785, 'overdone': 4786, 'fox': 4787, 'female': 4788, 'layed': 4789, '28s': 4790, 'sundry': 4791, 'tax': 4792, 'al': 4793, 'mommy': 4794, 'demin': 4795, 'perspective': 4796, 'stride': 4797, 'retailerpolgie': 4798, 'fond': 4799, 'torsoed': 4800, 'cancer': 4801, 'ac': 4802, 'sometime': 4803, 'cats': 4804, 'kicky': 4805, 'seamed': 4806, 'sock': 4807, 'portland': 4808, 'moderately': 4809, 'extends': 4810, 'piles': 4811, 'aspects': 4812, 'oth': 4813, 'darting': 4814, 'favs': 4815, 'southeast': 4816, 'hideous': 4817, 'lola': 4818, 'hear': 4819, 'camouflages': 4820, 'pucker': 4821, 'packing': 4822, 'kn': 4823, 'press': 4824, 'closest': 4825, 'separates': 4826, 'couldnt': 4827, 'respect': 4828, 'avail': 4829, 'admired': 4830, 'twirls': 4831, 'slenderizing': 4832, 'babydoll': 4833, 'remain': 4834, 'stones': 4835, 'couch': 4836, 'restricted': 4837, 'dropping': 4838, 'cuffing': 4839, 'asymmetric': 4840, 'mona': 4841, 'shorties': 4842, 'fingertips': 4843, 'extensive': 4844, 'necklines': 4845, 'eliminate': 4846, 'messed': 4847, 'security': 4848, 'determined': 4849, 'bear': 4850, 'frill': 4851, '0petite': 4852, 'costly': 4853, 'tartan': 4854, 'mod': 4855, 'drives': 4856, 'conversation': 4857, 'blotchy': 4858, 'ordere': 4859, 'embodies': 4860, 'loke': 4861, 'inviting': 4862, 'prima': 4863, 'wildest': 4864, 'tuxedo': 4865, 'flawed': 4866, 'resulted': 4867, 'cascade': 4868, 'referred': 4869, 'spaghetti': 4870, 'builds': 4871, 'infinity': 4872, 'whites': 4873, 'shee': 4874, 'uncuff': 4875, \"maeve's\": 4876, 'supported': 4877, 'tedious': 4878, 'combat': 4879, 'sheep': 4880, 'stray': 4881, 'bodies': 4882, 'effects': 4883, 'soul': 4884, 'rendition': 4885, 'downsized': 4886, 'cozier': 4887, 'calling': 4888, 'aesthetically': 4889, 'theses': 4890, 'grays': 4891, 'akemi': 4892, 'inadequate': 4893, 'substitute': 4894, 'obscene': 4895, 'seasonless': 4896, 'puzzled': 4897, 'cardio': 4898, 'dancer': 4899, '112lbs': 4900, 'mih': 4901, 'gradually': 4902, 'shorty': 4903, 'steamer': 4904, 'fastening': 4905, 'debuted': 4906, 'simultaneously': 4907, 'dozens': 4908, 'flop': 4909, 'als': 4910, 'bingo': 4911, '144': 4912, 'merely': 4913, 'mirrors': 4914, '78': 4915, 'smoothing': 4916, 'stashed': 4917, 'waists': 4918, 'resulting': 4919, 'protruding': 4920, 'trial': 4921, 'stiching': 4922, 'blocked': 4923, 'individuals': 4924, 'hesitating': 4925, 'powder': 4926, 'listing': 4927, 'nto': 4928, 'heavily': 4929, 'ink': 4930, 'sophistication': 4931, 'needle': 4932, 'ne': 4933, 'kicking': 4934, 'herself': 4935, 'november': 4936, 'severely': 4937, '185': 4938, 'scratch': 4939, 'tiniest': 4940, 'bbq': 4941, 'roominess': 4942, 'diaphanous': 4943, 'lit': 4944, 'attachment': 4945, 'justified': 4946, 'widens': 4947, 'diego': 4948, 'pl': 4949, 'applied': 4950, 'fasteners': 4951, 'mama': 4952, 'emergency': 4953, 'blossoms': 4954, \"2'\": 4955, 'puffiness': 4956, 'velcro': 4957, 'dime': 4958, 'apt': 4959, 'irish': 4960, 'splash': 4961, 'birkenstocks': 4962, 'boys': 4963, \"32d's\": 4964, 'lanky': 4965, 'celebration': 4966, 'backyard': 4967, 'warehouse': 4968, 'pepto': 4969, 'scroll': 4970, 'poke': 4971, 'imagination': 4972, 'toes': 4973, 'uppe': 4974, 'showstopper': 4975, 'dressmaker': 4976, 'letting': 4977, 'translates': 4978, 'atleast': 4979, 'chuckle': 4980, 'tit': 4981, 'delivers': 4982, 'ruining': 4983, 'honeymoon': 4984, 'transitioned': 4985, 'credit': 4986, 'january': 4987, 'refund': 4988, 'firstly': 4989, 'stinks': 4990, 'mailing': 4991, \"valentine's\": 4992, 'playground': 4993, 'triangles': 4994, 'elasticity': 4995, 'enter': 4996, 'sprayed': 4997, 'textile': 4998, 'conform': 4999, 'lead': 5000, 'grew': 5001, 'blob': 5002, 'reshaped': 5003, 'blacks': 5004, 'prevented': 5005, 'stocked': 5006, 'regulars': 5007, 'forces': 5008, 'crisscross': 5009, 'sideways': 5010, '116lbs': 5011, 'inconvenience': 5012, 'purely': 5013, 'airplanes': 5014, 'isn': 5015, 'china': 5016, 'maintains': 5017, 'compromising': 5018, 'bumpy': 5019, 'camisol': 5020, '4r': 5021, 'bumped': 5022, 'glow': 5023, 'defin': 5024, \"manufacturer's\": 5025, 'brighten': 5026, 'peekaboo': 5027, 'catcher': 5028, 'stacked': 5029, 'cheesecloth': 5030, 'trapezoid': 5031, 'entertaining': 5032, 'pilcrow': 5033, 'dresse': 5034, 'crowd': 5035, 'securely': 5036, 'assumption': 5037, 'attempted': 5038, 'brushing': 5039, 'silicone': 5040, 'rougher': 5041, 'looooove': 5042, 'boyish': 5043, 'proved': 5044, 'linings': 5045, 'peplums': 5046, 'fluff': 5047, 'sans': 5048, 'dyed': 5049, 'arrivals': 5050, 'farm': 5051, 'garden': 5052, 'wasn': 5053, 'ope': 5054, 'til': 5055, 'minimum': 5056, 'milder': 5057, 'unnatural': 5058, 'remedied': 5059, 'fifties': 5060, 'experiencing': 5061, 'hh': 5062, 'claims': 5063, 'lacked': 5064, '0r': 5065, 'maize': 5066, 'goldenrod': 5067, 'spaced': 5068, 'summe': 5069, 'zoom': 5070, 'ah': 5071, 'sumptuous': 5072, 'smelled': 5073, 'hanky': 5074, 'lov': 5075, 'cooperate': 5076, 'envision': 5077, 'showy': 5078, 'squeezing': 5079, 'functions': 5080, 'repeated': 5081, 'detial': 5082, 'colr': 5083, 'dominant': 5084, 'thickish': 5085, 'tr': 5086, 'reminding': 5087, 'chartreuse': 5088, 'physically': 5089, 'stocking': 5090, 'pix': 5091, 'embossed': 5092, 'dobby': 5093, '66': 5094, 'racerback': 5095, 'peeked': 5096, 'coordinate': 5097, 'resistant': 5098, 'imaginable': 5099, 'searched': 5100, '128lb': 5101, 'packaged': 5102, 'natured': 5103, 'evenly': 5104, 'colorblock': 5105, 'attach': 5106, 'mothers': 5107, 'continued': 5108, 'complimenting': 5109, 'absurd': 5110, 'blousing': 5111, 'lives': 5112, 'polkadots': 5113, 'blouson': 5114, 'relative': 5115, 'yucky': 5116, 'dirt': 5117, 'carissima': 5118, 'lycra': 5119, 'solo': 5120, 'professor': 5121, 'insecurities': 5122, 'tinier': 5123, 'stupid': 5124, 'backs': 5125, 'concur': 5126, 'rises': 5127, 'nipped': 5128, 'disguises': 5129, 'topped': 5130, 'stalked': 5131, 'twins': 5132, 'su': 5133, 'yr': 5134, 'grass': 5135, '27s': 5136, 'sexier': 5137, 'vacillate': 5138, 'fussing': 5139, 'guaranteed': 5140, 'shout': 5141, 'rag': 5142, 'sequined': 5143, 'negatives': 5144, 'transfer': 5145, 'intent': 5146, 'judging': 5147, 'bodycon': 5148, 'anti': 5149, 'traveled': 5150, 'holders': 5151, 'outing': 5152, 'rep': 5153, \"maxi's\": 5154, 'skier': 5155, 'orders': 5156, 'slouch': 5157, 'mankind': 5158, 'ahd': 5159, 'pen': 5160, 'fluctuate': 5161, 'tugging': 5162, 'object': 5163, 'onesie': 5164, 'sting': 5165, 'edition': 5166, 'complaining': 5167, '24s': 5168, 'colours': 5169, 'cents': 5170, 'awards': 5171, 'll': 5172, 'peaking': 5173, 'cuz': 5174, 'tx': 5175, 'abdomen': 5176, 'phenomenal': 5177, 'shin': 5178, 'selected': 5179, 'remarked': 5180, 'guessed': 5181, 'shapewear': 5182, 'browsing': 5183, 'via': 5184, 'counter': 5185, 'packed': 5186, 'serves': 5187, 'jogger': 5188, 'wooly': 5189, 'fingernail': 5190, 'attempting': 5191, 'cry': 5192, 'multitude': 5193, 'upscale': 5194, 'eager': 5195, 'incorrect': 5196, 'whic': 5197, 'pearl': 5198, 'htem': 5199, 'pliable': 5200, 'action': 5201, 'corners': 5202, 'hover': 5203, 'group': 5204, 'maintained': 5205, 'regretting': 5206, 'balck': 5207, 'finishes': 5208, 'stature': 5209, 'seersucker': 5210, '51': 5211, 'jammies': 5212, 'tentlike': 5213, 'resemble': 5214, 'viewers': 5215, 'kentucky': 5216, 'warranted': 5217, 'wri': 5218, 'heed': 5219, 'comparable': 5220, 'joy': 5221, '95lbs': 5222, \"today's\": 5223, 'questioned': 5224, 'track': 5225, 'mater': 5226, 'wrapping': 5227, 'brushed': 5228, 'desk': 5229, 'power': 5230, 'understatement': 5231, 'pinching': 5232, 'fabr': 5233, 'vee': 5234, 'completed': 5235, 'bout': 5236, 'litt': 5237, 'queen': 5238, 'hates': 5239, 'juts': 5240, 'wavering': 5241, 'halloween': 5242, 'toss': 5243, 'functionality': 5244, 'bi': 5245, 'crinkled': 5246, 'tenty': 5247, \"1'\": 5248, 'rug': 5249, 'desperate': 5250, 'unfamiliar': 5251, '129': 5252, 'patters': 5253, 'protect': 5254, 'remained': 5255, 'beca': 5256, 'supper': 5257, 'rips': 5258, 'raves': 5259, 'deterred': 5260, 'urged': 5261, 'sticker': 5262, 'shock': 5263, 'bank': 5264, '108lbs': 5265, 'skintight': 5266, 'hurt': 5267, 'quilting': 5268, 'garnered': 5269, 'mixing': 5270, 'volumous': 5271, 'alternate': 5272, 'tolerable': 5273, 'grade': 5274, 'comfiest': 5275, 'orleans': 5276, 'narrowest': 5277, 'raising': 5278, 'cheeky': 5279, 'concerning': 5280, 'grip': 5281, 'camp': 5282, 'contortionist': 5283, 'heavyweight': 5284, 'peeking': 5285, 'coal': 5286, 'app': 5287, 'heaviness': 5288, 'cupcake': 5289, 'charlies': 5290, 'yarns': 5291, 'conditioning': 5292, 'earth': 5293, 'depiction': 5294, 'landed': 5295, 'miami': 5296, 'pinky': 5297, \"ag's\": 5298, '175': 5299, 'thumbs': 5300, 'keds': 5301, 'interwoven': 5302, 'release': 5303, 'jut': 5304, 'gladiators': 5305, 'equivalent': 5306, 'pits': 5307, 'waters': 5308, 'deserves': 5309, 'utterly': 5310, 'consideration': 5311, 'manufactured': 5312, 'son': 5313, 'flattening': 5314, 'nobody': 5315, 'describes': 5316, '180': 5317, 'bundle': 5318, 'temperature': 5319, 'exterior': 5320, 'ruffling': 5321, 'drove': 5322, 'anxious': 5323, 'claimed': 5324, '40d': 5325, 'approaching': 5326, 'snake': 5327, 'childhood': 5328, 'bridesmaids': 5329, 'wayyyy': 5330, 'detect': 5331, 'ed': 5332, 'exist': 5333, 'strategically': 5334, 'tablecloth': 5335, 'contain': 5336, 'trenches': 5337, 'epaulets': 5338, 'feb': 5339, 'ador': 5340, 'nouveau': 5341, 'lovers': 5342, 'afterwards': 5343, 'wild': 5344, 'throu': 5345, 'op': 5346, 'experiences': 5347, 'speck': 5348, 'tapestry': 5349, 'patten': 5350, 'grace': 5351, 'ditto': 5352, 'moon': 5353, 'wouldnt': 5354, 'wearings': 5355, '125lb': 5356, 'transferred': 5357, 'nine': 5358, '144lb': 5359, 'textiles': 5360, 'cowboys': 5361, 'member': 5362, 'bod': 5363, 'growing': 5364, 'hardest': 5365, 'verdugo': 5366, 'tier': 5367, '30e': 5368, 'kangaroo': 5369, 'lifetime': 5370, 'talked': 5371, 'widen': 5372, 'hunting': 5373, 'delicately': 5374, 'dimensions': 5375, 'unwieldy': 5376, 'hottest': 5377, 'danger': 5378, '65': 5379, 'bermuda': 5380, 'cupro': 5381, 'chase': 5382, 'duller': 5383, 'install': 5384, 'pane': 5385, 'miles': 5386, 'sparkles': 5387, 'chunk': 5388, 'mixture': 5389, 'ta': 5390, 'finer': 5391, 'lifeless': 5392, 'favourite': 5393, 'stuffy': 5394, '300': 5395, 'upbeat': 5396, 'london': 5397, 'shearling': 5398, 've': 5399, 'jus': 5400, 'amadi': 5401, 'detracting': 5402, 'finishings': 5403, 'leap': 5404, 'defeated': 5405, 'waaaaay': 5406, 'postmark': 5407, \"son's\": 5408, 'rarity': 5409, 'method': 5410, 'modified': 5411, 'downsize': 5412, 'soeurs': 5413, 'constrictive': 5414, 'saleswoman': 5415, \"5'10''\": 5416, 'dense': 5417, 'unsightly': 5418, 'molds': 5419, 'cowlneck': 5420, 'marigold': 5421, 'spray': 5422, 'lands': 5423, 'ex': 5424, '118lb': 5425, 'alignment': 5426, 'faves': 5427, 'glorious': 5428, 'zippered': 5429, 'reunion': 5430, 'loom': 5431, 'select': 5432, 'triple': 5433, 'resembling': 5434, 'popover': 5435, '57': 5436, 'bags': 5437, 'cracked': 5438, 'motorcycle': 5439, 'mo': 5440, 'magnificent': 5441, 'steer': 5442, 'gladly': 5443, 'deducted': 5444, 'limit': 5445, 'crown': 5446, 'preserve': 5447, 'produced': 5448, 'rubbed': 5449, 'august': 5450, 'advise': 5451, 'borrow': 5452, 'sturdier': 5453, 'vans': 5454, 'dangly': 5455, 'articles': 5456, 'strikes': 5457, 'scream': 5458, 'instincts': 5459, 'sites': 5460, 'embroiding': 5461, 'miracle': 5462, 'club': 5463, 'midwest': 5464, 'hooded': 5465, 'useless': 5466, 'improvement': 5467, 'weak': 5468, 'straw': 5469, 'ove': 5470, 'starkly': 5471, 'ia': 5472, 'american': 5473, 'ch': 5474, '146': 5475, 'liquid': 5476, 'droops': 5477, '129lbs': 5478, 'eek': 5479, 'puffing': 5480, 'forgiveness': 5481, 'guide': 5482, 'devastated': 5483, \"don'\": 5484, 'leaf': 5485, 'sucking': 5486, 'smudge': 5487, 'unzipping': 5488, 'receipt': 5489, 'corrected': 5490, 'coppery': 5491, \"skinny's\": 5492, \"xl's\": 5493, 'strands': 5494, 'includes': 5495, 'clients': 5496, 'bounce': 5497, 'orderd': 5498, 'molded': 5499, 'dead': 5500, 'anth': 5501, '143': 5502, 'eptite': 5503, 'accordingly': 5504, 'coworkers': 5505, 'elongating': 5506, 'borders': 5507, 'bay': 5508, 'concealed': 5509, 'barefoot': 5510, 'raises': 5511, 'strangest': 5512, 'elongated': 5513, 'erin': 5514, 'fetherston': 5515, 'tested': 5516, 'airport': 5517, 'immensely': 5518, 'dang': 5519, 'recommending': 5520, 'pi': 5521, 'blk': 5522, 'galore': 5523, 'rocks': 5524, 'cash': 5525, 'smoothly': 5526, \"'s\": 5527, 'spilling': 5528, 'script': 5529, 'sees': 5530, 'maintenance': 5531, 'existed': 5532, 'eliminates': 5533, 'uk': 5534, 'snugness': 5535, 'translate': 5536, 'eyed': 5537, 'tu': 5538, 'meetings': 5539, 'professionally': 5540, 'warmed': 5541, 'kicks': 5542, 'sailor': 5543, 'tutu': 5544, 'burst': 5545, 'bedtime': 5546, '97': 5547, 'remembered': 5548, 'wearin': 5549, 'warrants': 5550, 'critique': 5551, 'intending': 5552, 'trimmer': 5553, 'clips': 5554, 'browns': 5555, 'complicated': 5556, '150lb': 5557, 'balanced': 5558, 'coz': 5559, 'fr': 5560, 'horrid': 5561, 'blood': 5562, 'wooden': 5563, 'overdressed': 5564, 'retains': 5565, 'comparing': 5566, 'distress': 5567, 'drowned': 5568, 'existent': 5569, 'bus': 5570, 'saving': 5571, 'grecian': 5572, 'attended': 5573, 'signs': 5574, 'eh': 5575, 'pinched': 5576, 'unexpectedly': 5577, 'dislikes': 5578, 'peep': 5579, 'tra': 5580, 'flamingos': 5581, 'museum': 5582, 'reversed': 5583, 'perforated': 5584, 'paranoid': 5585, 'colorfast': 5586, 'hipster': 5587, 'john': 5588, 'neath': 5589, 'blades': 5590, 'conforms': 5591, 'deceptive': 5592, 'whitish': 5593, 'ts': 5594, 'leisure': 5595, 'indication': 5596, 'promising': 5597, 'tru': 5598, 'fla': 5599, 'backpack': 5600, 'blond': 5601, 'spunk': 5602, 'bulging': 5603, 'we': 5604, 'kitten': 5605, 'tla': 5606, 'pirate': 5607, 'york': 5608, 'limits': 5609, 'nye': 5610, 'role': 5611, 'derriã¨re': 5612, 'whi': 5613, \"'red'\": 5614, 'norm': 5615, 'suspected': 5616, 'smoother': 5617, 'inspires': 5618, \"charlie's\": 5619, 'war': 5620, \"anyone's\": 5621, 'manufacturer': 5622, '2s': 5623, 'differ': 5624, 'feelings': 5625, 'purplish': 5626, 'animals': 5627, \"top's\": 5628, 'sung': 5629, 'squished': 5630, '140b': 5631, 'starters': 5632, 'sl': 5633, 'perception': 5634, 'collect': 5635, 'yellowish': 5636, 'recommendations': 5637, 'ginormous': 5638, 'lake': 5639, \"t's\": 5640, \"1940's\": 5641, 'consistency': 5642, 'dated': 5643, 'drooped': 5644, 'evanthe': 5645, 'remaining': 5646, '31p': 5647, 'admiring': 5648, 'stable': 5649, 'internship': 5650, 'wais': 5651, 'information': 5652, 'hall': 5653, 'br': 5654, 'circumference': 5655, 'fare': 5656, 'lucked': 5657, 'ice': 5658, 'destroyed': 5659, 'faster': 5660, 'laugh': 5661, 'historically': 5662, 'checkered': 5663, 'mailed': 5664, 'reordering': 5665, 'handwash': 5666, 'mexican': 5667, 'bolero': 5668, 'classical': 5669, 'perky': 5670, 'sofa': 5671, 'forearms': 5672, 'hello': 5673, 'springtime': 5674, 'truer': 5675, 'versitile': 5676, 'twirly': 5677, 'reviewing': 5678, 'painted': 5679, 'coolest': 5680, 'repaired': 5681, 'switched': 5682, 'sorbet': 5683, 'raving': 5684, 'moreover': 5685, 'smocked': 5686, 'handled': 5687, 'substantially': 5688, 'notes': 5689, \"28's\": 5690, \"5'3ish\": 5691, 'hills': 5692, 'wishlist': 5693, 'flowly': 5694, 'gappy': 5695, 'circles': 5696, 'reverse': 5697, 'baggie': 5698, 'unzip': 5699, 'retail': 5700, 'fish': 5701, 'cares': 5702, 'drink': 5703, '29s': 5704, 'strike': 5705, 'staring': 5706, 'abstract': 5707, 'tule': 5708, 'drawstrings': 5709, 'noting': 5710, 'screamed': 5711, 'tulip': 5712, 'stink': 5713, 'distance': 5714, 'bride': 5715, '88': 5716, 'overbearing': 5717, 'feast': 5718, 'fleetwood': 5719, 'cousins': 5720, 'doily': 5721, 'extras': 5722, 'vein': 5723, 'depict': 5724, 'labor': 5725, 'lawn': 5726, 'polar': 5727, 'cushion': 5728, 'scratchiness': 5729, 'tolerate': 5730, 'originality': 5731, 'venture': 5732, 'misaligned': 5733, '156': 5734, 'poured': 5735, 'talented': 5736, 'spirited': 5737, 'coul': 5738, 'staggered': 5739, 'minnesota': 5740, 'host': 5741, 'slig': 5742, 'budge': 5743, 'unwrapped': 5744, 'utilitarian': 5745, 'prongs': 5746, 'legnth': 5747, 'batwing': 5748, 'sienna': 5749, 'assistance': 5750, 'bomb': 5751, 'shirtdresses': 5752, 'accessorizing': 5753, 'pnw': 5754, 'labeling': 5755, 'sink': 5756, 'panic': 5757, 'highwaisted': 5758, 'outweigh': 5759, 'unstitched': 5760, 'elaborate': 5761, 'nicks': 5762, 'glamour': 5763, 'task': 5764, 'focus': 5765, 'smooths': 5766, 'heal': 5767, '38d': 5768, 'trees': 5769, 'sandles': 5770, 'dread': 5771, 'shimmers': 5772, 'stumpy': 5773, 'fiance': 5774, 'kneecap': 5775, '121': 5776, 'aa': 5777, 'riff': 5778, 'shook': 5779, 'vast': 5780, 'departure': 5781, 'offsets': 5782, 'getaway': 5783, 'lasts': 5784, 'pu': 5785, 'stronger': 5786, 'starbucks': 5787, 'kin': 5788, 'deliciously': 5789, 'amterial': 5790, 'enthusiast': 5791, 'umbrellas': 5792, \"out'\": 5793, 'meat': 5794, 'rubbery': 5795, 'burns': 5796, 'seeking': 5797, 'shooties': 5798, 'destroying': 5799, 'baroque': 5800, 'atrocious': 5801, 'barre': 5802, 'ludicrous': 5803, '14p': 5804, 'garnet': 5805, 'slighly': 5806, 'funeral': 5807, 'preface': 5808, 'accommodating': 5809, \"5'3''\": 5810, 'swish': 5811, 'summed': 5812, 'dynamite': 5813, 'scale': 5814, 'married': 5815, 'p6': 5816, 'glasses': 5817, 'invest': 5818, 'grad': 5819, 'irresistibly': 5820, 'duper': 5821, 'posts': 5822, 'detract': 5823, 'hahaha': 5824, '2petite': 5825, 'frigid': 5826, 'dc': 5827, 'agreeing': 5828, 'error': 5829, 'ripples': 5830, 'jimmy': 5831, 'iffy': 5832, 'foggy': 5833, 'ware': 5834, 'float': 5835, 'mar': 5836, 'potatoes': 5837, 'grea': 5838, 'vent': 5839, 'inbox': 5840, 'british': 5841, 'kno': 5842, 'oxfords': 5843, 'mottled': 5844, 'invariably': 5845, 'claim': 5846, 'assured': 5847, 'underlining': 5848, 'longish': 5849, \"pant's\": 5850, 'intentionally': 5851, 'challenges': 5852, 'improved': 5853, 'abnormally': 5854, 'masterpiece': 5855, 'rump': 5856, 'floating': 5857, 'hump': 5858, 'atl': 5859, 'unreasonable': 5860, 'pricepoint': 5861, 'addict': 5862, 'popcorn': 5863, 'owns': 5864, 'fluttering': 5865, 'goofy': 5866, 'summ': 5867, 'percentage': 5868, 'beef': 5869, \"to's\": 5870, 'exclusively': 5871, 'softened': 5872, 'spotlight': 5873, 'exotic': 5874, '28dd': 5875, 'sateen': 5876, 'clutch': 5877, 'forwar': 5878, 'bloom': 5879, 'scrub': 5880, 'und': 5881, 'hiking': 5882, 'prom': 5883, 'childish': 5884, 'questions': 5885, 'pays': 5886, 'thoughtful': 5887, 'eliminated': 5888, 'unbelievable': 5889, '30f': 5890, 'ms': 5891, 'thou': 5892, 'boost': 5893, 'doorstep': 5894, 'wineries': 5895, '13': 5896, 'decidedly': 5897, 'reader': 5898, 'sparingly': 5899, 'kedia': 5900, 'horns': 5901, 'explains': 5902, 'stockings': 5903, 'thr': 5904, 'unfortunatly': 5905, 'medallion': 5906, 'wispy': 5907, 'releases': 5908, 'taught': 5909, 'rocked': 5910, 'wins': 5911, 'convey': 5912, 'slee': 5913, 'conformable': 5914, 'protrude': 5915, 'breasting': 5916, 'oop': 5917, 'toddler': 5918, 'seats': 5919, 'rail': 5920, 'automatically': 5921, 'spoken': 5922, 'willingness': 5923, 'mediocre': 5924, 'drawing': 5925, 'guilty': 5926, 'resting': 5927, 'dangle': 5928, 'uh': 5929, 'mumu': 5930, 'exchanges': 5931, 'request': 5932, 'keys': 5933, 'blocks': 5934, 'lively': 5935, '168': 5936, 'seed': 5937, 'fixes': 5938, 'recheck': 5939, 'showcases': 5940, 'ratings': 5941, 'redeeming': 5942, 'conditioned': 5943, 'gravitating': 5944, 'patter': 5945, 'damp': 5946, 'shore': 5947, 'stunningly': 5948, 'sham': 5949, 'buckled': 5950, 'prado': 5951, 'petities': 5952, 'bog': 5953, 'conference': 5954, 'reserve': 5955, 'facebook': 5956, 'wel': 5957, 'sentence': 5958, 'informed': 5959, 'detracts': 5960, 'gravity': 5961, 'smiling': 5962, 'camouflaging': 5963, \"'m'\": 5964, \"'s'\": 5965, 'shouts': 5966, 'denver': 5967, 'peeps': 5968, 'harsh': 5969, 'downward': 5970, 'swear': 5971, 'melodist': 5972, 'bloused': 5973, 'foxes': 5974, 'monogram': 5975, 'winning': 5976, 'cellulite': 5977, 'bueno': 5978, 'giv': 5979, 'qua': 5980, 'purcha': 5981, \"'em\": 5982, 'surrounded': 5983, 'relieved': 5984, 'itches': 5985, 'farrah': 5986, 'rosettes': 5987, 'classes': 5988, 'hilarious': 5989, 'teenage': 5990, 'emb': 5991, 'batwings': 5992, 'nighty': 5993, '27r': 5994, 'tasteful': 5995, 'armed': 5996, 'adventure': 5997, 'inseams': 5998, 'retur': 5999, 'loft': 6000, 'sucks': 6001, 'backward': 6002, 'thee': 6003, 'ike': 6004, 'bling': 6005, 'sweetly': 6006, 'pillow': 6007, 'primarily': 6008, 'largish': 6009, 'dipping': 6010, 'dealbreaker': 6011, 'eptites': 6012, 'rec': 6013, '122lbs': 6014, 'tweaking': 6015, 'wont': 6016, 'subtlety': 6017, '36h': 6018, \"'runs\": 6019, 'smock': 6020, 'swallowing': 6021, 'looove': 6022, 'pintuck': 6023, 'cornflower': 6024, 'restriction': 6025, 'shins': 6026, 'lackluster': 6027, 'dilemma': 6028, 'extravagant': 6029, 'fro': 6030, 'midst': 6031, 'mary': 6032, 'stamped': 6033, 'optimal': 6034, 'fairisle': 6035, 'popsicles': 6036, 'sways': 6037, 'dimples': 6038, 'welcomed': 6039, 'toget': 6040, 'scandalous': 6041, 'jet': 6042, 'contribute': 6043, 'grazed': 6044, 'theater': 6045, 'equals': 6046, 'featuring': 6047, 'pickup': 6048, 'broach': 6049, 'shopped': 6050, 'grease': 6051, 'filmy': 6052, 'honolulu': 6053, 'outcome': 6054, 'lp': 6055, 'ke': 6056, 'avoiding': 6057, \"29's\": 6058, 'dig': 6059, '6petite': 6060, 'rosy': 6061, 'cumbersome': 6062, 'intertwined': 6063, 'closeup': 6064, 'allusion': 6065, 'reliable': 6066, 'slow': 6067, 'guest': 6068, 'paler': 6069, 'spoke': 6070, 'greenville': 6071, 'nc': 6072, 'anxiously': 6073, 'ho': 6074, 'hype': 6075, 'drawbacks': 6076, 'misplaced': 6077, 'marguerite': 6078, 'payed': 6079, 'polo': 6080, 'scotty': 6081, 'pity': 6082, 'glue': 6083, '158': 6084, 'brief': 6085, 'breakers': 6086, 'sailboat': 6087, 'imply': 6088, 'pr': 6089, 'clerks': 6090, 'shoul': 6091, 'stretc': 6092, 'nod': 6093, 'rhinestone': 6094, 'recd': 6095, 'observation': 6096, 'fiancã©': 6097, 'counting': 6098, 'drastically': 6099, 'grateful': 6100, 'prepare': 6101, 'span': 6102, 'gamut': 6103, 'uncovered': 6104, 'costumer': 6105, 'splendidly': 6106, 'sorely': 6107, 'jewels': 6108, 'withstand': 6109, 'zig': 6110, 'zag': 6111, 'stripped': 6112, 'bulged': 6113, 'recognized': 6114, 'covet': 6115, \"31's\": 6116, '4ft': 6117, 'spade': 6118, 'fisher': 6119, 'lnever': 6120, 'fewer': 6121, 'bugs': 6122, 'colleagues': 6123, 'flight': 6124, 'approach': 6125, 'tasting': 6126, 'upright': 6127, 'formed': 6128, 'nearest': 6129, 'placing': 6130, 'outward': 6131, 'squashed': 6132, 'jazz': 6133, 'z': 6134, 'ags': 6135, 'swam': 6136, 'afterward': 6137, 'loafers': 6138, 'funnel': 6139, 'underslip': 6140, 'cast': 6141, 'updates': 6142, 'heirloom': 6143, 'disintegrate': 6144, 'bouncy': 6145, 'fingernails': 6146, '25s': 6147, 'bette': 6148, 'lumberjack': 6149, 'developing': 6150, 'google': 6151, 'evens': 6152, 'fears': 6153, 'ada': 6154, 'slippery': 6155, 'marilyn': 6156, 'arbor': 6157, 'poofiness': 6158, 'possibility': 6159, 'classier': 6160, 'masking': 6161, 'failure': 6162, 'residual': 6163, 'accidental': 6164, 'ewww': 6165, 'reflection': 6166, 'whit': 6167, 'launders': 6168, 'remembering': 6169, 'unimpressive': 6170, 'eggplant': 6171, 'barrel': 6172, 'girth': 6173, 'gracious': 6174, 'recognize': 6175, 'intentions': 6176, 'granite': 6177, 'excuse': 6178, 'twin': 6179, 'flapper': 6180, 'exudes': 6181, 'coated': 6182, 'warmers': 6183, 'frosty': 6184, 'nicked': 6185, 'sins': 6186, 'lats': 6187, '5lbs': 6188, 'grazing': 6189, 'chin': 6190, 'painfully': 6191, 'bam': 6192, '2r': 6193, 'checks': 6194, \"lot's\": 6195, 'peite': 6196, 'ou': 6197, 'xxxl': 6198, 'coupled': 6199, 'repeat': 6200, 'sal': 6201, 'tomato': 6202, 'lotta': 6203, 'purposeful': 6204, 'worsened': 6205, 'housedress': 6206, 'disappears': 6207, 'earthy': 6208, 'speckles': 6209, 'regions': 6210, 'styl': 6211, 'restricts': 6212, 'groom': 6213, 'anatomy': 6214, 'mystery': 6215, 'destined': 6216, 'allover': 6217, '1960s': 6218, 'shake': 6219, 'linty': 6220, 'film': 6221, 'rediculously': 6222, 'tightest': 6223, \"5'4'\": 6224, 'ther': 6225, 'complexions': 6226, 'oil': 6227, 'punk': 6228, '52': 6229, 'stinking': 6230, 'discomfort': 6231, 'era': 6232, 'diameter': 6233, 'extraordinary': 6234, 'unfolded': 6235, 'overkill': 6236, 'construct': 6237, 'soccer': 6238, 'ladder': 6239, 'stunted': 6240, 'materiel': 6241, 'handles': 6242, 'discreet': 6243, 'splits': 6244, 'scrunched': 6245, 'cinnamon': 6246, 'becuase': 6247, 'cancelled': 6248, 'elongates': 6249, 'waaaaaay': 6250, 'remade': 6251, 'sufficient': 6252, 'curtain': 6253, 'plentiful': 6254, 'airing': 6255, 'gaucho': 6256, '1980s': 6257, 'advantages': 6258, 'hoops': 6259, 'extensively': 6260, 'waaaay': 6261, 'disclosure': 6262, 'beautifu': 6263, 'toosh': 6264, 'tale': 6265, 'distorted': 6266, 'discoloration': 6267, 'expe': 6268, 'pinstripe': 6269, 'related': 6270, 'pippa': 6271, '116lb': 6272, 'tattoo': 6273, 'existing': 6274, 'dies': 6275, 'maillot': 6276, 'straightforward': 6277, '2010': 6278, 'comfrotable': 6279, 'tey': 6280, 'marring': 6281, 'mr': 6282, 'tracey': 6283, 'confess': 6284, 'community': 6285, 'spirit': 6286, 'semblance': 6287, 'essence': 6288, \"29'\": 6289, 'meal': 6290, 'flirtiness': 6291, 'lunches': 6292, 'minty': 6293, 'defines': 6294, 'tented': 6295, '2x': 6296, 'slanted': 6297, 'miniature': 6298, 'cartoon': 6299, 'classics': 6300, '111lbs': 6301, 'structural': 6302, 'massively': 6303, 'sags': 6304, \"shouldn't\": 6305, 'bootcut': 6306, 'repair': 6307, 'nylons': 6308, 'burlap': 6309, 'she': 6310, 'balled': 6311, 'attendant': 6312, 'pesky': 6313, 'hemlines': 6314, 'whale': 6315, 'swell': 6316, 'dish': 6317, 'shawls': 6318, 'undoing': 6319, 'incorporated': 6320, 'teens': 6321, 'fantastically': 6322, 'pricier': 6323, 'pause': 6324, 'atlanta': 6325, 'stack': 6326, 'yellowy': 6327, 'appliquã©s': 6328, 'boyshort': 6329, 'dre': 6330, '38dd': 6331, 'geared': 6332, 'mode': 6333, 'straining': 6334, 'occassion': 6335, 'prego': 6336, 'dominate': 6337, 'liberty': 6338, 'cleverly': 6339, 'crack': 6340, 'rugged': 6341, 'battle': 6342, 'resolved': 6343, 'grandmother': 6344, '34dddd': 6345, 'strategic': 6346, 'dragonflies': 6347, 'swept': 6348, 'district': 6349, 'rainbow': 6350, 'weght': 6351, 'southwest': 6352, 'lightened': 6353, 'ruler': 6354, 'havent': 6355, 'skorts': 6356, 'contour': 6357, 'perf': 6358, 'weightier': 6359, 'retu': 6360, 'dimensional': 6361, 'mes': 6362, 'pds': 6363, 'orangy': 6364, 'quicker': 6365, \"shirt's\": 6366, 'unpleasant': 6367, 'compliant': 6368, 'definetly': 6369, 'quirkiness': 6370, 'xxl': 6371, 'flowery': 6372, 'deserve': 6373, 'sandels': 6374, \"xs's\": 6375, 'definitly': 6376, 'youre': 6377, 'burned': 6378, '109': 6379, '113lbs': 6380, 'flatttering': 6381, 'hotter': 6382, '133lbs': 6383, 'colorwise': 6384, 'converted': 6385, 'shaper': 6386, 'flattens': 6387, 'unflatering': 6388, 'skit': 6389, 'handling': 6390, 'monday': 6391, 'speed': 6392, 'circa': 6393, 'latch': 6394, 'stumped': 6395, 'greater': 6396, 'convince': 6397, 'rising': 6398, 'danced': 6399, 'charge': 6400, '1950s': 6401, 'having': 6402, 'leading': 6403, 'dries': 6404, 'building': 6405, 'oddity': 6406, 'parcel': 6407, 'catchy': 6408, 'whoever': 6409, 'thinnish': 6410, \"4'\": 6411, 'cell': 6412, 'girlfriends': 6413, 'gun': 6414, 'renaissance': 6415, '132lbs': 6416, 'smashing': 6417, \"there'd\": 6418, 'genie': 6419, \"jacket's\": 6420, 'ideas': 6421, 'spanks': 6422, 'overpower': 6423, 'mellow': 6424, 'underside': 6425, 'stets': 6426, 'flannels': 6427, 'opting': 6428, 'lon': 6429, 'youth': 6430, 'smelly': 6431, 'modeled': 6432, 'maintaining': 6433, 'noticable': 6434, 'sloppiness': 6435, 'ranch': 6436, 'cacti': 6437, 'critical': 6438, 'memory': 6439, 'um': 6440, 'cardy': 6441, 'ply': 6442, 'discounted': 6443, 'slighty': 6444, 'distraction': 6445, 'furniture': 6446, 'games': 6447, 'knuckles': 6448, 'inherent': 6449, 'uncut': 6450, 'cities': 6451, 'xlarge': 6452, 'recomend': 6453, 'thesis': 6454, 'pixie': 6455, 'zillion': 6456, 'girlish': 6457, 'sultry': 6458, 'flowered': 6459, 'networking': 6460, 'savvy': 6461, 'sewer': 6462, 'hap': 6463, 'regretted': 6464, 'monica': 6465, 'eternal': 6466, 'climbing': 6467, 'batches': 6468, 'marshmallow': 6469, 'turner': 6470, 'sheers': 6471, 'squat': 6472, 'tuesday': 6473, 'swallows': 6474, 'stadium': 6475, 'introduced': 6476, 'verging': 6477, 'appliquã©d': 6478, 'drown': 6479, 'lifts': 6480, 'mys': 6481, 'upgrade': 6482, 'gr': 6483, '175lbs': 6484, 'butts': 6485, 'ur': 6486, 'tempting': 6487, 'neede': 6488, 'soak': 6489, 'overnight': 6490, 'woolite': 6491, 'chemicals': 6492, 'blog': 6493, '5th': 6494, 'corals': 6495, 'wrangle': 6496, 'denimy': 6497, 'knocks': 6498, 'conclusion': 6499, 'gems': 6500, 'disneyland': 6501, 'containing': 6502, 'sk': 6503, 'binder': 6504, 'discolored': 6505, 'treated': 6506, 'focal': 6507, 'pice': 6508, 'presentations': 6509, 'aforementioned': 6510, 'slick': 6511, 'production': 6512, 'swimmer': 6513, 'failing': 6514, 'descriptor': 6515, 'perfe': 6516, 'stumble': 6517, 'silhouettes': 6518, 'habitus': 6519, 'variable': 6520, 'hallelujah': 6521, 'patterning': 6522, 'differs': 6523, 'temp': 6524, 'palm': 6525, 'smoky': 6526, 'swoop': 6527, 'mn': 6528, 'cleans': 6529, 'cld': 6530, 'theres': 6531, 'fuchsia': 6532, \"grandma's\": 6533, \"did't\": 6534, 'grosgrain': 6535, \"6''\": 6536, 'sucked': 6537, 'zigzag': 6538, 'chub': 6539, 'myriad': 6540, 'tastes': 6541, 'cali': 6542, 'exmaple': 6543, 'bluishgreen': 6544, 'hae': 6545, 'hrs': 6546, 'tw': 6547, 'fans': 6548, 'declining': 6549, 'trash': 6550, 'exaggerates': 6551, 'popback': 6552, 'curling': 6553, 'eyeballing': 6554, 'begging': 6555, 'marvelous': 6556, '165lbs': 6557, 'source': 6558, \"5'8'\": 6559, 'wideness': 6560, 'volumes': 6561, 'allison': 6562, 'village': 6563, '38in': 6564, 'tremendously': 6565, 'sexyness': 6566, 'salesgirl': 6567, 'faltering': 6568, 'wadded': 6569, 'actuality': 6570, 'novelty': 6571, 'sweatpants': 6572, 'thermals': 6573, 'thermal': 6574, 'industry': 6575, 'nailed': 6576, 'formally': 6577, 'bunchiness': 6578, 'thier': 6579, 'pointing': 6580, 'waterfall': 6581, 'blows': 6582, '10lbs': 6583, 'loooove': 6584, 'felty': 6585, 'viewed': 6586, 'requirement': 6587, 'trashed': 6588, 'mattress': 6589, 'glanced': 6590, 'rocker': 6591, 'fringes': 6592, 'nd': 6593, 'pie': 6594, 'mmmmm': 6595, 'praise': 6596, 'icky': 6597, 'bedspread': 6598, 'undoubtedly': 6599, 'geometrical': 6600, 'worker': 6601, 'straighten': 6602, 'accept': 6603, \"money's\": 6604, 'col': 6605, '83': 6606, 'louisiana': 6607, 'seeming': 6608, \"we've\": 6609, 'toasty': 6610, 'survived': 6611, 'dissuade': 6612, 'culotte': 6613, 'basketball': 6614, 'hybrid': 6615, 'alittle': 6616, 'perhap': 6617, 'bikinis': 6618, 'instinct': 6619, 'trainers': 6620, 'bun': 6621, 'grand': 6622, 'stroll': 6623, 'sheerest': 6624, 'risky': 6625, 'tis': 6626, \"8's\": 6627, 'hunched': 6628, 'debate': 6629, 'branches': 6630, \"20's\": 6631, 'hubs': 6632, 'owner': 6633, 'quirk': 6634, 'charts': 6635, 'sofisticated': 6636, 'surface': 6637, 'starched': 6638, 'flora': 6639, 'apprx': 6640, 'cusp': 6641, 'unsnapped': 6642, 'upsizing': 6643, 'bes': 6644, 'swap': 6645, 'flatten': 6646, 'seater': 6647, 'otk': 6648, 'landscape': 6649, 'sacrifice': 6650, 'accomplish': 6651, 'capsule': 6652, 'balloony': 6653, 'dn': 6654, 'dishes': 6655, 'stark': 6656, 'gypsy': 6657, 'daylight': 6658, 'lyocel': 6659, 'tote': 6660, 'dismay': 6661, 'patent': 6662, 'wither': 6663, 'sf': 6664, 'dresser': 6665, 'owls': 6666, 'regretfully': 6667, '110lb': 6668, 'disposable': 6669, \"season's\": 6670, 'palate': 6671, 'freely': 6672, 'amd': 6673, 'forms': 6674, 'jammie': 6675, '5in': 6676, 'scrolling': 6677, 'solely': 6678, 'newport': 6679, 'larkspur': 6680, 'flutters': 6681, 'amazon': 6682, 'team': 6683, 'members': 6684, 'minimized': 6685, 'spans': 6686, 'leaning': 6687, 'patience': 6688, 'redo': 6689, 'camera': 6690, 'rectangular': 6691, 'flowiness': 6692, 'decorations': 6693, 'hindsight': 6694, 'indecent': 6695, 'worries': 6696, 'trashy': 6697, 'insisted': 6698, 'becau': 6699, 'connected': 6700, 'leopard': 6701, 'bath': 6702, 'noticing': 6703, 'stout': 6704, 'trans': 6705, 'excitedly': 6706, 'moments': 6707, 'whilst': 6708, 'showered': 6709, 'timely': 6710, 'bachelorette': 6711, 'napa': 6712, 'disgusting': 6713, 'az': 6714, 'skipping': 6715, 'melon': 6716, 'chances': 6717, 'accented': 6718, 'crafty': 6719, 'tolerance': 6720, 'michael': 6721, 'ov': 6722, 'sie': 6723, '127lb': 6724, 'painting': 6725, 'utility': 6726, 'nipples': 6727, 'defini': 6728, 'emails': 6729, 'saleslady': 6730, 'smoothes': 6731, 'petitte': 6732, '40th': 6733, 'pelvis': 6734, 'em': 6735, 'reaction': 6736, 'italian': 6737, 'neater': 6738, 'excellently': 6739, 'henleys': 6740, 'dates': 6741, 'compatible': 6742, 'he': 6743, 'versat': 6744, 'excitement': 6745, 'yellows': 6746, 'disguised': 6747, 'lyocell': 6748, '155lb': 6749, 'bei': 6750, 'snakeskin': 6751, 'deterrent': 6752, 'fluctuations': 6753, 'trimming': 6754, 'confining': 6755, 'gorge': 6756, 'littl': 6757, 'hipsters': 6758, 'fighting': 6759, 'food': 6760, 'longtime': 6761, 'coloured': 6762, 'discounts': 6763, 'reconsider': 6764, 'vey': 6765, 'silkier': 6766, 'itty': 6767, 'wether': 6768, 'cutesy': 6769, 'tylho': 6770, 'alaska': 6771, 'inexplicably': 6772, 'partner': 6773, 'shops': 6774, 'sailboats': 6775, 'framing': 6776, 'trie': 6777, 'typica': 6778, 'recipient': 6779, 'sixties': 6780, 'shredded': 6781, 'kaki': 6782, 'habit': 6783, 'frills': 6784, 'accepted': 6785, 'overlaps': 6786, 'maiden': 6787, 'mullet': 6788, 'overlapping': 6789, 'encourage': 6790, 'clo': 6791, '03': 6792, 'user': 6793, 'factory': 6794, 'cellophane': 6795, 'ig': 6796, 'books': 6797, \"'m\": 6798, 'undressed': 6799, 'celebrate': 6800, \"collector's\": 6801, 'bid': 6802, 'wobbly': 6803, 'rule': 6804, 'whirl': 6805, 'scoops': 6806, 'limp': 6807, 'goo': 6808, 'uncommon': 6809, 'saddened': 6810, 'voila': 6811, 'underwhelming': 6812, 'greige': 6813, 'chubby': 6814, 'disappeared': 6815, 'workplace': 6816, 'dragged': 6817, 'descri': 6818, 'campus': 6819, 'letters': 6820, 'togethers': 6821, 'hoxton': 6822, 'perfecto': 6823, 'stilts': 6824, 'distribution': 6825, 'mediterranean': 6826, 'poofing': 6827, \"niece's\": 6828, 'coldest': 6829, 'voluptuous': 6830, 'sooooooo': 6831, 'missoni': 6832, 'sle': 6833, 'splashes': 6834, 'qualm': 6835, 'puffier': 6836, 'chasing': 6837, 'reweave': 6838, 'weaned': 6839, 'eyelash': 6840, 'overnighted': 6841, 'bubbled': 6842, 'derriere': 6843, 'rushing': 6844, 'fuschia': 6845, 'unattractively': 6846, 'lovey': 6847, 'durham': 6848, 'grunge': 6849, 'questionable': 6850, 'altho': 6851, 'enthralled': 6852, 'impeccably': 6853, 'regain': 6854, 'cave': 6855, 'shirttail': 6856, 'oomph': 6857, 'mesmerizing': 6858, 'snuck': 6859, 'bicep': 6860, '32e': 6861, 'released': 6862, 'colorways': 6863, \"might've\": 6864, 'checkout': 6865, 'madly': 6866, 'producing': 6867, 'interview': 6868, \"nephew's\": 6869, 'flowier': 6870, 'poster': 6871, 'oozes': 6872, 'conceals': 6873, 'obi': 6874, 'iphone': 6875, 'quintessential': 6876, 'concrete': 6877, '36aa': 6878, 'scrubs': 6879, \"we'd\": 6880, 'boxing': 6881, 'champion': 6882, 'sudden': 6883, 'sliming': 6884, 'faith': 6885, 'wandered': 6886, 'whoop': 6887, 'eprson': 6888, 'capped': 6889, \"skirt's\": 6890, 'creation': 6891, 'lesson': 6892, 'expands': 6893, 'p0': 6894, 'asia': 6895, 'umph': 6896, 'flags': 6897, '54': 6898, 'interestingly': 6899, 'coordinates': 6900, 'joke': 6901, \"girl's\": 6902, 'characteristic': 6903, 'specks': 6904, 'hikes': 6905, 'asian': 6906, 'foresee': 6907, 'unflatteringly': 6908, 'vpl': 6909, 'foldover': 6910, 'join': 6911, 'craze': 6912, 'overseas': 6913, 'prett': 6914, 'delicates': 6915, 'increasingly': 6916, 'spills': 6917, 'shells': 6918, 'tires': 6919, 'fraction': 6920, 'appalled': 6921, 'orangish': 6922, 'coziness': 6923, 'pinning': 6924, 'practice': 6925, 'aize': 6926, 'ant': 6927, 'peice': 6928, 'professorial': 6929, 'factors': 6930, 'hwoever': 6931, 'redhead': 6932, 'saddlebag': 6933, 'crude': 6934, 'terracotta': 6935, '75': 6936, 'disservice': 6937, \"5'9''\": 6938, 'hmm': 6939, 'detracted': 6940, 'names': 6941, 'lumpiness': 6942, 'knockout': 6943, 'fist': 6944, 'newly': 6945, 'saucy': 6946, 'proves': 6947, 'survivor': 6948, 'skater': 6949, 'curiosity': 6950, '8s': 6951, \"it'\": 6952, 'relegated': 6953, 'highlighting': 6954, 'polish': 6955, 'decoration': 6956, 'pe': 6957, '26s': 6958, 'twee': 6959, 'tide': 6960, 'flabby': 6961, 'inquiries': 6962, 'ochre': 6963, 'secret': 6964, 'shortie': 6965, 'chore': 6966, 'ultimate': 6967, 'graham': 6968, 'spencer': 6969, 'icing': 6970, 'cake': 6971, 'offensive': 6972, 'excels': 6973, 'tanner': 6974, 'journey': 6975, 'purposely': 6976, 'filipino': 6977, 'coveralls': 6978, 'remedy': 6979, 'hipline': 6980, 'thirty': 6981, 'forgotten': 6982, 'cases': 6983, 'innocent': 6984, 'creep': 6985, 'wring': 6986, 'pampered': 6987, 'approximate': 6988, 'optional': 6989, 'retired': 6990, 'views': 6991, 'default': 6992, 'project': 6993, 'juvenile': 6994, 'fronts': 6995, \"everyone's\": 6996, 'counted': 6997, \"5''6\": 6998, 'gear': 6999, 'metalic': 7000, 'crepey': 7001, 'lab': 7002, 'owning': 7003, 'being': 7004, 'fellow': 7005, 'wearers': 7006, 'keepers': 7007, 'ethereal': 7008, 'chameleon': 7009, 'chopped': 7010, 'tailors': 7011, 'boyleg': 7012, 'halters': 7013, 'smaill': 7014, 'jazzed': 7015, 'jutted': 7016, 'mismatch': 7017, 'visions': 7018, 'sartorial': 7019, 'dreams': 7020, '53': 7021, 'gel': 7022, 'devoted': 7023, 'hmmm': 7024, 'ligher': 7025, 'pans': 7026, \"1970's\": 7027, 'graduating': 7028, 'crusty': 7029, 'moisture': 7030, 'transform': 7031, 'removing': 7032, 'referance': 7033, 'dara': 7034, 'waif': 7035, 'overwhelms': 7036, 'locations': 7037, 'crucial': 7038, 'mos': 7039, '114lbs': 7040, 'testing': 7041, 'rings': 7042, 'tinted': 7043, \"others'\": 7044, \"people's\": 7045, 'continuously': 7046, 'alpaca': 7047, 'strangling': 7048, 'forgiven': 7049, 'starchy': 7050, 'chanel': 7051, 'ab': 7052, 'assessing': 7053, 'offs': 7054, 'clay': 7055, \"body's\": 7056, 'nipple': 7057, 'loungers': 7058, 'manageable': 7059, 'wth': 7060, 'sincerely': 7061, 'awaiting': 7062, 'confusion': 7063, 'crewneck': 7064, 'disgustingly': 7065, 'heats': 7066, 'sorta': 7067, 'glide': 7068, 'amalfi': 7069, 'woke': 7070, 'entry': 7071, 'webs': 7072, 'behold': 7073, 'squishy': 7074, 'lengthening': 7075, 'thoughtfully': 7076, 'nicel': 7077, 'colorado': 7078, 'pondering': 7079, 'gripper': 7080, \"v's\": 7081, 'stoked': 7082, 'overlaid': 7083, '1987': 7084, 'camo': 7085, 'yacht': 7086, 'couture': 7087, 'sweating': 7088, 'selves': 7089, 'nit': 7090, '10th': 7091, \"who's\": 7092, 'workouts': 7093, 'imperfection': 7094, 'shocking': 7095, 'curl': 7096, \"she'd\": 7097, 'nurse': 7098, \"y'all\": 7099, 'snipped': 7100, 'squash': 7101, 'absolutly': 7102, 'transformed': 7103, 'womanly': 7104, 'electric': 7105, 'printing': 7106, 'pooled': 7107, 'blazing': 7108, \"27's\": 7109, 'translated': 7110, 'dawn': 7111, 'birth': 7112, 'synch': 7113, 'jackie': 7114, \"mom's\": 7115, 'crumples': 7116, 'petties': 7117, \"joe's\": 7118, \"jean's\": 7119, 'numbers': 7120, 'intricately': 7121, 'repurchase': 7122, 'squared': 7123, 'masculine': 7124, 'showcase': 7125, 'rubber': 7126, 'joan': 7127, 'buttonhole': 7128, 'hol': 7129, 'clashed': 7130, 'agreement': 7131, 'penguin': 7132, 'remarkable': 7133, 'tropical': 7134, \"10's\": 7135, 'collage': 7136, 'wallpaper': 7137, 'sided': 7138, 'affects': 7139, \"reviewers'\": 7140, 'roaming': 7141, 'moors': 7142, 'dresss': 7143, 'busting': 7144, \"else's\": 7145, 'instructed': 7146, 'overwhelmingly': 7147, 'contact': 7148, 'rocket': 7149, 'torture': 7150, 'device': 7151, '30p': 7152, 'periods': 7153, 'jogging': 7154, 'iso': 7155, 'faulty': 7156, 'hooray': 7157, 'doing': 7158, 'overtly': 7159, 'madewell': 7160, 'oranges': 7161, 'tugged': 7162, 'doubts': 7163, 'bordered': 7164, 'demon': 7165, 'accordian': 7166, 'bagged': 7167, 'interfered': 7168, 'melt': 7169, 'refresher': 7170, 'nad': 7171, 'purc': 7172, 'impatiently': 7173, 'applaud': 7174, 'dealt': 7175, 'oversight': 7176, 'mobility': 7177, 'briefs': 7178, 'discouraged': 7179, 'likewise': 7180, 'divinely': 7181, 'wayyy': 7182, 'frays': 7183, 'postcard': 7184, 'quilt': 7185, 'pillowcase': 7186, 'browse': 7187, 'err': 7188, 'brightens': 7189, 'favorably': 7190, 'sunlight': 7191, 'weirdest': 7192, \"won't\": 7193, 'won': 7194, 'decade': 7195, 'lin': 7196, 'yea': 7197, 'pointy': 7198, 'ashley': 7199, 'scrappy': 7200, 'your': 7201, 'saffron': 7202, 'overpowered': 7203, 'squirming': 7204, 'mend': 7205, '000': 7206, 'terrycloth': 7207, 'multicolored': 7208, 'spokane': 7209, 'skiers': 7210, 'som': 7211, \"4''\": 7212, 'scrooge': 7213, 'stomachs': 7214, 'pushup': 7215, 'born': 7216, 'uncuffed': 7217, 'embrace': 7218, 'crisscrossed': 7219, 'wrestle': 7220, 'deserved': 7221, 'dive': 7222, 'middl': 7223, 'wamp': 7224, \"coh's\": 7225, 'repertoire': 7226, 'poufs': 7227, 'newer': 7228, '38b': 7229, 'honor': 7230, 'mentioend': 7231, \"material's\": 7232, 'boyfriends': 7233, 'delicacy': 7234, 'shallow': 7235, 'overs': 7236, 'flecked': 7237, 'distorts': 7238, 'exit': 7239, \"5'11''\": 7240, \"she's\": 7241, 'broaden': 7242, 'winds': 7243, 'poolside': 7244, 'crease': 7245, 'remnant': 7246, 'imagining': 7247, 'lust': 7248, 'easiest': 7249, 'cutoffs': 7250, 'pefect': 7251, 'amking': 7252, 'unit': 7253, 'realllly': 7254, '8in': 7255, 'lovelyt': 7256, 'marian': 7257, 'alexandria': 7258, 'blueish': 7259, 'fort': 7260, 'knox': 7261, 'gauntlet': 7262, 'proclaimed': 7263, 'hoop': 7264, \"'90's\": 7265, 'scottish': 7266, 'joe': 7267, 'wellies': 7268, 'preferring': 7269, 'toyed': 7270, 'flex': 7271, 'whose': 7272, 'batty': 7273, 'funnily': 7274, 'compareed': 7275, 'camisoles': 7276, '190': 7277, 'france': 7278, 'tickets': 7279, 'modes': 7280, 'introduction': 7281, 'jog': 7282, 'combed': 7283, \"am5'4'\": 7284, 'refused': 7285, 'freakishly': 7286, 'pirchasing': 7287, 'ugliest': 7288, 'antebellum': 7289, 'depictes': 7290, 'hawed': 7291, 'decen': 7292, 'newest': 7293, 'cook': 7294, 'softener': 7295, 'tossed': 7296, 'weara': 7297, 'fixable': 7298, 'scramble': 7299, 'restretching': 7300, 'stretchable': 7301, 'aaaaaaamazing': 7302, 'slighting': 7303, 'juuuust': 7304, 'salesclerk': 7305, 'winth': 7306, 'trepidation': 7307, 'looooooove': 7308, 'ocd': 7309, 'syle': 7310, 'fatal': 7311, 'lopsided': 7312, 'completes': 7313, 'resisted': 7314, 'retrospect': 7315, 'suggesting': 7316, 'sinched': 7317, 'experts': 7318, 'map': 7319, 'instuctions': 7320, 'dryable': 7321, 'goodwill': 7322, 'meta': 7323, 'doubles': 7324, 'minded': 7325, 'saver': 7326, 'picro': 7327, 'discontinues': 7328, 'combines': 7329, 'lizard': 7330, 'frye': 7331, 'jane': 7332, 'nicley': 7333, 'sadl': 7334, 'commenters': 7335, 'padderns': 7336, \"44's\": 7337, 'fool': 7338, \"it's'\": 7339, 'trired': 7340, 'lvoed': 7341, 'central': 7342, 'ahhh': 7343, 'blessing': 7344, 'sour': 7345, 'milk': 7346, 'vienne': 7347, '47': 7348, 'bursting': 7349, 'classroom': 7350, 'surplice': 7351, 'happiest': 7352, 'mussed': 7353, 'unfini': 7354, 'supersexy': 7355, 'openly': 7356, 'intrepid': 7357, 'prompt': 7358, 'boosh': 7359, \"mean's\": 7360, 'sillier': 7361, 'elliot': 7362, 'anhtro': 7363, 'ought': 7364, 'splashy': 7365, 'hub': 7366, \"barista's\": 7367, 'upturned': 7368, 'entering': 7369, 'ingest': 7370, 'itnended': 7371, 'aame': 7372, 'apttern': 7373, 'spruce': 7374, \"'wear\": 7375, 'lug': 7376, 'armscye': 7377, 'grips': 7378, 'brags': 7379, 'anrtho': 7380, 'instore': 7381, \"'railroad\": 7382, \"tracks'\": 7383, 'nominal': 7384, 'ruffl': 7385, 'genuinely': 7386, \"who've\": 7387, 'cardigen': 7388, 'horseshoe': 7389, 'tyically': 7390, 'nesrly': 7391, '1000': 7392, 'blight': 7393, 'glendale': 7394, 'desi': 7395, 'vermont': 7396, 'pul': 7397, '5ft8inches': 7398, 'rackerback': 7399, 'smash': 7400, 'buns': 7401, 'ballerina': 7402, 'badass': 7403, 'asummig': 7404, 'polyestery': 7405, 'tinselly': 7406, 'forewarned': 7407, 'botih': 7408, 'mainstream': 7409, 'neda': 7410, 'died': 7411, 'doe': 7412, 'enchanted': 7413, 'scope': 7414, \"sparrow's\": 7415, 'ju': 7416, 'cab': 7417, 'curb': 7418, 'surf': 7419, 'pilcos': 7420, \"voila'\": 7421, 'racier': 7422, 'weddi': 7423, 'slende': 7424, 'limps': 7425, 'beg': 7426, 'overywhelming': 7427, 'insta': 7428, 'streaking': 7429, 'limiting': 7430, 'hovering': 7431, '144lbs': 7432, 'airline': 7433, 'sectioning': 7434, 'definitively': 7435, 'rider': 7436, 'owing': 7437, 'colw': 7438, 'tummmy': 7439, 'sheerish': 7440, 'dl1961s': 7441, 'careless': 7442, 'unreliable': 7443, 'towels': 7444, 'minmized': 7445, 'gaining': 7446, 'inclined': 7447, 'charged': 7448, 'anthopology': 7449, 'thsi': 7450, 'waht': 7451, 'sued': 7452, 'lvoe': 7453, 'reeled': 7454, 'prompting': 7455, 'boundaries': 7456, \"6'1\": 7457, 'savannah': 7458, 'ga': 7459, 'gravitated': 7460, 'haystack': 7461, 'confirmed': 7462, 'diagnol': 7463, 'perches': 7464, 'junctions': 7465, 'funds': 7466, 'poufing': 7467, 'toro': 7468, 'perspiration': 7469, 'benea': 7470, 'teenagers': 7471, 'lsit': 7472, 'modl': 7473, 'ute': 7474, 'brught': 7475, 'onin': 7476, 'somuch': 7477, 'combi': 7478, '18th': 7479, 'scores': 7480, 'assurance': 7481, 'nov': 7482, '24th': 7483, 'wok': 7484, 'inventory': 7485, 'identify': 7486, 'el': 7487, 'largo': 7488, '67': 7489, 'vacating': 7490, 'borrowed': 7491, 'forgettin': 7492, 'addit': 7493, 'hinder': 7494, 'xx': 7495, 'woodsy': 7496, 'robin': 7497, 'merry': 7498, 'latte': 7499, \"one'\": 7500, 'dons': 7501, 'doenst': 7502, 'greyish': 7503, 'f21': 7504, 'horrific': 7505, 'chestier': 7506, 'unshapely': 7507, 'demarcated': 7508, 'casing': 7509, 'royalty': 7510, 'exteemely': 7511, 'log': 7512, 'detaches': 7513, \"yo'self\": 7514, 'hometown': 7515, 'circumstance': 7516, 'seasonally': 7517, 'outweighs': 7518, 'itsy': 7519, 'bitsy': 7520, 'companies': 7521, 'captivating': 7522, \"'cause\": 7523, 'underbust': 7524, 'pliers': 7525, 'resonates': 7526, 'estimate': 7527, 'oval': 7528, 'editing': 7529, 'arriving': 7530, 'toile': 7531, 'rigidity': 7532, 'centimeter': 7533, 'inter': 7534, 'immature': 7535, 'fixture': 7536, 'broadness': 7537, 'bustle': 7538, '368': 7539, 'petal': 7540, 'remiss': 7541, 'repellent': 7542, 'fest': 7543, 'descent': 7544, 'unbuttons': 7545, 'puzzling': 7546, 'roomie': 7547, 'accounts': 7548, 'corn': 7549, 'arrows': 7550, 'reinforcements': 7551, 'pocketsi': 7552, 'pasted': 7553, 'moomoo': 7554, 'simpler': 7555, 'fu': 7556, 'bismol': 7557, 'contrasts': 7558, 'duds': 7559, 'stretchs': 7560, 'bearable': 7561, 'cluster': 7562, 'lesser': 7563, 'tk': 7564, 'quadruplets': 7565, 'texturing': 7566, \"'swing'\": 7567, 'produces': 7568, 'rendered': 7569, \"mightn't\": 7570, 'justification': 7571, 'pulles': 7572, 'alluring': 7573, \"ol'\": 7574, 'tickles': 7575, 'tickle': 7576, \"doesn't'\": 7577, 'arise': 7578, 'gatsby': 7579, 'courage': 7580, 'exaggerate': 7581, 'postur': 7582, '136lbs': 7583, 'shorted': 7584, 'inferior': 7585, 'mystified': 7586, 'creepy': 7587, 'silouette': 7588, 'wiast': 7589, 'warrent': 7590, 'nuetral': 7591, 'conformed': 7592, 'scratches': 7593, 'unhook': 7594, 'clamp': 7595, 'lusting': 7596, 'hipbone': 7597, \"the150's\": 7598, 'partway': 7599, 'xsma': 7600, 'sabrina': 7601, 'retailerpolog': 7602, 'sheets': 7603, 'chores': 7604, 'defi': 7605, 'cycl': 7606, 'cellular': 7607, 'burgers': 7608, 'injury': 7609, 'gardens': 7610, 'versalles': 7611, 'cartwheels': 7612, 'whirlwind': 7613, 'relation': 7614, \"tee's\": 7615, 'tissues': 7616, 'phones': 7617, 'theoretically': 7618, 'zara': 7619, 'copy': 7620, 'sierra': 7621, 'uuuuggghhh': 7622, 'synched': 7623, 'quali': 7624, 'vermillion': 7625, '2017': 7626, '34e': 7627, 'kne': 7628, 'wih': 7629, 'upstairs': 7630, 'functioning': 7631, 'muslin': 7632, 'allergic': 7633, 'contort': 7634, 'inevitably': 7635, 'argument': 7636, 'pump': 7637, 'upping': 7638, 'resewn': 7639, 'exacerbate': 7640, 'jagged': 7641, 'commonly': 7642, 'freebird': 7643, 'cabernet': 7644, 'cecelia': 7645, 'hare': 7646, 'leeway': 7647, 'tur': 7648, 'clouds': 7649, 'unrepairable': 7650, 'nook': 7651, 'cranny': 7652, 'roc': 7653, 'wildly': 7654, 'lenght': 7655, 'jeaens': 7656, 'phisique': 7657, 'butit': 7658, 'tagged': 7659, 'glimmer': 7660, 'shoddily': 7661, 'repairs': 7662, 'shyle': 7663, 'bressay': 7664, 'squats': 7665, 'scraps': 7666, 'youve': 7667, 'seethrough': 7668, 'crinoline': 7669, 'quarters': 7670, '2fit': 7671, 'abject': 7672, 'terror': 7673, 'shared': 7674, 'invented': 7675, 'multiples': 7676, 'filthy': 7677, 'comfortabledoes': 7678, 'jack': 7679, 'shortcomings': 7680, 'ttried': 7681, 'cratsmanship': 7682, 'fanicer': 7683, 'recommends': 7684, 'paneling': 7685, 'unappealing': 7686, 'centers': 7687, 'boutiques': 7688, 'mist': 7689, 'tahoe': 7690, 'pressing': 7691, 'boze': 7692, 'cc': 7693, 'uch': 7694, 'materil': 7695, 'ocol': 7696, 'somethings': 7697, 'showers': 7698, 'sore': 7699, 'manipulating': 7700, 'buys': 7701, 'embroidary': 7702, 'nove': 7703, 'prioritized': 7704, 'mixes': 7705, 'shotty': 7706, 'desirable': 7707, 'seven': 7708, 'boney': 7709, 'shadow': 7710, 'learning': 7711, 'investing': 7712, 'comjfortable': 7713, 'beloved': 7714, 'assistant': 7715, 'consultant': 7716, 'annoys': 7717, 'kris': 7718, 'accenting': 7719, 'procrastinate': 7720, 'mila': 7721, 'representative': 7722, 'singer': 7723, 'performance': 7724, 'ethnic': 7725, 'wetsuit': 7726, 'fawcett': 7727, 'sculpting': 7728, 'firming': 7729, 'barney': 7730, 'reconsidered': 7731, 'dryclean': 7732, 'loc': 7733, 'edginess': 7734, 'rooster': 7735, '28r': 7736, 'ev': 7737, 'encompasses': 7738, 'rejoice': 7739, 'str': 7740, '33a': 7741, 'rates': 7742, 'aztec': 7743, '116bs': 7744, 'tory': 7745, 'burch': 7746, 'retreat': 7747, 'overtook': 7748, 'henly': 7749, 'detal': 7750, 'dissapoint': 7751, 'arrangements': 7752, 'dissippointment': 7753, 'damages': 7754, 'dissipointed': 7755, \"o'clock\": 7756, 'internationally': 7757, 'excursions': 7758, 'studied': 7759, 'opposing': 7760, 'grid': 7761, 'idaho': 7762, \"patrick's\": 7763, 'xxxxxxxxs': 7764, \"'flow'\": 7765, 'backup': 7766, 'stage': 7767, 'msut': 7768, 'wrng': 7769, 'bude': 7770, 'delettas': 7771, 'substandard': 7772, 'disagreed': 7773, 'anyw': 7774, 'cheerleading': 7775, 'cones': 7776, 'snatc': 7777, 'jams': 7778, 'vouch': 7779, 'disproportionately': 7780, 'someway': 7781, 'sctrachy': 7782, 'incentive': 7783, 'thickeness': 7784, '95lb': 7785, 'priority': 7786, 'henely': 7787, 'pinup': 7788, 'adjustments': 7789, 'harkens': 7790, 'conversational': 7791, 'pinafore': 7792, 'brioche': 7793, 'decreases': 7794, 'peiople': 7795, 'cutis': 7796, 'forgivin': 7797, 'tushy': 7798, 'skiny': 7799, \"'glide'\": 7800, \"'easy'\": 7801, 'youthfull': 7802, 'tex': 7803, 'checklist': 7804, 'flirt': 7805, 'homerun': 7806, 'hurdle': 7807, 'survey': 7808, 'steve': 7809, 'weekly': 7810, 'purcahse': 7811, 'striked': 7812, 'jaundice': 7813, 'panky': 7814, 'tuns': 7815, \"1920's\": 7816, 'hairs': 7817, 'actively': 7818, 'pup': 7819, 'lovingly': 7820, 'doldrums': 7821, 'powdery': 7822, 'janes': 7823, 'notable': 7824, 'aid': 7825, 'hirt': 7826, 'drapy': 7827, 'unfrotuantely': 7828, 'voom': 7829, 'summarize': 7830, 'encouraging': 7831, 'multicolor': 7832, 'tjhis': 7833, 'arc': 7834, 'rusn': 7835, 'passes': 7836, 'plcro': 7837, 'tests': 7838, 'fluffs': 7839, \"you're\": 7840, 'underweight': 7841, 'discontinued': 7842, 'remaindered': 7843, 'seamlessly': 7844, 'slubbed': 7845, 'answe': 7846, 'pri': 7847, 'morethey': 7848, 'replenished': 7849, 'ands': 7850, 'prefectly': 7851, 'annoy': 7852, 'bettys': 7853, 'footless': 7854, 'impulsively': 7855, 'influenced': 7856, \"mind's\": 7857, 'costumed': 7858, 'rooftop': 7859, 'comber': 7860, 'talls': 7861, 'bellybutton': 7862, 'capelet': 7863, 'aske': 7864, 'bulking': 7865, '10l': 7866, 'bs': 7867, 'completel': 7868, 'trickier': 7869, 'brisk': 7870, 'kahki': 7871, 'bouncier': 7872, 'tamed': 7873, 'liatris': 7874, 'inauthentic': 7875, 'ping': 7876, 'electricity': 7877, 'comb': 7878, 'hoodies': 7879, 'prickling': 7880, 'arrangement': 7881, 'topnormally': 7882, 'obsessive': 7883, 'halterneck': 7884, 'unavoidable': 7885, 'glimpse': 7886, 'viewable': 7887, 'disrupts': 7888, 'tanvi': 7889, 'plate': 7890, 'posting': 7891, 'dioes': 7892, 'exams': 7893, '2regular': 7894, 'fallback': 7895, 'wer': 7896, 'receiv': 7897, 'armhoes': 7898, 'entered': 7899, 'loosens': 7900, 'santuary': 7901, 'ye': 7902, 'detest': 7903, 'longs': 7904, 'sassing': 7905, 'symphony': 7906, 'scrumptious': 7907, 'amenable': 7908, 'splotches': 7909, 'hum': 7910, 'smudged': 7911, 'accommodated': 7912, 'possess': 7913, 'inward': 7914, 'angela': 7915, 'tv': 7916, '96': 7917, 'brownettes': 7918, \"your'e\": 7919, 'layi': 7920, 'sumer': 7921, 'buggier': 7922, 'dyes': 7923, 'autumnal': 7924, 'maternityish': 7925, 'cheapish': 7926, 'pettite': 7927, 'shaking': 7928, 'workday': 7929, 'spreading': 7930, 'grrr': 7931, 'organ': 7932, 'organist': 7933, 'requirements': 7934, 'recognizable': 7935, 'goodbye': 7936, 'workhorse': 7937, 'comfrotbale': 7938, 'flattrering': 7939, 'alining': 7940, 'petie': 7941, 'roast': 7942, 'flatteri': 7943, 'posterior': 7944, 'dã©colletage': 7945, 'knobby': 7946, 'melange': 7947, 'skinniest': 7948, 'unkept': 7949, 'wor': 7950, \"'fall'\": 7951, 'blissfully': 7952, 'scuff': 7953, 'ridic': 7954, 'buttah': 7955, 'toms': 7956, 'dire': 7957, \"yo'\": 7958, 'mentality': 7959, 'lightheaded': 7960, 'crime': 7961, 'reef': 7962, 'explaining': 7963, 'codes': 7964, 'glams': 7965, 'buto': 7966, 'profession': 7967, 'timey': 7968, \"'cotton'\": 7969, 'revert': 7970, 'underestimated': 7971, 'blousier': 7972, 'spillage': 7973, 'troublesome': 7974, 'definitive': 7975, 'pained': 7976, 'promos': 7977, 'weathered': 7978, 'treatments': 7979, 'sholulder': 7980, 'stuggle': 7981, 'toasting': 7982, 'isabella': 7983, 'sinclair': 7984, 'homespun': 7985, 'vulnerable': 7986, 'incorporate': 7987, 'proposed': 7988, 'baffled': 7989, 'someday': 7990, 'yours': 7991, 'bedskirt': 7992, 'yuck': 7993, 'realign': 7994, 'deconstructs': 7995, 'hangups': 7996, 'flatforms': 7997, 'workw': 7998, 'pettie': 7999, 'adults': 8000, \"cant'\": 8001, 'kitty': 8002, 'perfectionist': 8003, 'convertible': 8004, 'lingere': 8005, \"'re\": 8006, 'shapelessly': 8007, '11and': 8008, 'aft': 8009, 'inconsistently': 8010, 'chorizo': 8011, 'smedium': 8012, 'fallacy': 8013, 'sabina': 8014, 'eileen': 8015, 'tmie': 8016, 'isthe': 8017, 'lfit': 8018, 'pouffy': 8019, 'yup': 8020, \"cheerleader's\": 8021, 'botto': 8022, 'azure': 8023, 'yesteryear': 8024, 'adopted': 8025, 'curatorial': 8026, 'tease': 8027, 'davy': 8028, 'crockett': 8029, 'freaking': 8030, 'underpinnings': 8031, 'composition': 8032, 'secular': 8033, 'miid': 8034, 'asser': 8035, 'cheekier': 8036, 'whereof': 8037, 'enlarges': 8038, 'fulle': 8039, 'reissued': 8040, 'hues': 8041, 'waved': 8042, 'sz26': 8043, 'mound': 8044, 'thorwback': 8045, 'aggressive': 8046, 'cehst': 8047, 'repurchased': 8048, 'vacillating': 8049, 'theblack': 8050, 'hating': 8051, 'assemblage': 8052, 'honeybees': 8053, 'opacity': 8054, 'unrealistic': 8055, 'festivals': 8056, 'goto': 8057, 'sweathsirt': 8058, 'scoring': 8059, 'chokers': 8060, 'beutiful': 8061, 'teksture': 8062, 'elswhere': 8063, 'weary': 8064, 'portray': 8065, 'saundra': 8066, 'aplique': 8067, 'htat': 8068, \"'true\": 8069, \"size'\": 8070, 'spectrum': 8071, 'provocative': 8072, 'discuss': 8073, 'furthermore': 8074, 'extend': 8075, 'shoddy': 8076, 'dim': 8077, 'lititle': 8078, 'hwr': 8079, 'sprinkled': 8080, \"c'mon\": 8081, 'summary': 8082, 'dramaticly': 8083, 'fluctuates': 8084, 'hammy': 8085, 'bf': 8086, 'brazilian': 8087, 'swiftly': 8088, 'espadrille': 8089, 'sandy': 8090, \"'curves'\": 8091, 'clin': 8092, \"'delicateness'\": 8093, \"kimono's\": 8094, 'movability': 8095, 'imp': 8096, 'empty': 8097, 'hurts': 8098, 'confine': 8099, 'admiration': 8100, 'pumped': 8101, 'mor': 8102, 'savings': 8103, 'espeically': 8104, 'willowy': 8105, 'tickled': 8106, \"'belt'\": 8107, \"'tuck'\": 8108, 'opaqueness': 8109, 'eagerly': 8110, 'awaited': 8111, 'necklne': 8112, 'woolen': 8113, 'lasership': 8114, 'deliveries': 8115, 'surpass': 8116, 'fedex': 8117, 'usps': 8118, 'crams': 8119, 'unprotected': 8120, 'soapbox': 8121, 'resilient': 8122, 'reigned': 8123, 'swingyness': 8124, 'secretly': 8125, 'uniquenesses': 8126, 'veyr': 8127, 'india': 8128, 'garmets': 8129, 'timelessness': 8130, '20th': 8131, 'century': 8132, 'musical': 8133, 'tuts': 8134, 'theatre': 8135, 'factoring': 8136, 'cou': 8137, 'sai': 8138, 'ban': 8139, 'likded': 8140, 'washa': 8141, 'nanette': 8142, 'lepore': 8143, 'gloves': 8144, 'nemesis': 8145, 'unintentionally': 8146, 'tangible': 8147, 'thinkness': 8148, 'perks': 8149, \"6's\": 8150, 'encourages': 8151, 'terrified': 8152, 'storage': 8153, \"'stuck'\": 8154, 'docked': 8155, 'godets': 8156, 'topish': 8157, 'peru': 8158, 'socially': 8159, 'responsible': 8160, 'shoeless': 8161, 'vaired': 8162, 'additio': 8163, '56': 8164, 'imagin': 8165, 'shifting': 8166, 'pai': 8167, 'sema': 8168, 'pari': 8169, 'overstretched': 8170, 'restrained': 8171, 'havin': 8172, \"back's\": 8173, 'demential': 8174, 'perspiring': 8175, 'skimmer': 8176, 'ssxp': 8177, 'stings': 8178, 'unopened': 8179, \"5's\": 8180, 'cabled': 8181, 'fights': 8182, 'yogi': 8183, 'keg': 8184, 'plump': 8185, 'wasa': 8186, 'turend': 8187, 'thanskgiving': 8188, 'blou': 8189, 'sjut': 8190, 'braod': 8191, 'deceided': 8192, 'seriosu': 8193, 'purcahses': 8194, \"doesn'\": 8195, 'mutes': 8196, 'analysis': 8197, 'tuc': 8198, 'stretchier': 8199, 'coffe': 8200, 'capture': 8201, 'alleviated': 8202, 'joking': 8203, 'whiplash': 8204, 'enable': 8205, 'oaks': 8206, 'apres': 8207, 'cutie': 8208, 'redish': 8209, 'creamish': 8210, 'necessa': 8211, 'sightseeing': 8212, 'dryel': 8213, 'hugger': 8214, 'strapped': 8215, 'aprã¨s': 8216, 'otth': 8217, 'mossy': 8218, 'tech': 8219, 'eit': 8220, 'delineator': 8221, 'hysterical': 8222, \"thought'd\": 8223, 'marie': 8224, \"kondo's\": 8225, 'sparks': 8226, \"aren'\": 8227, 'starring': 8228, 'noir': 8229, 'specifies': 8230, 'budges': 8231, 'curtains': 8232, 'legwear': 8233, 'hack': 8234, 'desideria': 8235, 'dakota': 8236, 'japan': 8237, 'pharmacist': 8238, 'drugstore': 8239, 'lef': 8240, 'narrowis': 8241, \"'2\": 8242, 'believer': 8243, 'treading': 8244, 'underdone': 8245, 'unwrapping': 8246, 'fearing': 8247, 'waistbands': 8248, 'romier': 8249, 'sizze': 8250, 'hev': 8251, 'expec': 8252, 'preventing': 8253, 'cuddled': 8254, 'keen': 8255, 'consequence': 8256, 'tuned': 8257, 'airiness': 8258, 'middleton': 8259, 'anita': 8260, 'dongre': 8261, 'discovering': 8262, 'planner': 8263, 'buttt': 8264, 'collaboration': 8265, 'catchc': 8266, 'engine': 8267, 'enjoyment': 8268, 'racks': 8269, 'ranged': 8270, 'withing': 8271, 'vineyard': 8272, 'bustling': 8273, 'lysee': 8274, 'detsils': 8275, 'recomnend': 8276, 'ghost': 8277, 'purchasi': 8278, 'bight': 8279, 'displaying': 8280, 'fluctuating': 8281, 'redeemed': 8282, 'michigans': 8283, 'shank': 8284, 'priceless': 8285, \"t'shirt\": 8286, 'eying': 8287, 'aghast': 8288, 'waify': 8289, 'athleisure': 8290, \"'ivory'\": 8291, 'yellowed': 8292, 'newspapers': 8293, 'acco': 8294, 'overa': 8295, 'suprisingly': 8296, 'flushed': 8297, 'smushed': 8298, 'flipflops': 8299, '2013': 8300, 'flown': 8301, 'htere': 8302, 'differentials': 8303, 'necessairly': 8304, 'similr': 8305, 'alce': 8306, 'drkest': 8307, 'flatetering': 8308, 'lunging': 8309, 'camoflage': 8310, 'cardis': 8311, 'imaging': 8312, 'slot': 8313, 'acutually': 8314, 'ang': 8315, \"ty's\": 8316, 'grazes': 8317, 'chord': 8318, 'sheepskin': 8319, 'santa': 8320, 'barbara': 8321, 'overflowing': 8322, 'weston': 8323, 'hose': 8324, 'jewelery': 8325, 'mixe': 8326, 'coope': 8327, 'cahnce': 8328, 'howeverm': 8329, 'kneeled': 8330, '35ab': 8331, \"sewer's\": 8332, 'nipping': 8333, 'rogers': 8334, 'risquã©': 8335, 'sassiness': 8336, 'rosette': 8337, 'afterthought': 8338, 'regu': 8339, 'owe': 8340, 'simplest': 8341, \"they'r\": 8342, 'splotch': 8343, 'cascades': 8344, 'gol': 8345, 'prewashed': 8346, \"won's\": 8347, 'ge': 8348, 'johns': 8349, 'dock': 8350, 'reall': 8351, 'breton': 8352, 'spins': 8353, \"chino's\": 8354, 'fluxes': 8355, '36e': 8356, 'patt': 8357, 'claire': 8358, 'underwood': 8359, 'unworn': 8360, 'unwashed': 8361, 'attaches': 8362, 'venting': 8363, 'throb': 8364, 'trunks': 8365, 'swathed': 8366, 'rested': 8367, 'deviated': 8368, \"'oversized'\": 8369, 'alls': 8370, 'dalls': 8371, 'contract': 8372, 'moz': 8373, 'recovering': 8374, 'nightdress': 8375, 'windier': 8376, 'accesso': 8377, 'scated': 8378, 'tween': 8379, 'linin': 8380, 'reed': 8381, 'snowstorm': 8382, 'foldable': 8383, 'reflective': 8384, 'blankets': 8385, 'repacked': 8386, 'avid': 8387, 'yogis': 8388, 'unsuccessful': 8389, 'flyaway': 8390, 'beached': 8391, 'stoe': 8392, 'paradise': 8393, 'tents': 8394, 'theighs': 8395, 'buldging': 8396, 'topnotch': 8397, 'compression': 8398, 'plainer': 8399, 'differnt': 8400, 'lent': 8401, 'male': 8402, 'diversity': 8403, 'subway': 8404, 'bench': 8405, 'lenox': 8406, 'geek': 8407, 'sepia': 8408, 'looped': 8409, 'toggles': 8410, 'reward': 8411, 'payer': 8412, 'tangl': 8413, \"'fluffy'\": 8414, 'mave': 8415, 'predict': 8416, 'cooing': 8417, '35x27x36': 8418, 'arose': 8419, 'sissy': 8420, 'spacek': 8421, 'assessment': 8422, \"mode's\": 8423, 'hire': 8424, \"lady's\": 8425, 'adventurous': 8426, 'papaya': 8427, 'geiger': 8428, 'remembers': 8429, 'newbury': 8430, 'howeverl': 8431, 'crafted': 8432, 'powering': 8433, 'grandpa': 8434, 'asscoaites': 8435, 'abs': 8436, 'insistence': 8437, 'stair': 8438, 'carnival': 8439, '116ibs': 8440, 'bue': 8441, 'blade': 8442, 'mosly': 8443, 'resigned': 8444, 'pared': 8445, 'sihrt': 8446, 'preggers': 8447, 'liittle': 8448, 'stared': 8449, 'casua': 8450, 'conflicted': 8451, 'suggestive': 8452, 'rectified': 8453, 'mattered': 8454, 'blended': 8455, 'carrot': 8456, 'pric': 8457, 'storm': 8458, 'advising': 8459, 'iis': 8460, 'regulat': 8461, 'acceptabl': 8462, 'netted': 8463, 'dripped': 8464, 'pintucks': 8465, 'airly': 8466, 'tassles': 8467, 'downed': 8468, 'fireside': 8469, \"anthto's\": 8470, 'zed': 8471, 'ripple': 8472, 'objection': 8473, 'scandy': 8474, 'downplaying': 8475, 'soothing': 8476, 'taupey': 8477, 'coziest': 8478, 'rush': 8479, 'daly': 8480, 'tomboy': 8481, 'materi': 8482, 'racy': 8483, 'unpacked': 8484, 'iterations': 8485, 'opera': 8486, 'cheep': 8487, 'definelty': 8488, 'disappoin': 8489, 'meandered': 8490, 'mortar': 8491, 'nearby': 8492, 'ja': 8493, 'xxsmall': 8494, 'alt': 8495, 'wond': 8496, 'demoiselles': 8497, 'sup': 8498, 'jaclket': 8499, 'cub': 8500, 'pitiful': 8501, 'abnormal': 8502, 'nonsolid': 8503, 'ohio': 8504, 'cascadia': 8505, 'stitchin': 8506, 'tallest': 8507, 'unfolding': 8508, 'sel': 8509, 'chrolox': 8510, 'knitwear': 8511, 'suite': 8512, 'components': 8513, 'buthe': 8514, 'iether': 8515, 'rippled': 8516, 'tails': 8517, 'abolutely': 8518, 'slithering': 8519, 'pathetic': 8520, 'inaccurately': 8521, 'buttercup': 8522, 'cars': 8523, 'chamois': 8524, 'shammy': 8525, 'soaking': 8526, 'calsual': 8527, 'shiryt': 8528, 'downsizing': 8529, 'rig': 8530, 'senses': 8531, 'pavin': 8532, 'buttyondown': 8533, 'geeze': 8534, 'downhill': 8535, 'potbellied': 8536, 'peac': 8537, 'meek': 8538, 'alternately': 8539, \"'soft\": 8540, \"coral'\": 8541, 'vas': 8542, 'chuckled': 8543, 'mrs': 8544, 'roper': 8545, 'swindled': 8546, 'soaked': 8547, 'bleu': 8548, 'twisty': 8549, 'thorax': 8550, 'align': 8551, 'adorably': 8552, 'eccentric': 8553, 'burning': 8554, 'tranforms': 8555, 'shirring': 8556, 'mainstay': 8557, 'scenario': 8558, '8yo': 8559, 'dictated': 8560, 'strides': 8561, 'sisterhood': 8562, 'analogy': 8563, 'encounter': 8564, 'wintergreens': 8565, 'overtime': 8566, 'druzy': 8567, 'butta': 8568, 'choke': 8569, '100lb': 8570, 'contra': 8571, 'lightening': 8572, '1973': 8573, 'suddently': 8574, 'translation': 8575, 'asymetrical': 8576, 'doomed': 8577, 'gate': 8578, 'splashed': 8579, 'startled': 8580, 'eastern': 8581, \"etro's\": 8582, 'thousands': 8583, 'whig': 8584, 'fins': 8585, '4petite': 8586, 'afforded': 8587, 'elevated': 8588, 'tracked': 8589, 'slouches': 8590, 'rent': 8591, 'gulped': 8592, 'monroe': 8593, 'inspecting': 8594, 'domino': 8595, 'replenishing': 8596, 'wildfire': 8597, 'prohibitively': 8598, 'etiher': 8599, 'stell': 8600, 'lackadaisical': 8601, 'iand': 8602, \"'warm\": 8603, \"pullover'\": 8604, 'suuuuuper': 8605, 'direct': 8606, 'froth': 8607, \"'right'\": 8608, 'bulls': 8609, 'everyth': 8610, 'shapelier': 8611, 'leggier': 8612, 'conventional': 8613, 'kim': 8614, 'lifespan': 8615, 'bestowed': 8616, 'gender': 8617, '40yo': 8618, 'surprisngly': 8619, 'tightish': 8620, '27tall': 8621, '26tall': 8622, 'ageing': 8623, 'clesrly': 8624, 'loopholes': 8625, 'hesitent': 8626, \"'flair'\": 8627, 'dolor': 8628, 'sprang': 8629, 'rectangle': 8630, 'makers': 8631, 'flaring': 8632, 'wench': 8633, 'denying': 8634, 'dove': 8635, 'diaper': 8636, 'regulr': 8637, 'sizable': 8638, 'proba': 8639, 'shaver': 8640, 'protrusion': 8641, 'amidst': 8642, 'trusting': 8643, 'uptown': 8644, 'spattering': 8645, 'uhm': 8646, \"blouse's\": 8647, 'selective': 8648, 'creppy': 8649, 'middi': 8650, 'growths': 8651, 'resent': 8652, 'swatches': 8653, 'deceive': 8654, 'alerted': 8655, 'embroiderer': 8656, 'qualms': 8657, 'incidents': 8658, 'annoyance': 8659, 'edged': 8660, 'chime': 8661, 'someth': 8662, 'practicing': 8663, 'jlo': 8664, 'expens': 8665, 'torquoise': 8666, 'anther': 8667, 'greedy': 8668, 'adores': 8669, 'frock': 8670, 'produce': 8671, 'iliked': 8672, 'weightlessness': 8673, 'painterly': 8674, 'drooling': 8675, 'tidier': 8676, 'iordered': 8677, 'rregualr': 8678, 'deciced': 8679, 'netural': 8680, 'lavaialble': 8681, 'underestimating': 8682, 'scenery': 8683, 'earthly': 8684, 'lilt': 8685, 'howev': 8686, 'limitations': 8687, 'bizarrely': 8688, 'withhold': 8689, 'plague': 8690, 'belief': 8691, 'asthetic': 8692, 'nue': 8693, 'shani': 8694, 'lurve': 8695, 'espradilles': 8696, '228': 8697, 'nutcracker': 8698, 'saccharine': 8699, 'ftt': 8700, 'compfy': 8701, 'directed': 8702, 'nightshirt': 8703, 'polite': 8704, 'juice': 8705, 'venice': 8706, 'schooler': 8707, 'boobed': 8708, 'impressionist': 8709, 'stilettos': 8710, 'sneak': 8711, 'wen': 8712, 'sllm': 8713, 'monkey': 8714, 'litght': 8715, 'enduring': 8716, 'retirement': 8717, 'race': 8718, '36dddd': 8719, \"stone's\": 8720, 'smar': 8721, 'contributer': 8722, 'vibes': 8723, 'ct': 8724, 'sparkled': 8725, 'grapeish': 8726, 'anafa': 8727, 'unfold': 8728, 'chock': 8729, 'paints': 8730, 'whiskered': 8731, 'discrepancy': 8732, 'bridging': 8733, 'sw': 8734, 'sty': 8735, 'numbingly': 8736, '2000s': 8737, 'flashbacks': 8738, 'angling': 8739, 'ben': 8740, 'versus': 8741, 'renatkable': 8742, 'deails': 8743, 'kuddos': 8744, 'address': 8745, 'assure': 8746, 'darkness': 8747, 'whispered': 8748, 'biweekly': 8749, 'photoshopped': 8750, 'maxed': 8751, 'pinterest': 8752, 'biit': 8753, 'tasseled': 8754, 'belling': 8755, 'phot': 8756, 'absoluty': 8757, 'preserved': 8758, 'flawlessly': 8759, 'layover': 8760, 'jum': 8761, 'tat': 8762, 'mia': 8763, 'farrow': 8764, \"rosemary's\": 8765, 'nighttime': 8766, 'bot': 8767, 'midday': 8768, 'ipad': 8769, 'lychnis': 8770, 'standalone': 8771, 'fancies': 8772, 'sligh': 8773, 'leans': 8774, 'wilt': 8775, 'mages': 8776, 'hacked': 8777, 'discourages': 8778, 'schemes': 8779, 'freshman': 8780, 'highschool': 8781, 'dusted': 8782, 'rachel': 8783, 'fiddling': 8784, 'blac': 8785, 'hedging': 8786, 'bets': 8787, 'chicness': 8788, 'blotches': 8789, 'biking': 8790, 'minny': 8791, 'jt': 8792, 'usuall': 8793, 'contender': 8794, 'disppaointed': 8795, 'whte': 8796, 'suprise': 8797, 'roder': 8798, 'hlding': 8799, 'seaters': 8800, 'satisfi': 8801, 'pegged': 8802, 'pinches': 8803, 'deliberately': 8804, 'waking': 8805, 'murky': 8806, 'wetting': 8807, 'commercial': 8808, 'cris': 8809, 'noon': 8810, 'vision': 8811, 'expert': 8812, 'canton': 8813, 'taping': 8814, 'dreses': 8815, 'neitral': 8816, 'winery': 8817, 'bauble': 8818, 'sends': 8819, 'message': 8820, \"catalog's\": 8821, 'anorexic': 8822, 'unhealthy': 8823, 'shou': 8824, \"i'l\": 8825, 'predominant': 8826, 'vaca': 8827, 'port': 8828, \"'60s\": 8829, 'humor': 8830, 'xxxxxs': 8831, 'exists': 8832, '3xxxl': 8833, 'pushes': 8834, \"it'a\": 8835, 'becaus': 8836, '04': 8837, '06': 8838, 'dressi': 8839, \"'peeks'\": 8840, 'speechless': 8841, 'bellowy': 8842, 'delay': 8843, 'pounced': 8844, 'enroute': 8845, 'backed': 8846, 'sec': 8847, 'tournament': 8848, 'slubby': 8849, \"4'10\": 8850, 'elle': 8851, 'woods': 8852, 'negligee': 8853, 'seashells': 8854, 'wishy': 8855, 'washy': 8856, 'shh': 8857, 'surpasses': 8858, 'anyou': 8859, '1993': 8860, 'jiggles': 8861, 'jiggling': 8862, 'accord': 8863, 'veered': 8864, 'brethren': 8865, 'ladybugs': 8866, 'buttonholes': 8867, 'chlorine': 8868, 'salt': 8869, 'resolutions': 8870, 'rinsed': 8871, 'wreaked': 8872, 'subsequent': 8873, 'wayup': 8874, 'non0muscular': 8875, '6th': 8876, 'janeausten': 8877, 'shoot': 8878, 'housecoat': 8879, 'cheating': 8880, 'dine': 8881, 'inkish': 8882, 'lightens': 8883, 'betwixt': 8884, 'birthed': 8885, 'birthing': 8886, \"'p\": 8887, '26r': 8888, 'voile': 8889, 'bicycle': 8890, 'pluses': 8891, 'embedded': 8892, 'overused': 8893, 'grams': 8894, 'glinting': 8895, 'leaflets': 8896, 'lovelies': 8897, 'strained': 8898, 'pony': 8899, 'holder': 8900, 'goody': 8901, 'appopriate': 8902, 'faculty': 8903, 'messing': 8904, 'melting': 8905, 'spoil': 8906, 'dã©colletã©': 8907, 'oversizing': 8908, 'qualit': 8909, 'protruded': 8910, \"g's\": 8911, 'sneaks': 8912, 'tryi': 8913, 'posters': 8914, 'arri': 8915, \"'timeless'\": 8916, 'gi': 8917, 'haging': 8918, 'aiming': 8919, 'contours': 8920, 'fluttered': 8921, '141': 8922, 'minneapol': 8923, 'ba': 8924, 'brigh': 8925, 'delayed': 8926, 'stetchy': 8927, 'washout': 8928, 'julep': 8929, 'anomaly': 8930, 'prev': 8931, 'carra': 8932, \"twinkle's\": 8933, 'slopes': 8934, 'wich': 8935, 'elasticised': 8936, 'thighed': 8937, 'edgey': 8938, 'mermaid': 8939, 'ml': 8940, 'abhor': 8941, \"'tangerine'\": 8942, 'bricky': 8943, 'underlayment': 8944, 'formality': 8945, 'bothering': 8946, 'duplicated': 8947, 'bahamas': 8948, \"part's\": 8949, 'darby': 8950, 'extremes': 8951, 'nela': 8952, \"cami's\": 8953, \"'faux\": 8954, \"cardi'\": 8955, 'slvs': 8956, 'hallways': 8957, 'husbands': 8958, 'firmly': 8959, 'diffe': 8960, 'enhancement': 8961, 'numeric': 8962, 'rath': 8963, \"'sheds'\": 8964, '112lb': 8965, 'appreciation': 8966, 'impending': 8967, 'bountiful': 8968, \"'i'm\": 8969, 'buttoms': 8970, 'elastized': 8971, 'jiggle': 8972, 'greener': 8973, 'batik': 8974, 'separation': 8975, 'pools': 8976, 'wayyyyy': 8977, 'hundo': 8978, 'hers': 8979, 'bating': 8980, 'fills': 8981, 'sift': 8982, 'forrest': 8983, 'spurt': 8984, 'snapping': 8985, 'patio': 8986, 'stylewise': 8987, '0verall': 8988, 'suport': 8989, 'comfotably': 8990, 'litle': 8991, 'shld': 8992, 'ny': 8993, 'yanking': 8994, 'cubanas': 8995, 'ciara': 8996, 'minorly': 8997, 'kitschy': 8998, 'coastal': 8999, 'rega': 9000, 'suprised': 9001, 'ita': 9002, 'exaggerating': 9003, 'reoccurring': 9004, 'healed': 9005, 'primas': 9006, 'versitality': 9007, 'pdx': 9008, 'incarnations': 9009, \"large'\": 9010, 'commission': 9011, 'wedgewood': 9012, 'fluorescent': 9013, 'perfer': 9014, 'maternit': 9015, 'ansy': 9016, 'thermostat': 9017, 'maine': 9018, 'twig': 9019, 'sma': 9020, 'clavicle': 9021, 'roommate': 9022, 'fairness': 9023, 'corey': 9024, 'lynn': 9025, 'calter': 9026, 'paeonia': 9027, 'rosebud': 9028, 'thoug': 9029, 'vogue': 9030, 'fin': 9031, \"didm't\": 9032, 'ocassionally': 9033, \"brand's\": 9034, 'dividends': 9035, 'pregant': 9036, 'drip': 9037, 'gorilla': 9038, 'sigourney': 9039, 'weaver': 9040, 'harrison': 9041, 'ford': 9042, '1988': 9043, 'yards': 9044, 'sinc': 9045, 'fiddled': 9046, 'mainstreamed': 9047, 'arty': 9048, 'takeover': 9049, 'mus': 9050, 'intensely': 9051, 'overboard': 9052, \"jacket'ish\": 9053, 'manella': 9054, 'cried': 9055, 'defectiv': 9056, '428': 9057, 'highland': 9058, 'woodlands': 9059, 'employing': 9060, 'pallet': 9061, 'splendid': 9062, 'collecting': 9063, \"'amazing\": 9064, 'skins': 9065, 'lengh': 9066, 'kindof': 9067, 'gauzey': 9068, 'madonna': 9069, 'beigey': 9070, 'association': 9071, 'candidate': 9072, 'matted': 9073, 'piped': 9074, 'pigmented': 9075, 'assures': 9076, 'sellers': 9077, 'his': 9078, 'casualties': 9079, 'sawn': 9080, 'manually': 9081, 'distribute': 9082, 'oddest': 9083, \"fisher's\": 9084, 'murder': 9085, 'mysteries': 9086, 'downton': 9087, 'abbey': 9088, 'eliott': 9089, 'thyre': 9090, 'eliding': 9091, \"5'0'\": 9092, '25petite': 9093, 'suggestions': 9094, 'fadng': 9095, 'especia': 9096, 'seafoam': 9097, 'glimmery': 9098, 'cigar': 9099, 'rivet': 9100, 'cascading': 9101, 'bryden': 9102, 'marine': 9103, 'dismayed': 9104, 'cracks': 9105, 'goi': 9106, 'intexas': 9107, 'hawk': 9108, 'cop': 9109, 'overruled': 9110, 'asylum': 9111, 'fifth': 9112, 'jess': 9113, 'breathability': 9114, 'slippers': 9115, 'examining': 9116, \"5'1'\": 9117, 'carful': 9118, 'trough': 9119, 'pillowy': 9120, 'sleeeves': 9121, 'oatmealish': 9122, 'matl': 9123, '218': 9124, 'reinforcing': 9125, '50th': 9126, 'ful': 9127, 'playa': 9128, 'container': 9129, 'comfie': 9130, 'damask': 9131, 'fig': 9132, 'kota': 9133, 'italians': 9134, 'combining': 9135, 'hearty': 9136, 'laika': 9137, 'inca': 9138, 'favorable': 9139, 'benefits': 9140, 'loos': 9141, 'everleigh': 9142, 'eri': 9143, 'ali': 9144, 'lululemons': 9145, 'bla': 9146, \"havne't\": 9147, 'sunning': 9148, 'pumpkin': 9149, 'constriction': 9150, '117bl': 9151, 'antheropologie': 9152, 'ours': 9153, 'disappointingly': 9154, 'momish': 9155, 'melita': 9156, \"'t\": 9157, 'clock': 9158, 'jutting': 9159, 'minimize': 9160, 'hess': 9161, 'endora': 9162, 'mosaic': 9163, 'ratty': 9164, 'organza': 9165, 'closu': 9166, 'nonuniform': 9167, 'fees': 9168, 'ple': 9169, 'corduroys': 9170, 'costumey': 9171, 'riders': 9172, 'unbreathable': 9173, 'refernce': 9174, 'resemblance': 9175, 'buildings': 9176, 'tunnels': 9177, '30in': 9178, \"petite's\": 9179, 'sz12': 9180, 'teaser': 9181, 'maximize': 9182, 'spacedye': 9183, 'whip': 9184, 'quiet': 9185, 'dept': 9186, 'petiite': 9187, 'ergo': 9188, 'biggy': 9189, 'ack': 9190, \"9''\": 9191, 'kakhi': 9192, \"grandpa's\": 9193, 'starburst': 9194, 'menti': 9195, 'assorted': 9196, \"24''\": 9197, 'graduated': 9198, 'george': 9199, 'venson': 9200, 'vousta': 9201, 'bears': 9202, 'deer': 9203, 'promises': 9204, 'apprehension': 9205, \"d'orsay\": 9206, 'comeback': 9207, 'ballroom': 9208, 'comfotable': 9209, '5stars': 9210, 'ghillie': 9211, 'concealing': 9212, 'maxidress': 9213, 'statuesque': 9214, 'prowl': 9215, 'nordic': 9216, 'expedited': 9217, 'heftier': 9218, 'dice': 9219, '32s': 9220, 'noce': 9221, 'bermudas': 9222, 'chocking': 9223, 'cookout': 9224, 'twists': 9225, 'mens': 9226, 'incalled': 9227, 'flir': 9228, '106lbs': 9229, 'weights': 9230, 'gunny': 9231, 'sax': 9232, 'snowflske': 9233, \"store's\": 9234, 'feed': 9235, 'joyful': 9236, 'appropr': 9237, 'naval': 9238, 'loooks': 9239, 'standup': 9240, 'linking': 9241, '33b': 9242, 'bett': 9243, 'tdf': 9244, 'vendor': 9245, 'experimenting': 9246, 'retailerplogie': 9247, 'crispy': 9248, 'skipped': 9249, 'cme': 9250, 'reccomended': 9251, 'waffled': 9252, 'examination': 9253, 'hags': 9254, 'amt': 9255, 'equipped': 9256, 'gypsie': 9257, 'complemented': 9258, 'senitive': 9259, 'approprialty': 9260, '62': 9261, 'peter': 9262, 'pan': 9263, 'authentic': 9264, 'satisfactorily': 9265, 'flocked': 9266, 'boxer': 9267, \"'must\": 9268, \"have'\": 9269, 'armh': 9270, 'lightwei': 9271, '38f': 9272, \"'shell'\": 9273, 'eighties': 9274, 'bends': 9275, 'hollywood': 9276, 'bralettes': 9277, 'daisy': 9278, 'decorated': 9279, 'suffering': 9280, 'ken': 9281, 'vi': 9282, \"1990's\": 9283, 'repellar': 9284, 'liberating': 9285, 'blizzard': 9286, 'adhesive': 9287, 'pasties': 9288, 'fuzzes': 9289, 'sample': 9290, 'blew': 9291, 'isth': 9292, 'predominantly': 9293, 'weaved': 9294, 'garbage': 9295, 'deteriorates': 9296, 'shave': 9297, 'crunchy': 9298, 'ru': 9299, 'restrictions': 9300, 'consequently': 9301, 'onwearing': 9302, 'vowed': 9303, 'cello': 9304, 'alst': 9305, 'smae': 9306, 'ddresses': 9307, 'aprts': 9308, 'registry': 9309, '148lbs': 9310, 'frumpiness': 9311, 'verses': 9312, \"'off\": 9313, \"shoulder'\": 9314, 'inching': 9315, 'cheapness': 9316, 'leifsdottir': 9317, 'cloudy': 9318, 'risked': 9319, 'behin': 9320, 'guise': 9321, 'flabbergasted': 9322, 'charging': 9323, '157': 9324, 'disadvantage': 9325, 'poorl': 9326, 'repeating': 9327, 'earnings': 9328, 'en': 9329, 'candy': 9330, '3c': 9331, 'guidance': 9332, '154lbs': 9333, 'brogues': 9334, 'lke': 9335, 'flips': 9336, 'tennys': 9337, 'obtrusive': 9338, 'furthe': 9339, 'ize': 9340, 'recommen': 9341, 'rex': 9342, 'dinosaur': 9343, 'generic': 9344, 'poise': 9345, 'sweeping': 9346, 'suffocating': 9347, 'anchors': 9348, 'felting': 9349, 'abck': 9350, 'vulnerability': 9351, 'camouflaged': 9352, 'supporting': 9353, 'click': 9354, 'remarkably': 9355, 'usu': 9356, 'heated': 9357, '34ds': 9358, 'contained': 9359, 'agin': 9360, 'georgette': 9361, 'inst': 9362, 'unco': 9363, 'tattooed': 9364, 'tattoos': 9365, '130b': 9366, 'backend': 9367, 'unatural': 9368, 'passing': 9369, 'fortuny': 9370, 'bodytype': 9371, 'drappy': 9372, 'broadened': 9373, 'flamboyant': 9374, 'transcend': 9375, 'thrille': 9376, 'lengthens': 9377, 'earned': 9378, 'staticky': 9379, 'grrrrrrrrrrr': 9380, 'nightwear': 9381, 'irritation': 9382, 'averaged': 9383, 'invited': 9384, 'polyster': 9385, 'locally': 9386, \"preggo's\": 9387, 'cohesive': 9388, 'scrip': 9389, 'formerly': 9390, 'pantyhose': 9391, 'inducing': 9392, 'acquisition': 9393, 'organization': 9394, 'ravel': 9395, 'elevating': 9396, 'unclear': 9397, 'ivories': 9398, 'creams': 9399, 'freshen': 9400, 'lthink': 9401, 'ebough': 9402, 'gunmetal': 9403, 'equal': 9404, 'uplifting': 9405, 'snack': 9406, 'athough': 9407, 'marking': 9408, 'askedher': 9409, 'coworker': 9410, \"dones't\": 9411, 'ahs': 9412, 'nonte': 9413, 'lessened': 9414, 'recoiled': 9415, 'sandpaper': 9416, 'proceed': 9417, 'slinder': 9418, 'peti': 9419, 'cleave': 9420, 'tencil': 9421, 'ama': 9422, 'vinyl': 9423, 'rainproof': 9424, 'adj': 9425, 'nbut': 9426, 'rahter': 9427, 'grooves': 9428, 'forh': 9429, 'securing': 9430, 'thinkng': 9431, 'althetic': 9432, 'disastrous': 9433, 'hams': 9434, 'stilt': 9435, 'hoo': 9436, 'absolutley': 9437, 'seaside': 9438, \"arm's\": 9439, 'snappy': 9440, 'mazing': 9441, 'boats': 9442, 'obscured': 9443, '450': 9444, 'powerless': 9445, 'scratched': 9446, 'ironically': 9447, 'quads': 9448, 'cardinal': 9449, 'submit': 9450, 'whiled': 9451, 'ooohed': 9452, 'aaahed': 9453, 'hurriedly': 9454, 'firmness': 9455, 'reports': 9456, 'choker': 9457, 'exploding': 9458, 'pessimist': 9459, 'nothings': 9460, 'inaccurate': 9461, 'glows': 9462, \"'maybe'\": 9463, 'modernity': 9464, 'sur': 9465, 'density': 9466, '42dd': 9467, 'anothe': 9468, 'puella': 9469, 'horizon': 9470, 'colorsblocking': 9471, 'vanja': 9472, 'nantucket': 9473, 'crumply': 9474, 'othewise': 9475, 'addtl': 9476, 'hobby': 9477, 'weekender': 9478, 'teared': 9479, \"hyphen's\": 9480, \"2''\": 9481, 'sleepy': 9482, 'buxom': 9483, 'kors': 9484, 'ocher': 9485, 'nubs': 9486, 'turkey': 9487, 'consists': 9488, 'grandson': 9489, 'mak': 9490, \"doe'n'tt\": 9491, 'htough': 9492, 'greay': 9493, 'lcan': 9494, 'midwestern': 9495, 'seciton': 9496, 'ooh': 9497, '59': 9498, 'tremendous': 9499, 'ruf': 9500, 'camos': 9501, 'unsolvable': 9502, 'tmi': 9503, 'bl': 9504, 'purples': 9505, \"pocket's\": 9506, 'ladybug': 9507, 'webbed': 9508, 'astounded': 9509, 'cro': 9510, 'diva': 9511, 'gushing': 9512, 'backless': 9513, 'rouched': 9514, 'pineapples': 9515, 'lemons': 9516, 'isle': 9517, 'decid': 9518, 'minimally': 9519, 'lofty': 9520, 'jared': 9521, \"subway's\": 9522, 'accessorized': 9523, 'inconsistencies': 9524, 'korean': 9525, \"9'\": 9526, 'soucotache': 9527, 'handwork': 9528, 'nydj': 9529, 'few': 9530, 'andddddd': 9531, 'iusually': 9532, 'otherwse': 9533, 'inever': 9534, 'size4': 9535, 'bravely': 9536, 'relish': 9537, 'reacts': 9538, 'loro': 9539, 'piana': 9540, 'ruc': 9541, 'clincher': 9542, 'brests': 9543, '130pounds': 9544, 'aroun': 9545, 'nuff': 9546, 'demonstrates': 9547, 'oohs': 9548, 'aaaahs': 9549, \"'flare'\": 9550, 'goner': 9551, 'execute': 9552, 'contentment': 9553, 'peeled': 9554, 'intimate': 9555, 'unto': 9556, 'mutton': 9557, 'lamb': 9558, 'betty': 9559, 'grable': 9560, 'cheesecake': 9561, 'grave': 9562, 'stole': 9563, 'pvc': 9564, 'phase': 9565, 'svelte': 9566, 'recurrent': 9567, 'excuses': 9568, 'anoth': 9569, 'atrociously': 9570, 'wrn': 9571, 'luncheons': 9572, 'homage': 9573, \"'nubby'\": 9574, 'c34': 9575, 'contouring': 9576, \"'yes'\": 9577, 'fantasy': 9578, '1970s': 9579, 'harsher': 9580, 'laziest': 9581, 'thorough': 9582, 'embrodiery': 9583, 'construc': 9584, 'zigzagging': 9585, 'effective': 9586, 'oct': 9587, 'eg': 9588, 'repeatedly': 9589, \"nobody's\": 9590, 'romp': 9591, 'hosiery': 9592, 'brave': 9593, 'potatoe': 9594, 'chronic': 9595, 'ate': 9596, 'patient': 9597, 'flufff': 9598, 'xxp': 9599, 'accidents': 9600, 'buttondowns': 9601, 'pkg': 9602, 'plackets': 9603, 'slumpy': 9604, 'plays': 9605, 'tulips': 9606, 'plucked': 9607, 'recipe': 9608, 'bui': 9609, 'prettiness': 9610, 'hamstrings': 9611, 'possession': 9612, 'greal': 9613, 'forcing': 9614, 'caressing': 9615, 'tonal': 9616, \"person's\": 9617, 'demographic': 9618, 'bity': 9619, 'reflect': 9620, 'requests': 9621, 'risks': 9622, 'yak': 9623, 'whaa': 9624, 'swamp': 9625, 'absorbent': 9626, 'commenting': 9627, 'begrudgingly': 9628, 'gambled': 9629, 'pbly': 9630, 'ldecided': 9631, 'seemd': 9632, 'detaisl': 9633, 'srink': 9634, 'riddled': 9635, 'adirondacks': 9636, 'mountain': 9637, 'adoreable': 9638, 'instruct': 9639, 'unsung': 9640, 'hero': 9641, 'flies': 9642, \"5'61\": 9643, 'influence': 9644, 'enthusiasm': 9645, 'dreary': 9646, 'prep': 9647, 'steamy': 9648, 'circular': 9649, 'markdown': 9650, 'muggy': 9651, 'leng': 9652, 'rechecking': 9653, 'strictly': 9654, 'ballgowns': 9655, 'attribute': 9656, 'stratchy': 9657, 'qualification': 9658, 'veratile': 9659, 'cutaway': 9660, 'skills': 9661, 'prompted': 9662, 'beatiful': 9663, 'huuuuge': 9664, 'mammoth': 9665, \"din't\": 9666, 'ponder': 9667, 'attracting': 9668, 'partake': 9669, 'experie': 9670, 'flaunt': 9671, 'applying': 9672, 'pilazzo': 9673, 'portrays': 9674, 'bash': 9675, 'tabby': 9676, 'hassel': 9677, '4inches': 9678, 'judy': 9679, 'jetson': 9680, 'acknowledge': 9681, 'embrodering': 9682, 'completly': 9683, 'souers': 9684, 'uncomfy': 9685, 'exp': 9686, 'napkin': 9687, 'gush': 9688, 'dds': 9689, 'dose': 9690, \"hasn'\": 9691, \"tiny's\": 9692, 'unicorn': 9693, 'greece': 9694, 'winder': 9695, 'perfec': 9696, 'beac': 9697, 'flopped': 9698, 'palazzos': 9699, 'meatiness': 9700, 'yey': 9701, 'restrict': 9702, 'drawings': 9703, 'outlining': 9704, 'gumby': 9705, 'shillouette': 9706, 'courderoy': 9707, 'magnet': 9708, 'unhealthily': 9709, 'pleather': 9710, 'considerate': 9711, 'trailered': 9712, 'carrie': 9713, 'bradshaw': 9714, 'walzing': 9715, 'mayer': 9716, 'upwards': 9717, 'frank': 9718, 'che': 9719, 'recognition': 9720, 'whittle': 9721, 'drags': 9722, 'bff': 9723, 'tracking': 9724, 'apparel': 9725, 'drool': 9726, 'flail': 9727, 'thirst': 9728, 'straightish': 9729, 'laidback': 9730, 'taylor': 9731, 'earl': 9732, 'adoring': 9733, 'owend': 9734, 'clumps': 9735, 'particulars': 9736, 'allowance': 9737, 'irradiated': 9738, 'crab': 9739, 'claws': 9740, 'unbearably': 9741, 'channeling': 9742, 'realness': 9743, 'dits': 9744, 'glancing': 9745, 'needlenose': 9746, 'crimped': 9747, 'milestone': 9748, 'hemstitch': 9749, 'showpiece': 9750, 'chain': 9751, 'aren': 9752, 'reveive': 9753, 'underneat': 9754, 'continuing': 9755, 'thre': 9756, 'bsck': 9757, 'astronomical': 9758, 'pleases': 9759, 'mashine': 9760, 'fitter': 9761, 'shirter': 9762, 'assessed': 9763, 'revisit': 9764, 'patched': 9765, 'exceptions': 9766, 'sprint': 9767, 'huuuuggge': 9768, 'unheard': 9769, 'untie': 9770, 'choosi': 9771, 'heartbreakingly': 9772, \"'parallel'\": 9773, 'hungry': 9774, 'bubblegum': 9775, 'hippier': 9776, 'eased': 9777, 'mocha': 9778, 'accompany': 9779, 'perferred': 9780, 'affords': 9781, 'awareness': 9782, 'fastenings': 9783, 'salesgirls': 9784, 'howeve': 9785, 'manufacturers': 9786, 'advertisement': 9787, 'perusing': 9788, 'roman': 9789, 'hued': 9790, 'cosplay': 9791, 'fastener': 9792, 'pedal': 9793, 'pusher': 9794, 'smiles': 9795, 'elected': 9796, \"mayn't\": 9797, 'battling': 9798, 'impersonator': 9799, 'greatness': 9800, 'circumferentially': 9801, 'recei': 9802, 'naught': 9803, 'qa': 9804, 'abroad': 9805, 'minimizing': 9806, 'contributing': 9807, 'mimic': 9808, 'sari': 9809, 'shapelessness': 9810, 'indul': 9811, 'extraordinarily': 9812, 'hearts': 9813, 'feline': 9814, 'standpoint': 9815, 'reno': 9816, 'elosie': 9817, 'predictable': 9818, 'repel': 9819, 'trade': 9820, 'thera': 9821, 'pouching': 9822, 'kindest': 9823, 'homemade': 9824, 'lovel': 9825, \"lars'\": 9826, 'braid': 9827, 'irr': 9828, 'concepts': 9829, 'surrender': 9830, 'easilly': 9831, 'seasonality': 9832, 'swisuit': 9833, 'rusching': 9834, 'horizontally': 9835, '0in': 9836, 'nix': 9837, 'herls': 9838, 'nuce': 9839, 'formless': 9840, \"dog's\": 9841, 'claw': 9842, 'incidental': 9843, 'served': 9844, \"red'\": 9845, 'mellowed': 9846, 'titled': 9847, 'integrated': 9848, 'lighten': 9849, 'wimpy': 9850, 'joined': 9851, 'bandwagon': 9852, 'onsie': 9853, 'cringed': 9854, 'wintry': 9855, 'cared': 9856, 'maneuver': 9857, 'sidezip': 9858, 'dubious': 9859, 'weighed': 9860, 'skintone': 9861, \"good'ol\": 9862, 'goings': 9863, 'impeded': 9864, 'sweep': 9865, 'petticoat': 9866, 'ecause': 9867, 'generaly': 9868, 'cutwork': 9869, 'peeves': 9870, 'compromised': 9871, 'tile': 9872, 'prominently': 9873, \"retailerpolgies'\": 9874, 'hardy': 9875, 'xxxs': 9876, 'usefulness': 9877, 'silkscreen': 9878, '251': 9879, '3rds': 9880, 'fullish': 9881, 'brooding': 9882, 'doc': 9883, 'martins': 9884, '107lb': 9885, 'clears': 9886, 'whats': 9887, 'surviving': 9888, \"combo's\": 9889, 'craving': 9890, 'reserved': 9891, 'regardi': 9892, 'accomplishing': 9893, 'intriguing': 9894, 'optic': 9895, 'blute': 9896, 'beefy': 9897, 'routinely': 9898, 'urban': 9899, 'indulge': 9900, 'obligated': 9901, 'corny': 9902, 'fields': 9903, 'provence': 9904, 'shel': 9905, 'mismarked': 9906, 'genuine': 9907, 'purchasable': 9908, 'thx': 9909, 'rana': 9910, 'cappier': 9911, \"hawai'i\": 9912, 'momma': 9913, 'ast': 9914, 'flo': 9915, 'addiction': 9916, 'indulgent': 9917, '20lb': 9918, 'donated': 9919, 'fascinating': 9920, 'reeeeally': 9921, 'grrrrr8': 9922, 'exa': 9923, 'rehersal': 9924, 'beautifil': 9925, 'gemline': 9926, 'lariat': 9927, '30lbs': 9928, \"'closet\": 9929, \"sitter'\": 9930, 'paned': 9931, '63': 9932, 'reviwes': 9933, 'dr4ess': 9934, '4l': 9935, 'stiffly': 9936, 'ribboned': 9937, 'strangly': 9938, 'aga': 9939, 'rap': 9940, 'michigan': 9941, 'ave': 9942, 'armful': 9943, 'bangles': 9944, 'distract': 9945, 'fluffier': 9946, 'plug': 9947, 'references': 9948, 'reoommend': 9949, 'flutes': 9950, 'barrettes': 9951, 'headband': 9952, 'lip': 9953, 'lips': 9954, 'raining': 9955, 'anna': 9956, 'sui': 9957, 'compartments': 9958, 'necessity': 9959, 'symmetry': 9960, 'centering': 9961, 'bandaid': 9962, 'circumstances': 9963, 'ascetics': 9964, 'incomparable': 9965, 'huey': 9966, 'bip': 9967, 'indicative': 9968, 'bailley': 9969, \"'sweater\": 9970, \"like'\": 9971, 'naps': 9972, 'itt': 9973, 'ordinar': 9974, \"winter's\": 9975, 'drinking': 9976, 'christmas1': 9977, 'wanna': 9978, 'epitomized': 9979, 'preshrunk': 9980, 'impossibly': 9981, 'wall': 9982, 'whomever': 9983, '40dd': 9984, 'joes': 9985, 'triangular': 9986, 'holy': 9987, 'cow': 9988, 'tame': 9989, 'crawl': 9990, 'quit': 9991, 'longing': 9992, 'saves': 9993, 'system': 9994, 'cabo': 9995, 'applies': 9996, 'supports': 9997, 'grommet': 9998, 'slipper': 9999, 'grippies': 10000, 'tabs': 10001, 'leapt': 10002, 'africa': 10003, 'diminished': 10004, 'anlobn': 10005, 'sass': 10006, 'darks': 10007, 'streaked': 10008, 'scrunchy': 10009, 'barnyard': 10010, 'exercise': 10011, 'farther': 10012, 'pal': 10013, 'materila': 10014, 'strecthy': 10015, 'brr': 10016, 'exepct': 10017, \"fall'\": 10018, 'swooned': 10019, 'effortlessness': 10020, 'ins': 10021, 'elder': 10022, 'insulting': 10023, 'boarded': 10024, 'famous': 10025, 'survive': 10026, 'ears': 10027, 'nose': 10028, 'winking': 10029, 'gorjuss': 10030, 'yoself': 10031, 'achieved': 10032, '195lbs': 10033, 'fundraiser': 10034, 'plata': 10035, 'squarish': 10036, 'squarple': 10037, 'curly': 10038, 'haired': 10039, \"69's\": 10040, 'hardware': 10041, 'allergies': 10042, '92': 10043, 'derriã©re': 10044, 'flavor': 10045, 'bunnies': 10046, \"other's\": 10047, \"there'no\": 10048, 'slam': 10049, 'dunk': 10050, 'prefe': 10051, 'p2': 10052, 'akward': 10053, 'nape': 10054, 'transforms': 10055, 'produ': 10056, 'luggage': 10057, 'andheavy': 10058, 'cutr': 10059, 'sweeps': 10060, 'downplay': 10061, 'chestiness': 10062, 'fattiness': 10063, 'microfiber': 10064, 'jacked': 10065, 'poochy': 10066, 'besid': 10067, 'threatening': 10068, 'seatbelt': 10069, 'unseamed': 10070, 'denium': 10071, 'ghis': 10072, 'probabley': 10073, 'hilary': 10074, 'clinton': 10075, 'isolated': 10076, 'whine': 10077, '448': 10078, 'dreamed': 10079, 'lovelier': 10080, 'plusher': 10081, \"antropologie's\": 10082, 'misrepresent': 10083, 'surgery': 10084, 'beaufully': 10085, 'cartoonish': 10086, '38ish': 10087, 'highl': 10088, 'register': 10089, 'perceived': 10090, 'tic': 10091, 'vinta': 10092, 'structures': 10093, 'spoilers': 10094, 'traverse': 10095, 'witing': 10096, 'finale': 10097, 'disgusted': 10098, 'blinded': 10099, 'soooooo': 10100, 'loooooong': 10101, 'objected': 10102, 'insufficient': 10103, 'optical': 10104, 'attractively': 10105, '4yrs': 10106, 'llonger': 10107, 'lure': 10108, 'invaluable': 10109, 'juuuuussst': 10110, 'dvf': 10111, 'vines': 10112, 'unsuited': 10113, 'calming': 10114, 'obsxessing': 10115, 'whcich': 10116, 'workedc': 10117, 'seas': 10118, 'marginally': 10119, 'pregnan': 10120, 'pieties': 10121, 'concensus': 10122, '174': 10123, 'dynamic': 10124, 'jodhpurs': 10125, 'miserable': 10126, 'neve': 10127, 'sueded': 10128, 'cerise': 10129, 'ooo': 10130, 'shining': 10131, 'crinkle': 10132, \"floreat's\": 10133, 'tripping': 10134, 'fati': 10135, 'desperat': 10136, 'pouff': 10137, 'vpllace': 10138, 'parcels': 10139, 'carriers': 10140, 'postage': 10141, 'berkeley': 10142, 'underthings': 10143, \"'weather'\": 10144, '40c': 10145, 'stylized': 10146, 'lookers': 10147, 'epite': 10148, 'actualyl': 10149, 'midsummer': 10150, 'acquaintance': 10151, 'drawer': 10152, 'pretties': 10153, 'shirty': 10154, 'differemt': 10155, 'caccoon': 10156, 'michelin': 10157, 'goose': 10158, 'abercrombie': 10159, 'mottle': 10160, 'tearoom': 10161, 'coordinated': 10162, 'regularl': 10163, 'rodeo': 10164, 'ecru': 10165, 'ikat': 10166, \"'moss'\": 10167, 'crisply': 10168, 'browsed': 10169, 'ummmmm': 10170, 'incomplete': 10171, '115lb': 10172, 'unpredictable': 10173, 'phoenix': 10174, 'consumed': 10175, 'lar': 10176, 'weeding': 10177, '180lbs': 10178, '1990s': 10179, 'cooling': 10180, 'toposition': 10181, 'xtra': 10182, 'wicking': 10183, 'bmeant': 10184, 'ljsut': 10185, 'calssic': 10186, 'dash': 10187, 'drooled': 10188, 'nieces': 10189, 'baptism': 10190, 'eases': 10191, '115ish': 10192, 'genes': 10193, 'irritated': 10194, 'meanwhile': 10195, 'importatn': 10196, 'matieral': 10197, 'comfortbale': 10198, 'ilfelt': 10199, 'hwy': 10200, 'colla': 10201, 'immediatley': 10202, 'amaz': 10203, 'wardrobes': 10204, 'melodies': 10205, 'stra': 10206, 'bottomed': 10207, \"'khaki'\": 10208, 'classically': 10209, 'stopping': 10210, 'ord': 10211, 'monotony': 10212, 'testy': 10213, 'shimmying': 10214, 'seductive': 10215, 'garner': 10216, 'neony': 10217, 'saddle': 10218, 'anthletic': 10219, 'tendencies': 10220, 'core': 10221, 'crossfront': 10222, \"'lacy'\": 10223, '2007': 10224, 'apre': 10225, 'advertise': 10226, \"perfectly'\": 10227, '1930': 10228, 'cam': 10229, 'iris': 10230, 'slouched': 10231, '400': 10232, 'bacon': 10233, 'strech': 10234, 'tendd': 10235, 'midwe': 10236, 'throat': 10237, 'reckon': 10238, 'peittes': 10239, \"90's\": 10240, 'embroi': 10241, 'clue': 10242, 'neighbor': 10243, 'international': 10244, 'worldly': 10245, \"6'2\": 10246, 'manufacturing': 10247, 'bugged': 10248, 'toscana': 10249, 'sandscape': 10250, 'irritable': 10251, 'trus': 10252, 'sisz': 10253, 'sipped': 10254, 'loely': 10255, 'daring': 10256, 'getter': 10257, 'charter': 10258, 'inflexibility': 10259, 'presents': 10260, 'ferry': 10261, 'masters': 10262, 'sactuary': 10263, 'flecking': 10264, 'cigarette': 10265, 'exampl': 10266, 'traps': 10267, 'prairie': 10268, 'creeps': 10269, 'conditionied': 10270, 'toucan': 10271, '23b': 10272, 'inwas': 10273, 'logged': 10274, 'endlessly': 10275, \"26''\": 10276, 'reto': 10277, 'peruse': 10278, 'ornate': 10279, 'mega': 10280, 'genetic': 10281, 'cervical': 10282, 'dealing': 10283, 'health': 10284, 'pesonal': 10285, 'ie': 10286, 'shotgun': 10287, 'rented': 10288, \"'chunky'\": 10289, \"'softens'\": 10290, \"'more'\": 10291, 'siyu': 10292, 'puctures': 10293, 'digan': 10294, 'continuity': 10295, '6s': 10296, 'nutmeg': 10297, \"'bell\": 10298, 'kil': 10299, 'cheeks': 10300, 'boooo': 10301, 'kicked': 10302, '20lbs': 10303, 'frumpier': 10304, 'numerically': 10305, \"3000's\": 10306, 'dividing': 10307, 'possi': 10308, \"'pedal\": 10309, \"pushers'\": 10310, \"'cropped'\": 10311, 'machines': 10312, 'advertising': 10313, 'balmy': 10314, 'jasper': 10315, 'jeera': 10316, 'nijar': 10317, 'minuet': 10318, 'reattaching': 10319, 'crosswrap': 10320, 'camoflauges': 10321, 'inwards': 10322, 'looses': 10323, 'finesse': 10324, 'dubbed': 10325, \"man's\": 10326, '1982': 10327, 'imported': 10328, 'knotting': 10329, 'tasking': 10330, 'passions': 10331, 'lowness': 10332, 'assembled': 10333, '10mths': 10334, 'coobies': 10335, '172lbs': 10336, 'sons': 10337, '143lbs': 10338, 'yoked': 10339, 'greys': 10340, \"idea's\": 10341, 'rejected': 10342, 'howe': 10343, 'ion': 10344, 'largeness': 10345, 'mortif': 10346, 'knowledge': 10347, 'friendliness': 10348, 'horror': 10349, 'balked': 10350, 'lengthened': 10351, 'smocks': 10352, 'salon': 10353, 'smal': 10354, 'laec': 10355, 'disappoitned': 10356, 'sice': 10357, 'jumps': 10358, 'chloe': 10359, \"sevigny's\": 10360, 'lineman': 10361, 'bea': 10362, 'wowza': 10363, 'necessitated': 10364, 'prepregnancy': 10365, 'aro': 10366, 'sunless': 10367, 'sustainably': 10368, 'ghana': 10369, 'responsibly': 10370, 'degrade': 10371, 'labelled': 10372, 'sunrose': 10373, 'allusione': 10374, 'yepeee': 10375, 'sought': 10376, 'bainbridge': 10377, 'misrepresents': 10378, 'bloomed': 10379, 'bozo': 10380, 'jungle': 10381, 'availab': 10382, 'akin': 10383, 'compaint': 10384, 'ldecide': 10385, 'vol': 10386, 'punches': 10387, 'fierce': 10388, 'madeline': 10389, 'stories': 10390, 'flatting': 10391, 'widelegs': 10392, \"momma's\": 10393, 'shove': 10394, '35c': 10395, 'toplayer': 10396, 'considerable': 10397, 'stubborn': 10398, '130ibs': 10399, 'false': 10400, 'toed': 10401, 'harness': 10402, 'lusciousness': 10403, 'myers': 10404, 'problemo': 10405, '13th': 10406, 'studying': 10407, 'university': 10408, 'underdressed': 10409, 'tucke': 10410, 'crowded': 10411, 'morocco': 10412, 'sharkbite': 10413, 'teepee': 10414, 'assoc': 10415, 'input': 10416, 'brochure': 10417, 'moonscape': 10418, 'orderer': 10419, 'demands': 10420, 'undnerneath': 10421, '11in': 10422, 'shearliing': 10423, 'uneasy': 10424, 'handwashed': 10425, 'supercute': 10426, 'contrived': 10427, 'orlando': 10428, \"there're\": 10429, '3hr': 10430, 'assessments': 10431, '29p': 10432, 'modcloth': 10433, '20x': 10434, 'deserving': 10435, 'outrageously': 10436, 'division': 10437, \"'baggish'\": 10438, 'linkages': 10439, 'enlarged': 10440, 'withstood': 10441, 'materal': 10442, 'palmarosa': 10443, 'currant': 10444, 'slimmest': 10445, 'alread': 10446, 'kill': 10447, \"jammie's\": 10448, 'lecturing': 10449, 'undergrads': 10450, 'succeed': 10451, 'physicality': 10452, 'spanned': 10453, \"i'am\": 10454, '165lb': 10455, 'throug': 10456, 'wax': 10457, 'poetic': 10458, 'redundant': 10459, 'chooses': 10460, 'thinning': 10461, 'retained': 10462, 'craft': 10463, 'ironic': 10464, 'tightens': 10465, \"ann's\": 10466, 'spree': 10467, 'tow': 10468, 'him': 10469, 'peaches': 10470, 'kudos': 10471, 'miffed': 10472, \"'shorts'\": 10473, \"'bubble\": 10474, \"butt'\": 10475, 'loosed': 10476, 'cowgirl': 10477, 'disguising': 10478, \"'sugary'\": 10479, \"'pop\": 10480, 'latigo': 10481, 'fiits': 10482, 'avg': 10483, 'realy': 10484, 'trifle': 10485, 'strenuous': 10486, 'unfixable': 10487, 'palest': 10488, 'ouside': 10489, 'cervix': 10490, 'mud': 10491, 'diligent': 10492, 'pristine': 10493, 'neccissarily': 10494, 'curls': 10495, 'misunderstood': 10496, 'vividly': 10497, 'pining': 10498, 'dwarfed': 10499, 'roomies': 10500, '152': 10501, 'embodiment': 10502, 'versital': 10503, 'freeze': 10504, 'compounded': 10505, 'tending': 10506, 'clevage': 10507, 'ladyish': 10508, 'yank': 10509, 'composed': 10510, 'beaches': 10511, 'puerto': 10512, 'rico': 10513, 'epice': 10514, 'revisiting': 10515, 'wireless': 10516, 'separating': 10517, \"'swinging'\": 10518, 'exclude': 10519, 'burgandy': 10520, 'pregnancies': 10521, 'session': 10522, 'restore': 10523, 'pilly': 10524, 'editions': 10525, 'numer': 10526, 'disturb': 10527, 'zeros': 10528, 'splendor': 10529, 'musually': 10530, 'narrowing': 10531, 'master': 10532, 'mulit': 10533, 'manicure': 10534, 'thh': 10535, 'beign': 10536, 'hsaped': 10537, 'marriage': 10538, 'pairings': 10539, 'heathery': 10540, \"'cuz\": 10541, 'weekday': 10542, 'vix': 10543, 'boobage': 10544, 'keel': 10545, 'loveee': 10546, \"5'2'\": 10547, 'gifted': 10548, 'shines': 10549, 'wills': 10550, 'possessing': 10551, 'disintegrating': 10552, 'discard': 10553, 'treatment': 10554, 'meanings': 10555, 'cucumber': 10556, 'readjustment': 10557, 'presses': 10558, 'fatiques': 10559, 'bel': 10560, 'clicking': 10561, 'btoh': 10562, '149lbs': 10563, 'sleveless': 10564, 'garmet': 10565, 'rpetty': 10566, 'cl': 10567, 'runa': 10568, 'otherw': 10569, 'strolled': 10570, 'accomplishment': 10571, 'merchandise': 10572, 'dangerous': 10573, 'fel': 10574, 'conversationalist': 10575, 'agitated': 10576, 'contacts': 10577, 'reviewe': 10578, 'sc': 10579, 'nightie': 10580, \"haven'\": 10581, 'trucker': 10582, 'realllllly': 10583, 'launderings': 10584, 'versatille': 10585, 'charmeuse': 10586, 'inky': 10587, 'amsterdam': 10588, 'proble': 10589, 'fuzziness': 10590, 'iop': 10591, 'ned': 10592, 'sofy': 10593, 'nexk': 10594, 'bejewels': 10595, 'pho': 10596, 'runching': 10597, 'mistaking': 10598, 'maz': 10599, 'ing': 10600, 'sloped': 10601, 'fifty': 10602, 'woop': 10603, 'ballooning': 10604, 'leaned': 10605, \"stylist's\": 10606, 'colsely': 10607, 'mentione': 10608, 'folkloric': 10609, 'rebound': 10610, 'poofier': 10611, 'clownish': 10612, 'colorblocking': 10613, 'preparing': 10614, 'np': 10615, 'emailing': 10616, 'response': 10617, 'dazzle': 10618, '2in': 10619, \"won'\": 10620, 'component': 10621, 'tshirts': 10622, 'presumably': 10623, 'recipients': 10624, \"does't\": 10625, 'unuseable': 10626, 'glob': 10627, 'couches': 10628, 'disap': 10629, 'packable': 10630, 'haven': 10631, 'beautifull': 10632, 'veterinarian': 10633, \"'pink'\": 10634, 'attraction': 10635, 'cough': 10636, 'mashing': 10637, 'aaaahmazing': 10638, 'sohpisticated': 10639, \"36'\": 10640, 'bitty': 10641, 'amputated': 10642, \"barbie's\": 10643, 'hulked': 10644, 'vexing': 10645, 'teller': 10646, 'financial': 10647, 'bracket': 10648, 'heathy': 10649, 'mass': 10650, '139': 10651, 'inc': 10652, 'gourgeous': 10653, '5ft7': 10654, 'cotto': 10655, 'skosh': 10656, 'cu': 10657, 'syllish': 10658, 'diminish': 10659, 'timeframe': 10660, 'heav': 10661, 'stare': 10662, 'nestled': 10663, 'versitle': 10664, 'spelled': 10665, 'barn': 10666, 'allllllmost': 10667, 'urge': 10668, 'bombshell': 10669, 'monstrously': 10670, 'vibrancy': 10671, 'withstanding': 10672, 'benefitted': 10673, 'cowgirls': 10674, 'liiiiiittle': 10675, 'laceing': 10676, 'drastic': 10677, 'treats': 10678, 'regained': 10679, 'fate': 10680, 'izing': 10681, 'placements': 10682, 'seal': 10683, 'ziploc': 10684, 'freezer': 10685, \"'honey\": 10686, \"slip'\": 10687, '1x': 10688, 'unacceptable': 10689, 'comic': 10690, 'narrows': 10691, 'stifling': 10692, 'oxblood': 10693, 'eno': 10694, 'yolk': 10695, 'creatures': 10696, 'salivating': 10697, 'homework': 10698, 'swatch': 10699, 'parka': 10700, \"'smoky'\": 10701, 'pilcr': 10702, 'refit': 10703, 'conceptualizing': 10704, 'stills': 10705, 'displays': 10706, 'destructed': 10707, 'missouri': 10708, 'thro': 10709, 'target': 10710, 'stumpified': 10711, 'readjust': 10712, 'mallard': 10713, '125ibs': 10714, 'cables': 10715, 'tres': 10716, 'daydreaming': 10717, 'honeymooning': 10718, 'cinque': 10719, 'terre': 10720, 'outsi': 10721, 'subject': 10722, 'honoring': 10723, 'keer': 10724, 'asters': 10725, 'oceanside': 10726, 'southwesternish': 10727, 'crimplene': 10728, 'squishes': 10729, 'farrier': 10730, 'crossword': 10731, 'homebase': 10732, 'taffeta': 10733, \"e'mail\": 10734, 'smurf': 10735, 'pokey': 10736, 'sway': 10737, 'sexiest': 10738, 'minority': 10739, \"'off'\": 10740, 'trapezey': 10741, 'motivate': 10742, 'nirsing': 10743, 'reveries': 10744, 'castles': 10745, 'legends': 10746, 'eira': 10747, 'interviewer': 10748, 'milky': 10749, 'wiggling': 10750, 'unstitch': 10751, 'sensitivity': 10752, 'coating': 10753, 'blisters': 10754, 'glides': 10755, 'korkease': 10756, 'peruvian': 10757, 'opal': 10758, 'interpretation': 10759, 'peplm': 10760, 'upped': 10761, 'bejeweled': 10762, 'predictably': 10763, 'ego': 10764, 'stiffy': 10765, '39ish': 10766, 'knee0': 10767, 'flirtier': 10768, 'attn': 10769, 'sealed': 10770, 'mamas': 10771, \"lapel's\": 10772, 'alr': 10773, 'pantie': 10774, 'lass': 10775, 'hunch': 10776, 'incidentally': 10777, 'hone': 10778, 'aquaflora': 10779, 'pacquerette': 10780, 'paquerette': 10781, 'anwen': 10782, 'hyperhidrosis': 10783, 'fluidity': 10784, 'slack': 10785, 'accompanying': 10786, 'abou': 10787, 'masses': 10788, 'slenderize': 10789, 'fanciness': 10790, 'addressed': 10791, 'sly': 10792, 'handed': 10793, 'toying': 10794, 'grandmothers': 10795, '7in': 10796, 'citrus': 10797, 'eliminating': 10798, 'midway': 10799, 'trapped': 10800, 'escape': 10801, 'offwhite': 10802, 'adjustability': 10803, 'hight': 10804, '98lbs': 10805, 'crowns': 10806, 'nifty': 10807, 'canopy': 10808, 'pos': 10809, 'sin': 10810, 'belle': 10811, 'swirled': 10812, 'spun': 10813, 'tequila': 10814, 'ginger': 10815, '124lb': 10816, 'promotional': 10817, 'eleveness': 10818, 'coored': 10819, 'subpar': 10820, 'idid': 10821, 'celadon': 10822, 'concentrates': 10823, '60th': 10824, 'fifteen': 10825, 'snuggles': 10826, 'orangutan': 10827, 'shortish': 10828, \"'vintage\": 10829, \"sage'\": 10830, 'undertsated': 10831, 'textiled': 10832, 'toppers': 10833, 'symmetric': 10834, 'undress': 10835, 'proving': 10836, 'determining': 10837, 'strangled': 10838, 'tennies': 10839, 'sept': 10840, 'dones': 10841, 'upsid': 10842, 'deleted': 10843, 'explosing': 10844, 'balancing': 10845, \"143lb's\": 10846, 'proud': 10847, 'furball': 10848, 'waggle': 10849, \"they''d\": 10850, 'themed': 10851, 'expects': 10852, \"sweater's\": 10853, 'tanktop': 10854, 'overstated': 10855, 'uncured': 10856, 'mere': 10857, 'opitome': 10858, 'drees': 10859, 'imhave': 10860, 'childlike': 10861, 'kneecaps': 10862, 'maneuvering': 10863, 'googling': 10864, 'tsp': 10865, 'conditioner': 10866, 'retuned': 10867, 'alway': 10868, 'aholed': 10869, 'friction': 10870, 'mended': 10871, '6inches': 10872, 'watermelon': 10873, 'kneelength': 10874, 'tooth': 10875, 'separated': 10876, 'alleviate': 10877, 'sill': 10878, \"'nightgown'\": 10879, 'coincidence': 10880, 'fai': 10881, 'singly': 10882, 'acid': 10883, 'evocative': 10884, 'overcoming': 10885, 'exclusives': 10886, 'attempts': 10887, 'annoyingly': 10888, 'undefined': 10889, 'disappointedly': 10890, 'racetrack': 10891, 'wasting': 10892, 'posed': 10893, 'creater': 10894, 'pastries': 10895, 'enticed': 10896, 'washability': 10897, 'chagrin': 10898, 'it0': 10899, 'greatz': 10900, 'butchers': 10901, 'moot': 10902, 'contoured': 10903, 'distinguishable': 10904, 'congratulations': 10905, 'pokes': 10906, \"you'll\": 10907, 'squish': 10908, 'toothpaste': 10909, 'depend': 10910, 'boardwalk': 10911, \"36d's\": 10912, 'noise': 10913, 'eucalan': 10914, 'accentuatea': 10915, 'turqouise': 10916, 'notebook': 10917, 'ltitle': 10918, 'lwait': 10919, 'thereby': 10920, 'elated': 10921, 'crystals': 10922, 'flub': 10923, 'unconnected': 10924, 'rumpled': 10925, '5star': 10926, 'quantity': 10927, 'scaled': 10928, 'proportionately': 10929, 'wante': 10930, 'singing': 10931, 'nephew': 10932, 'declared': 10933, 'cuddles': 10934, 'slid': 10935, 'admirable': 10936, 'wouldn': 10937, 'insane': 10938, 'couldve': 10939, 'endo': 10940, 'duffs': 10941, 'substancial': 10942, 'tirst': 10943, 'tme': 10944, 'fatty': 10945, 'cheezy': 10946, \"'look'\": 10947, 'digit': 10948, 'retie': 10949, 'aunt': 10950, 'fathom': 10951, 'jessa': 10952, 'bday': 10953, 'pinstriped': 10954, \"stink'n\": 10955, 'maximizes': 10956, 'anticpated': 10957, 'supermodel': 10958, 'fauna': 10959, 'houses': 10960, 'memorial': 10961, 'lrg': 10962, 'nocal': 10963, 'foundations': 10964, 'deceived': 10965, 'moniker': 10966, 'breaths': 10967, 'ff': 10968, 'racing': 10969, 'shuffle': 10970, 'cozily': 10971, \"world's\": 10972, 'fabled': 10973, \"medium's\": 10974, \"wedge's\": 10975, 'unfortunetly': 10976, 'amply': 10977, 'readings': 10978, 'unpack': 10979, 'bootees': 10980, 'kennedy': 10981, 'uploaded': 10982, 'ireland': 10983, '30inch': 10984, 'grows': 10985, 'blu': 10986, 'yielded': 10987, 'purposefully': 10988, 'rotating': 10989, 'odrdered': 10990, 'swaeter': 10991, 'zooming': 10992, 'varieties': 10993, 'adieu': 10994, 'rename': 10995, 'gazillion': 10996, 'doggedly': 10997, 'withe': 10998, 'spor': 10999, 'p8': 11000, 'annie': 11001, 'cleanly': 11002, 'proven': 11003, 'newborn': 11004, \"old's\": 11005, 'gymnastics': 11006, \"mumu's\": 11007, 'purchae': 11008, 'voice': 11009, '8petite': 11010, '178': 11011, 'tropics': 11012, 'selvage': 11013, 'teachers': 11014, 'obsessively': 11015, 'annnnd': 11016, 'spider': 11017, 'adjacent': 11018, 'unfort': 11019, 'mishaped': 11020, 'defense': 11021, 'unike': 11022, 'slinkiness': 11023, 'skews': 11024, 'remains': 11025, 'arrange': 11026, 'stat': 11027, 'sateens': 11028, 'chelan': 11029, 'wonce': 11030, 'naming': 11031, 'chairs': 11032, 'biggish': 11033, 'crossfit': 11034, 'ahe': 11035, 'bellow': 11036, 'abo': 11037, '14s': 11038, '16s': 11039, 'intensity': 11040, \"donse't\": 11041, 'population': 11042, 'nubbed': 11043, \"merchants'\": 11044, 'websites': 11045, 'formalness': 11046, 'void': 11047, \"there'll\": 11048, 'spinning': 11049, '183lbs': 11050, 'bless': 11051, 'trusted': 11052, 'sho': 11053, 'tkhe': 11054, \"rec'd\": 11055, 'accordance': 11056, 'tubes': 11057, 'pacifica': 11058, 'smack': 11059, 'dab': 11060, 'intricacy': 11061, 'spark': 11062, 'gre': 11063, 'constrained': 11064, 'herbalist': 11065, 'gapless': 11066, 'undesired': 11067, '4fits': 11068, 'striations': 11069, \"'slim\": 11070, \"tailored'\": 11071, 'pardon': 11072, 'planted': 11073, 'navigate': 11074, 'reseam': 11075, 'isalmsot': 11076, 'scratchier': 11077, 'zipepr': 11078, 'brightening': 11079, 'blaring': 11080, '0dd': 11081, 'consciousness': 11082, 'superficial': 11083, 'leaking': 11084, 'ilove': 11085, 'notched': 11086, 'cinchers': 11087, 'waits': 11088, 'practices': 11089, 'involve': 11090, 'vinyasa': 11091, 'tap': 11092, 'lous': 11093, 'dow': 11094, 'users': 11095, 'a32': 11096, 'flour': 11097, 'reject': 11098, 'granny': 11099, 'pudge': 11100, 'nonexistent': 11101, 'recom': 11102, '0xs': 11103, 'refrain': 11104, 'sailing': 11105, 'stumps': 11106, 'discolor': 11107, '126lbs': 11108, 'situated': 11109, 'tact': 11110, 'boxed': 11111, 'digs': 11112, 'blank': 11113, 'exceeds': 11114, 'flattery': 11115, 'angora': 11116, 'diss': 11117, 'buttock': 11118, 'graduations': 11119, 'cations': 11120, 'overshadow': 11121, 'sillouhette': 11122, 'seek': 11123, 'therapy': 11124, 'jacketgot': 11125, 'misnomer': 11126, 'bodily': 11127, 'arts': 11128, 'crafts': 11129, 'sampler': 11130, 'humongous': 11131, 'peekaboos': 11132, 'imlove': 11133, 'contest': 11134, 'murdered': 11135, 'needles': 11136, 'pricking': 11137, 'tolerating': 11138, 'undernea': 11139, 'guffawed': 11140, 'implore': 11141, 'flood': 11142, 'owed': 11143, 'ahh': 11144, 'workwear': 11145, 'othe': 11146, 'diff': 11147, 'pinker': 11148, 'satin0like': 11149, 'coplaints': 11150, \"they'\": 11151, 'fluffiness': 11152, 'highe': 11153, 'occurrence': 11154, 'shorebird': 11155, 'inadvertently': 11156, \"zoolander's\": 11157, 'derelict': 11158, 'campaign': 11159, 'hourgass': 11160, 'contributed': 11161, '27in': 11162, 'connector': 11163, 'sundresses': 11164, 'whack': 11165, 'bcup': 11166, 'consolation': 11167, 'prize': 11168, 'interfere': 11169, 'collector': 11170, 'passion': 11171, 'treasured': 11172, 'charles': 11173, 'rennie': 11174, 'macintosh': 11175, \"'empty\": 11176, \"nester'\": 11177, '2035': 11178, 'accessorizer': 11179, 'lokka': 11180, 'sundays': 11181, '30ss': 11182, 'suburban': 11183, 'restretched': 11184, 'strawberry': 11185, 'shortcake': 11186, 'dizzying': 11187, \"monkey's\": 11188, 'uncle': 11189, 'roaring': 11190, 'bodices': 11191, 'areturn': 11192, 'liekd': 11193, 'collarless': 11194, 'whihc': 11195, 'kindly': 11196, 'dumped': 11197, 'fp': 11198, 'fau': 11199, 'wiskering': 11200, 'odette': 11201, 'xxi': 11202, 'eex': 11203, 'prettily': 11204, 'talle': 11205, 'flag': 11206, 'cooking': 11207, 'cosy': 11208, 'accomadate': 11209, 'drapi': 11210, 'trolling': 11211, 'origami': 11212, 'mat': 11213, 'palettes': 11214, 'dynam': 11215, 'pantless': 11216, 'relent': 11217, 'fringing': 11218, 'coverd': 11219, 'petticoats': 11220, 'loun': 11221, 'chalked': 11222, 'dressied': 11223, 'babys': 11224, 'flattering1': 11225, 'mutliple': 11226, 'kansas': 11227, \"city's\": 11228, 'undeniable': 11229, \"'dear\": 11230, \"everywhere'\": 11231, 'big0': 11232, 'marathoner': 11233, 'positing': 11234, '250': 11235, 'warmest': 11236, 'cinderalla': 11237, 'buyi': 11238, \"don't'\": 11239, 'handbags': 11240, 'chains': 11241, 'topic': 11242, 'sunset': 11243, 'requested': 11244, 'recomme': 11245, '2012': 11246, 'incred': 11247, \"'red\": 11248, \"orange'\": 11249, \"'drape'\": 11250, 'stright': 11251, \"din'dt\": 11252, 'wrikling': 11253, 'wwear': 11254, 'hoisting': 11255, \"suit's\": 11256, 'austin': 11257, 'embroid': 11258, 'pencils': 11259, 'cecilia': 11260, 'floraknit': 11261, 'picturing': 11262, 'limned': 11263, 'strang': 11264, 'witches': 11265, 'restoring': 11266, 'milkmaid': 11267, 'materia': 11268, 'pictu': 11269, 'immaculate': 11270, 'monthe': 11271, 'abut': 11272, 'intrinsic': 11273, 'attracts': 11274, 'knuc': 11275, 'overstitching': 11276, 'ribbbed': 11277, 'dryers': 11278, 'gauchos': 11279, 'unavail': 11280, \"'cream'\": 11281, 'toenails': 11282, 'pierce': 11283, 'spa': 11284, 'garter': 11285, 'elephant': 11286, 'rippling': 11287, 'jars': 11288, 'jam': 11289, 'berries': 11290, 'spoons': 11291, 'whey': 11292, 'independently': 11293, 'serving': 11294, 'dec': 11295, 'their': 11296, 'oder': 11297, 'thinki': 11298, 'leblon': 11299, 'loooooove': 11300, 'screaming': 11301, 'pond': 11302, '30aa': 11303, 'jcrew': 11304, 'quasi': 11305, 'goodone': 11306, 'mjuch': 11307, 'huhm': 11308, 'twinsies': 11309, 'lampshades': 11310, 'lampshade': 11311, 'downtown': 11312, 'blossoming': 11313, '3d': 11314, 'binging': 11315, 'ddd36': 11316, 'travelling': 11317, 'specified': 11318, 'disgraceful': 11319, \"small's\": 11320, 'flattereing': 11321, 'hosed': 11322, 'thiner': 11323, 'cooold': 11324, 'slovenly': 11325, 'creased': 11326, 'downright': 11327, 'radiating': 11328, 'sofla': 11329, 'sweaty': 11330, 'sizingwise': 11331, 'jewlery': 11332, 'compliements': 11333, 'oprefer': 11334, 'aottern': 11335, 'bordering': 11336, 'kee': 11337, 'monitoring': 11338, 'mourn': 11339, 'affixed': 11340, 'baring': 11341, 'tiiny': 11342, 'ensuring': 11343, 'balooned': 11344, 'eyeglass': 11345, 'sunglass': 11346, '35x28x39': 11347, 'slightl': 11348, 'upsize': 11349, 'mission': 11350, 'knots': 11351, 'thighness': 11352, 'presentable': 11353, 'oklahoma': 11354, 'colorblocked': 11355, 'oood': 11356, 'rtw': 11357, 'knockoff': 11358, 'egg': 11359, 'bedecked': 11360, 'nerdy': 11361, \"husband''s\": 11362, 'prefers': 11363, 'maui': 11364, 'revisitation': 11365, \"'sweater'\": 11366, 'photographers': 11367, 'unbalanced': 11368, 'stitc': 11369, 'king': 11370, 'camellia': 11371, 'dropwaist': 11372, 'decked': 11373, 'evokes': 11374, '190lbs': 11375, 'craftmanship': 11376, 'hoepfulyl': 11377, 'orffice': 11378, 'striving': 11379, 'teeshirt': 11380, 'offen': 11381, 'daker': 11382, 'bottome': 11383, 'peitte': 11384, 'claiming': 11385, 'instruction': 11386, 'irradiates': 11387, 'leads': 11388, 'frustration': 11389, 'sugge': 11390, 'punks': 11391, 'retailerplogy': 11392, 'swapping': 11393, 'lobster': 11394, 'perfects': 11395, 'goldilicks': 11396, \"la's\": 11397, 'irritatingly': 11398, 'fanatic': 11399, 'contri': 11400, 'packages': 11401, 'agrees': 11402, '114lb': 11403, 'damaging': 11404, 'waitband': 11405, 'piqued': 11406, 'factored': 11407, 'walnut': 11408, 'creek': 11409, 'storeroom': 11410, 'undistinguished': 11411, 'disintegrated': 11412, 'fore': 11413, 'frest': 11414, 'romance': 11415, 'spacious': 11416, 'necked': 11417, 'blowzy': 11418, 'evaluate': 11419, 'seperate': 11420, 'blueness': 11421, 'sensed': 11422, 'tassle': 11423, 'pets': 11424, 'circulates': 11425, 'inquiry': 11426, \"5'130lbs\": 11427, 'unfasten': 11428, 'cau': 11429, 'skir': 11430, 'breakthable': 11431, 'clipdot': 11432, 'affected': 11433, 'alludes': 11434, 'caftans': 11435, 'coverall': 11436, 'elastaine': 11437, \"levi's\": 11438, 'definitel': 11439, 'donna': 11440, 'morgan': 11441, 'bridey': 11442, 'reutn': 11443, 'woud': 11444, 'warrant': 11445, 'ls': 11446, 'hemant': 11447, 'nandita': 11448, 'shark': 11449, 'repeats': 11450, 'litter': 11451, 'tick': 11452, 'lasting': 11453, 'troubles': 11454, 'indifferent': 11455, 'attest': 11456, \"6'3\": 11457, 'fron': 11458, 'stamps': 11459, 'cupped': 11460, 'rial': 11461, 'dippy': 11462, \"m'l\": 11463, 'external': 11464, 'sensational': 11465, 'lotus': 11466, 'upsetting': 11467, 'snowflake': 11468, 'rests': 11469, 'attrac': 11470, 'sheed': 11471, 'sleevless': 11472, 'comforta': 11473, \"marvel's\": 11474, 'agent': 11475, 'carter': 11476, '27inches': 11477, 'imay': 11478, 'excelle': 11479, 'fringy': 11480, \"i''m\": 11481, 'sn': 11482, 'updo': 11483, 'definetely': 11484, 'fullest': 11485, 'fostering': 11486, 'victim': 11487, 'substituting': 11488, 'horrors': 11489, 'sweatshirty': 11490, 'coutour': 11491, 'wrardrobe': 11492, 'joked': 11493, 'resistance': 11494, 'wars': 11495, 'stored': 11496, 'gas': 11497, 'station': 11498, 'swirly': 11499, 'bolo': 11500, 'bummers': 11501, 'ash': 11502, 'intrusive': 11503, '2inches': 11504, 'drawcord': 11505, 'ehhh': 11506, 'coverages': 11507, 'eaisly': 11508, 'gentlemen': 11509, 'irvine': 11510, '230lbs': 11511, 'stinning': 11512, 'smashed': 11513, 'neverth': 11514, 'keepin': 11515, 'encouraged': 11516, 'honesty': 11517, 'eyelits': 11518, 'untill': 11519, 'repackaged': 11520, 'barley': 11521, 'pashminas': 11522, 'spreads': 11523, 'skimps': 11524, 'nabbed': 11525, 'frump': 11526, 'submitting': 11527, 'sprea': 11528, 'hysterically': 11529, 'hurting': 11530, 'demosilles': 11531, 'incorporates': 11532, 'spongy': 11533, 'godsend': 11534, 'panama': 11535, 'flatform': 11536, 'plethora': 11537, \"'just'\": 11538, \"'digi\": 11539, 'readers': 11540, '30th': 11541, 'sheerling': 11542, 'bliss': 11543, 'slovak': 11544, 'groin': 11545, 'craziest': 11546, 'broen': 11547, 'rash': 11548, 'wering': 11549, 'whips': 11550, 'steadly': 11551, 'hill': 11552, 'cartoonishly': 11553, 'difficu': 11554, 'checkers': 11555, 'manipulation': 11556, 'exploring': 11557, 'pancho': 11558, 'camsiole': 11559, 'tooks': 11560, 'campole': 11561, 'neckli': 11562, 'peacoat': 11563, 'shaded': 11564, 'arguably': 11565, 'attent': 11566, 'normaly': 11567, 'chiquita': 11568, 'knocking': 11569, 'awate': 11570, 'maza': 11571, 'sing': 11572, 'exclaimed': 11573, 'retailerpligie': 11574, 'stairs': 11575, 'bleeding': 11576, 'curled': 11577, 'pizazz': 11578, 'attachments': 11579, 'races': 11580, 'blaclk': 11581, 'browner': 11582, '38dds': 11583, 'arranged': 11584, 'numero': 11585, 'uno': 11586, 'foamy': 11587, 'reconstructed': 11588, \"isn'\": 11589, 'chunkiness': 11590, 'unexciting': 11591, 'religious': 11592, 'bleeds': 11593, 'drearriest': 11594, '5ft3in': 11595, 'lilka': 11596, 'illustrations': 11597, 'rounds': 11598, 'disposed': 11599, \"designer's\": 11600, 'aw': 11601, 'subset': 11602, 'nonsensical': 11603, 'ecept': 11604, 'learn': 11605, 'nigh': 11606, 'complected': 11607, 'lovethis': 11608, '36dds': 11609, 'versio': 11610, 'im5': 11611, 'casula': 11612, 'insides': 11613, 'unifying': 11614, 'misled': 11615, 'refuses': 11616, 'tot': 11617, 'lavendar': 11618, 'nitpick': 11619, 'decades': 11620, 'cherish': 11621, 'agustable': 11622, 'lap': 11623, 'upkeep': 11624, \"'jeans'\": 11625, 'exercises': 11626, 'intolerable': 11627, \"sayin'\": 11628, 'discrepancies': 11629, 'tig': 11630, 'outstretched': 11631, 'donating': 11632, 'conside': 11633, 'hadent': 11634, \"'dry\": 11635, \"only'\": 11636, 'allways': 11637, 'pta': 11638, 'saturdays': 11639, 'receptionist': 11640, 'removal': 11641, 'straightened': 11642, \"nolan's\": 11643, 'threaded': 11644, 'shapel': 11645, 'shares': 11646, 'knakis': 11647, 'del': 11648, 'stripey': 11649, 'hike': 11650, 'blogger': 11651, 'amber': 11652, 'fillerup': 11653, 'clark': 11654, 'avoided': 11655, 'mono': 11656, 'kini': 11657, 'cactus': 11658, 'admirin': 11659, 'insulating': 11660, 'retire': 11661, 'strategy': 11662, 'utter': 11663, 'superfast': 11664, 'tallish': 11665, 'taylored': 11666, 'issued': 11667, \"aaaaandidon'twanttopayforshipping\": 11668, 'appetite': 11669, 'conditionally': 11670, 'shoulda': 11671, 'clicked': 11672, 'harkened': 11673, 'pictur': 11674, 'cosmetic': 11675, 'downwards': 11676, 'purcahsed': 11677, 'gargantuan': 11678, 'unbeatable': 11679, 'raunching': 11680, 'jearns': 11681, 'ahhhh': 11682, 'my3': 11683, 'horrendous': 11684, 'praised': 11685, 'swamped': 11686, 'scoping': 11687, 'unders': 11688, 'hunchback': 11689, 'jacksons': 11690, 'separately': 11691, 'successful': 11692, 'environs': 11693, 'shaggy': 11694, 'conscience': 11695, 'returnable': 11696, 'overt': 11697, \"i'\": 11698, 'motiff': 11699, 'mistakenly': 11700, 'rearranging': 11701, 'terra': 11702, \"'great\": 11703, 'tbu': 11704, 'hite': 11705, 'shortly': 11706, 'crass': 11707, 'orientation': 11708, 'pict': 11709, 'overtaken': 11710, 'hurray': 11711, 'mashups': 11712, 'showcasing': 11713, 'perennial': 11714, 'purchaser': 11715, 'squealed': 11716, 'woodland': 11717, 'enamor': 11718, 'baggies': 11719, 'negatively': 11720, 'holey': 11721, 'gravely': 11722, 'indecently': 11723, 'subsequently': 11724, \"34g's\": 11725, 'readjusting': 11726, 'olsen': 11727, 'attributes': 11728, 'teenager': 11729, '137lbs': 11730, 'lucious': 11731, 'pace': 11732, \"'almost'\": 11733, \"5''5\": 11734, 'perc': 11735, 'richness': 11736, 'smoking': 11737, 'ottoman': 11738, 'unruly': 11739, 'neaten': 11740, 'enoug': 11741, 'scruffy': 11742, 'malfun': 11743, 'psuedo': 11744, 'innovative': 11745, 'suction': 11746, 'demure': 11747, 'rethinking': 11748, 'sublime': 11749, 'yummiest': 11750, \"ii'm\": 11751, 'mill': 11752, 'outgoing': 11753, 'chokey': 11754, 'cas': 11755, 'scarfs': 11756, 'sensual': 11757, 'purr': 11758, 'dimpling': 11759, 'deny': 11760, 'focused': 11761, 'mauv': 11762, 'attributed': 11763, 'deduce': 11764, 'sizi': 11765, 'unforgettable': 11766, 'snu': 11767, 'wave': 11768, 'enthusiastic': 11769, 'sprung': 11770, 'rescue': 11771, 'conversely': 11772, 'goon': 11773, 'nansen': 11774, 'feathers': 11775, 'princessy': 11776, 'corner': 11777, 'instantaneously': 11778, 'tme0': 11779, 'ragged': 11780, 'tailered': 11781, 'hifh': 11782, 'cursed': 11783, \"you've\": 11784, 'necklac': 11785, 'wotb': 11786, 'gonga': 11787, 'snuggest': 11788, \"cardigan's\": 11789, 'lbds': 11790, 'masks': 11791, 'lilitz': 11792, 'boyishly': 11793, 'humble': 11794, 'approriate': 11795, 'owl': 11796, 'modernized': 11797, 'stag': 11798, '6in': 11799, 'ranks': 11800, 'prevalent': 11801, 'peplu': 11802, 'leary': 11803, 'besutiful': 11804, 'huh': 11805, \"'perfect'\": 11806, 'parti': 11807, 'causally': 11808, 'uniqlo': 11809, 'airism': 11810, 'barbecue': 11811, 'herringbone': 11812, 'worm': 11813, \"child's\": 11814, 'swayed': 11815, 'enjoyable': 11816, 'signed': 11817, 'informing': 11818, 'sounded': 11819, 'meredith': 11820, 'sloping': 11821, 'losses': 11822, 'lucy': 11823, 'lui': 11824, 'elementary': 11825, 'muc': 11826, 'er': 11827, 'clinged': 11828, 'minneapolis': 11829, 'toddlers': 11830, 'modei': 11831, 'unfitted': 11832, 'colters': 11833, 'objectionably': 11834, 'bohemain': 11835, 'dimple': 11836, 'messes': 11837, 'carmel': 11838, 'snatching': 11839, 'consumers': 11840, 'enveloped': 11841, 'fireengine': 11842, 'elouise': 11843, 'timing': 11844, '1940s': 11845, 'ensured': 11846, 'shading': 11847, 'bumpkin': 11848, 'strains': 11849, 'overhead': 11850, 'supersoft': 11851, 'chang': 11852, 'bronzy': 11853, \"4'9\": 11854, 'reallly': 11855, 'upholstery': 11856, 'specious': 11857, 'allot': 11858, 'everywhe': 11859, 'neighboring': 11860, 'mildish': 11861, 'nw': 11862, \"models'\": 11863, 'geometry': 11864, 'contrasted': 11865, 'guarantees': 11866, 'unpleasantly': 11867, 'bleachers': 11868, 'poodles': 11869, 'poodle': 11870, 'estatic': 11871, 'cmpliments': 11872, 'twenty': 11873, 'laws': 11874, \"'help'\": 11875, 'instagrams': 11876, \"'5\": 11877, 'cury': 11878, 'guard': 11879, 'childsize': 11880, 'retailerpologist': 11881, 'flawy': 11882, 'planet': 11883, 'gambl': 11884, 'fol': 11885, 'rol': 11886, 'needlessly': 11887, 'rotund': 11888, 'unaltered': 11889, 'silh': 11890, 'lightwe': 11891, 'ongoing': 11892, 'echo': 11893, 'na': 11894, 'nightgowns': 11895, 'liners': 11896, 'boohoo': 11897, 'bolder': 11898, \"5'10'\": 11899, 'floofs': 11900, \"'blue'\": 11901, 'luna': 11902, 'volumnous': 11903, 'sneaker': 11904, 'volu': 11905, 'retailerplpogie': 11906, 'polarized': 11907, '02': 11908, 'clarify': 11909, '134b': 11910, '10s': 11911, 'masquerade': 11912, 'madras': 11913, '2006': 11914, 'turqoise': 11915, 'tub': 11916, 'darkly': 11917, 'nay': 11918, '125ish': 11919, 'clingier': 11920, 'atypical': 11921, 'dusky': 11922, 'beacheress': 11923, '9inches': 11924, 'comfo': 11925, 'visibility': 11926, 'headlights': 11927, 'swea': 11928, 'invites': 11929, 'exhilarating': 11930, \"6'0\": 11931, 'annual': 11932, 'switzerland': 11933, 'plasticky': 11934, 'lineba': 11935, 'lithe': 11936, 'vulgar': 11937, 'rat': 11938, 'inclination': 11939, 'tt': 11940, 'temple': 11941, 'hypen': 11942, 'boggling': 11943, 'shortwaisted': 11944, 'mensware': 11945, \"heart's\": 11946, 'marala': 11947, 'strand': 11948, 'balling': 11949, 'mediu': 11950, 'saggier': 11951, '146lbs': 11952, 'periodically': 11953, 'flake': 11954, \"'vegan'\": 11955, 'deliberating': 11956, \"25''\": 11957, 'engagements': 11958, 'clasic': 11959, 'occassions': 11960, 'photographer': 11961, \"hemline's\": 11962, 'raindrops': 11963, 'arcata': 11964, '101': 11965, 'amost': 11966, 'unbearable': 11967, 'rediculous': 11968, 'roof': 11969, 'shingles': 11970, 'anthto': 11971, 'peasy': 11972, 'representations': 11973, 'tiokeep': 11974, 'colwyn': 11975, 'darned': 11976, 'the10': 11977, 'midrift': 11978, 'cloud': 11979, 'jaggedly': 11980, 'haphazardly': 11981, 'sheeny': 11982, 'flea': 11983, 'glorified': 11984, '5mo': 11985, 'cycles': 11986, 'cameo': 11987, 'brooch': 11988, 'parker': 11989, \"girls'\": 11990, 'bloop': 11991, 'lable': 11992, 'entirel': 11993, '167': 11994, 'prudish': 11995, 'supremely': 11996, 'excell': 11997, 'petroleum': 11998, 'native': 11999, 'errs': 12000, 'lea': 12001, 'axtra': 12002, 'frivolous': 12003, \"ladies'\": 12004, 'fuz': 12005, 'tummies': 12006, 'groups': 12007, 'wanderer': 12008, '800': 12009, 'resources': 12010, 'fuscia': 12011, 'purpleish': 12012, 'peony': 12013, 'pragmatics': 12014, 'sleeps': 12015, 'tahari': 12016, 'darted': 12017, 'familiar': 12018, 'nbeed': 12019, 'nuance': 12020, 'woah': 12021, 'raiding': 12022, 'cherished': 12023, 'medical': 12024, 'professionalism': 12025, 'predicted': 12026, 'hps': 12027, 'grading': 12028, 'globally': 12029, 'sourced': 12030, 'lign': 12031, 'substan': 12032, 'swapped': 12033, 'text': 12034, \"god's\": 12035, \"'charlie'\": 12036, 'diamonds': 12037, 'whew': 12038, 'muscley': 12039, 'amelia': 12040, 'bedelia': 12041, 'whacky': 12042, \"children's\": 12043, 'reflex': 12044, 'suppre': 12045, 'appropriarely': 12046, 'meda': 12047, '111': 12048, 'tod': 12049, 'lux': 12050, 'recommemd': 12051, 'colos': 12052, 'ri': 12053, 'balc': 12054, 'legginss': 12055, 'botos': 12056, 'sublte': 12057, 'noyte': 12058, 'fess': 12059, '154': 12060, \"pantie's\": 12061, 'wtih': 12062, 'pas': 12063, 'yield': 12064, 'itso': 12065, 'sungarden': 12066, 'odering': 12067, \"lilke's\": 12068, 'tideline': 12069, 'pricing': 12070, 'conflict': 12071, 'honored': 12072, 'orignal': 12073, 'nubbly': 12074, \"5''9\": 12075, 'androgynous': 12076, 'ick': 12077, 'dahlia': 12078, 'hesitantly': 12079, 'brownies': 12080, 'scout': 12081, 'disturbed': 12082, 'throughou': 12083, 'practicality': 12084, 'sheek': 12085, \"'cut'\": 12086, 'sherbet': 12087, \"'tattered\": 12088, \"'cuts\": 12089, 'onl': 12090, 'nevermind': 12091, 'horizont': 12092, 'ths': 12093, 'likea': 12094, 'har': 12095, 'dtime': 12096, 'peites': 12097, 'stellar': 12098, 'bleached': 12099, 'tor': 12100, 'deceptively': 12101, 'wrestling': 12102, 'cheapy': 12103, 'bustiest': 12104, 'szie': 12105, 'looke': 12106, 'aweful': 12107, 'ahge': 12108, 'hur': 12109, 'palelike': 12110, 'asflattering': 12111, \"'cos\": 12112, \"'fitted'\": 12113, 'history': 12114, 'inbetween': 12115, 'gett': 12116, 'clusters': 12117, 'nap': 12118, 'inconvenient': 12119, 'flanking': 12120, 'hs': 12121, '103lb': 12122, 'dinged': 12123, 'frequent': 12124, 'picure': 12125, 'slouchier': 12126, 'dressiness': 12127, 'malabar': 12128, \"picture's\": 12129, 'mysteriously': 12130, 'viewing': 12131, 'pouffier': 12132, 'distraught': 12133, 'oxford': 12134, 'marketing': 12135, 'politely': 12136, 'alined': 12137, 'transports': 12138, 'island': 12139, 'los': 12140, 'angeles': 12141, 'eveyone': 12142, 'complex': 12143, 'sooooooooooooooo': 12144, 'disintegrates': 12145, 'sarong': 12146, 'miniskirt': 12147, 'resew': 12148, 'bran': 12149, 'extent': 12150, 'lowered': 12151, 'incr': 12152, 'calvin': 12153, 'klein': 12154, 'mildly': 12155, 'wired': 12156, 'intimidating': 12157, 'dug': 12158, 'medieval': 12159, 'liposuction': 12160, \"'green'\": 12161, 'alert': 12162, 'angels': 12163, 'angelinas': 12164, 'series': 12165, 'westher': 12166, 'lens': 12167, 'laura': 12168, 'marching': 12169, 'cloying': 12170, 'taggart': 12171, 'blingy': 12172, 'readying': 12173, \"o'\": 12174, \"all'\": 12175, 'marred': 12176, 'unnaturally': 12177, 'simplifie': 12178, 'radiant': 12179, 'envisioning': 12180, 'legit': 12181, 'enhanced': 12182, 'ageless': 12183, 'ding': 12184, 'reviewwers': 12185, \"pomona's\": 12186, 'reworked': 12187, 'toothpick': 12188, 'relief': 12189, \"sa's\": 12190, 'orderin': 12191, 'shlumpy': 12192, 'inexcusable': 12193, 'overbeari': 12194, 'portrait': 12195, 'ace': 12196, 'bandage': 12197, 'thickest': 12198, 'loosest': 12199, '147': 12200, 'frontal': 12201, 'destroys': 12202, 'greek': 12203, 'surroundings': 12204, 'foolishly': 12205, 'gifting': 12206, 'mushroom': 12207, 'morher': 12208, 'seasoned': 12209, 'dapper': 12210, 'aided': 12211, 'jury': 12212, 'measur': 12213, 'confuse': 12214, 'tobacco': 12215, 'fusing': 12216, 'sufficiently': 12217, 'cinchable': 12218, 'lightwash': 12219, 'grabber': 12220, '03dd': 12221, 'lark': 12222, 'ruffly': 12223, 'sewers': 12224, 'florascura': 12225, 'passersby': 12226, 'flipp': 12227, 'lowest': 12228, 'flax': 12229, 'cafe': 12230, 'unnecessarily': 12231, 'hist': 12232, 'examined': 12233, 'proceeded': 12234, 'libs': 12235, 'gawdy': 12236, 'status': 12237, 'murkier': 12238, 'smokey': 12239, 'condensation': 12240, 'drips': 12241, 'deodorant': 12242, 'oompaloompa': 12243, 'funk': 12244, 'pradollano': 12245, 'unmodest': 12246, \"'supposed\": 12247, \"to'\": 12248, 'puckery': 12249, 'outrageous': 12250, 'awe': 12251, 'itll': 12252, 'pacific': 12253, 'northwest': 12254, 'exacerbated': 12255, 'cue': 12256, 'darlings': 12257, 'bismal': 12258, 'fondly': 12259, 'handwashable': 12260, 'widening': 12261, 'ugg': 12262, 'supposedly': 12263, 'warped': 12264, 'befo': 12265, 'tightener': 12266, 'prance': 12267, 'poetry': 12268, 'fluevogs': 12269, 'easel': 12270, 'bonnet': 12271, 'candlestick': 12272, 'ebenezer': 12273, 'carol': 12274, 'shmata': 12275, 'yiddish': 12276, 'rags': 12277, 'swe': 12278, 'snigger': 12279, 'wiill': 12280, 'uiu': 12281, 'sheerer': 12282, 'md': 12283, 'oops': 12284, 'accompanies': 12285, 'notorious': 12286, 'english': 12287, 'beardedlady': 12288, 'julie': 12289, 'andrews': 12290, 'toughen': 12291, 'flowinng': 12292, 'glistening': 12293, 'velour': 12294, 'mulling': 12295, 'qu': 12296, 'brutal': 12297, 'thruout': 12298, 'av': 12299, 'sha': 12300, 'perk': 12301, 'oozing': 12302, \"'tent'\": 12303, 'hwoevcer': 12304, 'proof': 12305, 'peoppe': 12306, \"'v'\": 12307, 'deposited': 12308, 'particle': 12309, 'omits': 12310, 'relies': 12311, 'respite': 12312, 'wid': 12313, 'transcends': 12314, 'enormously': 12315, 'complection': 12316, 'holdup': 12317, 'hearted': 12318, 'nanny': 12319, 'nauseating': 12320, 'throught': 12321, 'fasionable': 12322, 'hasn': 12323, 'cooled': 12324, 'impecable': 12325, 'acts': 12326, 'peche': 12327, 'rockefeller': 12328, 'tassled': 12329, 'clunky': 12330, '31st': 12331, 'anybody': 12332, 'lowcut': 12333, 'attaching': 12334, 'gameday': 12335, 'streamline': 12336, 'doo': 12337, \"''\": 12338, 'whyyyyyyyyyyy': 12339, 'crisper': 12340, \"'different\": 12341, \"'puckered'\": 12342, 'sz4': 12343, 'brow': 12344, \"father's\": 12345, 'wires': 12346, 'researched': 12347, 'interchangeable': 12348, 'rewarded': 12349, 'casu': 12350, \"'shear\": 12351, '6t': 12352, \"'i\": 12353, \"color'\": 12354, 'corpse': 12355, 'cheek': 12356, 'measument': 12357, 'disheveled': 12358, 'hanged': 12359, 'thakoon': 12360, '500': 12361, 'snowing': 12362, 'midnight': 12363, 'tranquil': 12364, 'bidding': 12365, \"kid's\": 12366, 'auction': 12367, 'goood': 12368, 'latetly': 12369, 'instants': 12370, 'wuzzy': 12371, 'monstrosity': 12372, 'undie': 12373, 'outwards': 12374, 'embarrassed': 12375, 'disrobe': 12376, 'clingi': 12377, 'pooling': 12378, 'fruit': 12379, 'noooo': 12380, 'grungy': 12381, 'thylo': 12382, 'customizable': 12383, \"'poor\": 12384, \"boy'\": 12385, 'merchandised': 12386, \"'t'\": 12387, 'seaso': 12388, 'wheelchair': 12389, 'temporarily': 12390, 'agitates': 12391, 'snuggie': 12392, 'fairer': 12393, 'airflow': 12394, 'overal': 12395, 'returrn': 12396, 'meduim': 12397, 'villa': 12398, 'canyon': 12399, 'chucks': 12400, \"5''3\": 12401, 'subtleties': 12402, 'oclor': 12403, 'overexposed': 12404, 'creamsicle': 12405, 'format': 12406, \"years'\": 12407, 'artfully': 12408, 'avery': 12409, \"'online\": 12410, \"exclusive'\": 12411, 'notation': 12412, 'fem': 12413, 'freshly': 12414, 'banquet': 12415, 'categorized': 12416, 'impr': 12417, 'loooong': 12418, 'erring': 12419, 'freepeople': 12420, 'chilling': 12421, 'field': 12422, 'milan': 12423, \"2's\": 12424, \"4's\": 12425, 'mediumd': 12426, 'fulfills': 12427, 'depressing': 12428, 'resembled': 12429, 'sweetest': 12430, 'shortens': 12431, 'sillhoette': 12432, 'abdominal': 12433, 'bike': 12434, 'frabic': 12435, \"5''6'\": 12436, 'shoreline': 12437, 'duties': 12438, 'buckling': 12439, 'brides': 12440, 'pallette': 12441, 'slumps': 12442, 'raved': 12443, 'yellower': 12444, 'hops': 12445, 'orginially': 12446, 'palced': 12447, 'appropirate': 12448, 'opinion0': 12449, '4d': 12450, 'abso': 12451, 'riiiiiiiiiip': 12452, 'puffin': 12453, 'tenting': 12454, \"that'd\": 12455, 'forewarning': 12456, '149': 12457, 'dial': 12458, '1990': 12459, 'apocolypse': 12460, 'imminent': 12461, 'widened': 12462, 'comp': 12463, 'afterall': 12464, 'sensati': 12465, 'females': 12466, 'ahem': 12467, 'scattered': 12468, 'coins': 12469, 'fountain': 12470, 'faced': 12471, 'deligthfully': 12472, 'reduced': 12473, '30percent': 12474, 'collections': 12475, 'dreadful': 12476, \"'ride'\": 12477, 'maturity': 12478, '142lbs': 12479, 'grossly': 12480, 'crafting': 12481, 'toy': 12482, 'museums': 12483, 'churches': 12484, 'discontinue': 12485, 'midrise': 12486, 'swlim': 12487, 'emobroidery': 12488, 'tossing': 12489, 'min': 12490, 'takeaway': 12491, 'catelog': 12492, 'ithas': 12493, 'gilded': 12494, 'warnings': 12495, 'playfully': 12496, '85': 12497, 'pilcto': 12498, \"'cover\": 12499, \"up'\": 12500, 'comparat': 12501, 'awakward': 12502, 'pages': 12503, 'belong': 12504, 'themes': 12505, 'overhangs': 12506, 'wicks': 12507, 'russian': 12508, 'parks': 12509, 'recreation': 12510, 'episode': 12511, 'awesomely': 12512, 'swimmingly': 12513, 'saldly': 12514, 'scuba': 12515, 'jiffy': 12516, 'pallas': 12517, 'activity': 12518, 'bcasue': 12519, 'anothr': 12520, 'cahrm': 12521, 'proably': 12522, 'bearing': 12523, 'creatively': 12524, \"it''s\": 12525, 'cleani': 12526, 'jns': 12527, 'althleisure': 12528, 'easiness': 12529, '112llbs': 12530, 'expectant': 12531, 'bathed': 12532, 'impresssionistic': 12533, 'measly': 12534, 'symptoms': 12535, 'loopy': 12536, 'beefier': 12537, 'reinforces': 12538, \"sunday's\": 12539, 'givinng': 12540, \"dnd't\": 12541, 'femme': 12542, 'fatale': 12543, 'diy': 12544, 'alerations': 12545, 'tlc': 12546, 'bhldn': 12547, 'reception': 12548, 'xxxxs': 12549, 'readily': 12550, 'choppy': 12551, 'conceptually': 12552, 'softening': 12553, 'marvel': 12554, 'trek': 12555, 'villain': 12556, 'confirm': 12557, 'jodphurs': 12558, 'yello': 12559, 'whisper': 12560, \"'short'\": 12561, 'array': 12562, 'differing': 12563, 'sentiments': 12564, 'ni': 12565, 'hsould': 12566, 'peple': 12567, 'nottom': 12568, 'gegt': 12569, 'inchess': 12570, 'waiat': 12571, 'musclea': 12572, 'plaform': 12573, 'heeks': 12574, 'laughs': 12575, \"33's\": 12576, 'loden': 12577, 'accuracy': 12578, 'seychelles': 12579, 'valuable': 12580, 'fleecy': 12581, 'leopards': 12582, 'decadent': 12583, \"cartonnier's\": 12584, 'scrolled': 12585, 'nuts': 12586, 'complaintbis': 12587, '220lbs': 12588, 'banking': 12589, 'goldish': 12590, '180lb': 12591, 'christma': 12592, 'basement': 12593, 'swore': 12594, 'plaids': 12595, 'lied': 12596, 'controlled': 12597, 'experimented': 12598, 'reins': 12599, '153': 12600, 'hydrogen': 12601, 'peroxide': 12602, 'longline': 12603, '2004': 12604, '2005': 12605, 'thang': 12606, 'aggressively': 12607, 'artificial': 12608, 'hula': 12609, 'briefly': 12610, 'wrapover': 12611, 'regualar': 12612, 'binge': 12613, 'foil': 12614}\n",
            "12615\n"
          ],
          "name": "stdout"
        }
      ]
    },
    {
      "cell_type": "code",
      "metadata": {
        "id": "AiPMo2PmGxao"
      },
      "source": [
        "x_train = t.texts_to_sequences(train.Review_Text) \n",
        "x_test = t.texts_to_sequences(test.Review_Text) "
      ],
      "execution_count": null,
      "outputs": []
    },
    {
      "cell_type": "code",
      "metadata": {
        "id": "CDnZduCpHD33"
      },
      "source": [
        "x_train_pad = pad_sequences(x_train, maxlen=500)\n",
        "x_test_pad = pad_sequences(x_test, maxlen=500)"
      ],
      "execution_count": null,
      "outputs": []
    },
    {
      "cell_type": "code",
      "metadata": {
        "id": "nMQehhzUhuGY"
      },
      "source": [
        " clothing_train = train['Clothing_ID']"
      ],
      "execution_count": null,
      "outputs": []
    },
    {
      "cell_type": "code",
      "metadata": {
        "id": "VVyar4OunQOQ"
      },
      "source": [
        "clothing_test = test['Clothing_ID']"
      ],
      "execution_count": null,
      "outputs": []
    },
    {
      "cell_type": "code",
      "metadata": {
        "id": "AqoF_yAFRBzs"
      },
      "source": [
        "from sklearn.preprocessing import LabelEncoder\n",
        "labelencoder = LabelEncoder()\n",
        "clothing_train = labelencoder.fit_transform(clothing_train)"
      ],
      "execution_count": null,
      "outputs": []
    },
    {
      "cell_type": "code",
      "metadata": {
        "id": "26CmP1gQmvJU"
      },
      "source": [
        "clothing_test=  labelencoder.fit_transform(clothing_test)"
      ],
      "execution_count": null,
      "outputs": []
    },
    {
      "cell_type": "code",
      "metadata": {
        "id": "uCL3RJ84zkwh"
      },
      "source": [
        "recommend_train = train['Recommended_IND']"
      ],
      "execution_count": null,
      "outputs": []
    },
    {
      "cell_type": "code",
      "metadata": {
        "id": "vhAHV_bPzu06"
      },
      "source": [
        "recommend_test = test['Recommended_IND']"
      ],
      "execution_count": null,
      "outputs": []
    },
    {
      "cell_type": "code",
      "metadata": {
        "id": "BpWtqyQ5tr-S"
      },
      "source": [
        "from numpy import asarray\n",
        "from sklearn.preprocessing import OneHotEncoder\n",
        "from sklearn.compose import ColumnTransformer\n",
        "onehot = OneHotEncoder()\n",
        "recommend_train = onehot.fit_transform(recommend_train.values.reshape(-1,1)).toarray()"
      ],
      "execution_count": null,
      "outputs": []
    },
    {
      "cell_type": "code",
      "metadata": {
        "id": "G2-Nec4v0cx8"
      },
      "source": [
        "recommend_test = onehot.transform(recommend_test.values.reshape(-1,1)).toarray()"
      ],
      "execution_count": null,
      "outputs": []
    },
    {
      "cell_type": "code",
      "metadata": {
        "id": "_DoeSdAT4xvp"
      },
      "source": [
        "age_train= train['Age']"
      ],
      "execution_count": null,
      "outputs": []
    },
    {
      "cell_type": "code",
      "metadata": {
        "id": "K7v3PABT42yt"
      },
      "source": [
        "age_test = test['Age']"
      ],
      "execution_count": null,
      "outputs": []
    },
    {
      "cell_type": "code",
      "metadata": {
        "id": "mz_lg9T54Efk"
      },
      "source": [
        "# define standard scaler\n",
        "from sklearn.preprocessing import StandardScaler\n",
        "scaler = StandardScaler()\n",
        "\n",
        "# transform data\n",
        "\n",
        "scaled_train = scaler.fit_transform(age_train.values.reshape(-1,1))\n",
        "\n"
      ],
      "execution_count": null,
      "outputs": []
    },
    {
      "cell_type": "code",
      "metadata": {
        "id": "VSGHxylD5VnM"
      },
      "source": [
        "scaled_test = scaler.fit_transform(age_test.values.reshape(-1,1))"
      ],
      "execution_count": null,
      "outputs": []
    },
    {
      "cell_type": "code",
      "metadata": {
        "id": "Q8qQJzbIrkgO"
      },
      "source": [
        "pos_train = train['Positive_Feedback_Count']\n",
        "pos_test= test['Positive_Feedback_Count']"
      ],
      "execution_count": null,
      "outputs": []
    },
    {
      "cell_type": "code",
      "metadata": {
        "id": "5CpOYjSKvinW"
      },
      "source": [
        "from sklearn.preprocessing import StandardScaler\n",
        "scaler = StandardScaler()\n",
        "\n",
        "# transform data\n",
        "\n",
        "scaled_train_pos = scaler.fit_transform(pos_train.values.reshape(-1,1))"
      ],
      "execution_count": null,
      "outputs": []
    },
    {
      "cell_type": "code",
      "metadata": {
        "id": "5JwrcenPvoD5"
      },
      "source": [
        "scaled_test_pos = scaler.fit_transform(pos_test.values.reshape(-1,1))"
      ],
      "execution_count": null,
      "outputs": []
    },
    {
      "cell_type": "code",
      "metadata": {
        "id": "nxSV4uHgRWeq"
      },
      "source": [
        "#data_dul['Clothing_ID']= data_dul['Clothing_ID'].astype('category')"
      ],
      "execution_count": null,
      "outputs": []
    },
    {
      "cell_type": "code",
      "metadata": {
        "id": "kAbe7kw7RLqU",
        "colab": {
          "base_uri": "https://localhost:8080/",
          "height": 221
        },
        "outputId": "4eb31d84-9161-4bae-ca8a-287685eda95e"
      },
      "source": [
        "data_dul.dtypes"
      ],
      "execution_count": null,
      "outputs": [
        {
          "output_type": "execute_result",
          "data": {
            "text/plain": [
              "Unnamed: 0                  int64\n",
              "Clothing_ID                 int64\n",
              "Age                         int64\n",
              "Title                      object\n",
              "Review_Text                object\n",
              "Rating                      int64\n",
              "Recommended_IND             int64\n",
              "Positive_Feedback_Count     int64\n",
              "Division Name              object\n",
              "Department Name            object\n",
              "Class Name                 object\n",
              "dtype: object"
            ]
          },
          "metadata": {
            "tags": []
          },
          "execution_count": 41
        }
      ]
    },
    {
      "cell_type": "code",
      "metadata": {
        "id": "EhnVulEB2c9b"
      },
      "source": [
        "x_train=[x_train_pad, recommend_train, age_train, pos_train] #label encoding on clothing ID is done"
      ],
      "execution_count": null,
      "outputs": []
    },
    {
      "cell_type": "code",
      "metadata": {
        "id": "Jcl-b4QVQ01k",
        "colab": {
          "base_uri": "https://localhost:8080/",
          "height": 136
        },
        "outputId": "fef3c0dd-cc42-4b01-a872-562b8e0c83ea"
      },
      "source": [
        "x_train[0]"
      ],
      "execution_count": null,
      "outputs": [
        {
          "output_type": "execute_result",
          "data": {
            "text/plain": [
              "array([[    0,     0,     0, ...,    52,     6,    72],\n",
              "       [    0,     0,     0, ...,   219,   387,   760],\n",
              "       [    0,     0,     0, ...,    17,    23,    22],\n",
              "       ...,\n",
              "       [    0,     0,     0, ...,     7,  1626,     5],\n",
              "       [    0,     0,     0, ...,   379, 12614,   318],\n",
              "       [    0,     0,     0, ...,  1353,   147,  1594]], dtype=int32)"
            ]
          },
          "metadata": {
            "tags": []
          },
          "execution_count": 43
        }
      ]
    },
    {
      "cell_type": "code",
      "metadata": {
        "id": "Oo4XZEqj2uTa"
      },
      "source": [
        "x_test= [x_test_pad, recommend_test, age_test, pos_test]"
      ],
      "execution_count": null,
      "outputs": []
    },
    {
      "cell_type": "code",
      "metadata": {
        "id": "1TOMY9jayoZO",
        "colab": {
          "base_uri": "https://localhost:8080/",
          "height": 655
        },
        "outputId": "9b6af406-dbf5-4eec-a17f-1d77bedb1825"
      },
      "source": [
        "x_test"
      ],
      "execution_count": null,
      "outputs": [
        {
          "output_type": "execute_result",
          "data": {
            "text/plain": [
              "[array([[   0,    0,    0, ...,    9,  134,  570],\n",
              "        [   0,    0,    0, ..., 3115,    6,  950],\n",
              "        [   0,    0,    0, ...,  556,  957,  206],\n",
              "        ...,\n",
              "        [   0,    0,    0, ...,  483,  270,   36],\n",
              "        [   0,    0,    0, ...,   59,  371,  142],\n",
              "        [   0,    0,    0, ...,   35,  927,  573]], dtype=int32),\n",
              " array([[0., 1.],\n",
              "        [0., 1.],\n",
              "        [0., 1.],\n",
              "        ...,\n",
              "        [0., 1.],\n",
              "        [0., 1.],\n",
              "        [0., 1.]]),\n",
              " 6958     37\n",
              " 22548    42\n",
              " 10350    41\n",
              " 10902    66\n",
              " 6205     43\n",
              "          ..\n",
              " 13613    36\n",
              " 6382     40\n",
              " 4415     41\n",
              " 12293    40\n",
              " 4638     60\n",
              " Name: Age, Length: 6793, dtype: int64,\n",
              " 6958     0\n",
              " 22548    0\n",
              " 10350    0\n",
              " 10902    0\n",
              " 6205     6\n",
              "         ..\n",
              " 13613    0\n",
              " 6382     4\n",
              " 4415     0\n",
              " 12293    0\n",
              " 4638     1\n",
              " Name: Positive_Feedback_Count, Length: 6793, dtype: int64]"
            ]
          },
          "metadata": {
            "tags": []
          },
          "execution_count": 47
        }
      ]
    },
    {
      "cell_type": "code",
      "metadata": {
        "id": "HwlJkLOgSF5s"
      },
      "source": [
        "y1_train= train['Rating']"
      ],
      "execution_count": null,
      "outputs": []
    },
    {
      "cell_type": "code",
      "metadata": {
        "id": "O-EBLPMoSNyq"
      },
      "source": [
        "y1_test= test['Rating']"
      ],
      "execution_count": null,
      "outputs": []
    },
    {
      "cell_type": "code",
      "metadata": {
        "id": "zPrINN4RUNhi",
        "colab": {
          "base_uri": "https://localhost:8080/",
          "height": 34
        },
        "outputId": "9394f26d-b68d-49b4-cf10-2326f3cb27fe"
      },
      "source": [
        "\n",
        "np.unique(y1_train)"
      ],
      "execution_count": null,
      "outputs": [
        {
          "output_type": "execute_result",
          "data": {
            "text/plain": [
              "array([1, 2, 3, 4, 5])"
            ]
          },
          "metadata": {
            "tags": []
          },
          "execution_count": 47
        }
      ]
    },
    {
      "cell_type": "code",
      "metadata": {
        "id": "GDluSvrOchUR",
        "colab": {
          "base_uri": "https://localhost:8080/",
          "height": 34
        },
        "outputId": "b7a503ac-2183-496a-ac9d-194adcf80021"
      },
      "source": [
        "np.unique(y1_test)"
      ],
      "execution_count": null,
      "outputs": [
        {
          "output_type": "execute_result",
          "data": {
            "text/plain": [
              "array([1, 2, 3, 4, 5])"
            ]
          },
          "metadata": {
            "tags": []
          },
          "execution_count": 48
        }
      ]
    },
    {
      "cell_type": "code",
      "metadata": {
        "id": "Y_OzhYHMJkga"
      },
      "source": [
        "from numpy import asarray\n",
        "from sklearn.preprocessing import OneHotEncoder\n",
        "from sklearn.compose import ColumnTransformer\n",
        "onehot = OneHotEncoder()\n",
        "y_train = onehot.fit_transform(y1_train.values.reshape(-1,1)).toarray()\n",
        " \n"
      ],
      "execution_count": null,
      "outputs": []
    },
    {
      "cell_type": "code",
      "metadata": {
        "id": "qEtESxTL5vy_"
      },
      "source": [
        "y_test = onehot.transform(y1_test.values.reshape(-1,1)).toarray()"
      ],
      "execution_count": null,
      "outputs": []
    },
    {
      "cell_type": "code",
      "metadata": {
        "id": "GA2Ugk77rrcW",
        "colab": {
          "base_uri": "https://localhost:8080/",
          "height": 34
        },
        "outputId": "9783bc06-0e90-493b-d711-86e82a407327"
      },
      "source": [
        "print(y_test.shape)"
      ],
      "execution_count": null,
      "outputs": [
        {
          "output_type": "stream",
          "text": [
            "(6793, 5)\n"
          ],
          "name": "stdout"
        }
      ]
    },
    {
      "cell_type": "code",
      "metadata": {
        "id": "Ar_ipISZdCQM",
        "colab": {
          "base_uri": "https://localhost:8080/",
          "height": 134
        },
        "outputId": "67bfd208-fc80-4a5b-fd6c-56edfe341355"
      },
      "source": [
        "print(y_train)"
      ],
      "execution_count": null,
      "outputs": [
        {
          "output_type": "stream",
          "text": [
            "[[0. 0. 0. 0. 1.]\n",
            " [0. 1. 0. 0. 0.]\n",
            " [0. 1. 0. 0. 0.]\n",
            " ...\n",
            " [0. 0. 0. 0. 1.]\n",
            " [0. 0. 0. 0. 1.]\n",
            " [0. 0. 0. 1. 0.]]\n"
          ],
          "name": "stdout"
        }
      ]
    },
    {
      "cell_type": "code",
      "metadata": {
        "id": "Y1rzKkjg-2mT",
        "colab": {
          "base_uri": "https://localhost:8080/",
          "height": 248
        },
        "outputId": "bfb32dd2-8ea7-4e9c-87fa-2a9c8f55b149"
      },
      "source": [
        "\n",
        "embeddings_index = dict()\n",
        "f = open('/content/drive/My Drive/project/IFIM_Group B_Project/glove.6B.50d.txt')\n",
        "for line in f:\n",
        "    values = line.split()\n",
        "    word = values[0]\n",
        "    coefs = np.asarray(values[1:], dtype='float32')\n",
        "    embeddings_index[word] = coefs\n",
        "f.close()\n",
        "print('Loaded %s word vectors.' % len(embeddings_index))"
      ],
      "execution_count": null,
      "outputs": [
        {
          "output_type": "error",
          "ename": "FileNotFoundError",
          "evalue": "ignored",
          "traceback": [
            "\u001b[0;31m---------------------------------------------------------------------------\u001b[0m",
            "\u001b[0;31mFileNotFoundError\u001b[0m                         Traceback (most recent call last)",
            "\u001b[0;32m<ipython-input-51-a0cc32a91d6b>\u001b[0m in \u001b[0;36m<module>\u001b[0;34m()\u001b[0m\n\u001b[1;32m      1\u001b[0m \u001b[0;34m\u001b[0m\u001b[0m\n\u001b[1;32m      2\u001b[0m \u001b[0membeddings_index\u001b[0m \u001b[0;34m=\u001b[0m \u001b[0mdict\u001b[0m\u001b[0;34m(\u001b[0m\u001b[0;34m)\u001b[0m\u001b[0;34m\u001b[0m\u001b[0;34m\u001b[0m\u001b[0m\n\u001b[0;32m----> 3\u001b[0;31m \u001b[0mf\u001b[0m \u001b[0;34m=\u001b[0m \u001b[0mopen\u001b[0m\u001b[0;34m(\u001b[0m\u001b[0;34m'/content/drive/My Drive/project/IFIM_Group B_Project/glove.6B.50d.txt'\u001b[0m\u001b[0;34m)\u001b[0m\u001b[0;34m\u001b[0m\u001b[0;34m\u001b[0m\u001b[0m\n\u001b[0m\u001b[1;32m      4\u001b[0m \u001b[0;32mfor\u001b[0m \u001b[0mline\u001b[0m \u001b[0;32min\u001b[0m \u001b[0mf\u001b[0m\u001b[0;34m:\u001b[0m\u001b[0;34m\u001b[0m\u001b[0;34m\u001b[0m\u001b[0m\n\u001b[1;32m      5\u001b[0m     \u001b[0mvalues\u001b[0m \u001b[0;34m=\u001b[0m \u001b[0mline\u001b[0m\u001b[0;34m.\u001b[0m\u001b[0msplit\u001b[0m\u001b[0;34m(\u001b[0m\u001b[0;34m)\u001b[0m\u001b[0;34m\u001b[0m\u001b[0;34m\u001b[0m\u001b[0m\n",
            "\u001b[0;31mFileNotFoundError\u001b[0m: [Errno 2] No such file or directory: '/content/drive/My Drive/project/IFIM_Group B_Project/glove.6B.50d.txt'"
          ]
        }
      ]
    },
    {
      "cell_type": "code",
      "metadata": {
        "id": "fUMiqfjBAA3a"
      },
      "source": [
        "embedding_matrix = np.zeros((vocab_size, 50))\n",
        "for word, i in t.word_index.items():\n",
        "    embedding_vector = embeddings_index.get(word)\n",
        "    if embedding_vector is not None:\n",
        "        embedding_matrix[i] = embedding_vector"
      ],
      "execution_count": null,
      "outputs": []
    },
    {
      "cell_type": "code",
      "metadata": {
        "id": "GUeiuFy2AT8p",
        "colab": {
          "base_uri": "https://localhost:8080/",
          "height": 136
        },
        "outputId": "e4457fb4-bded-4860-bc3d-67251ec8fddf"
      },
      "source": [
        "print (embedding_matrix)"
      ],
      "execution_count": null,
      "outputs": [
        {
          "output_type": "stream",
          "text": [
            "[[0. 0. 0. ... 0. 0. 0.]\n",
            " [0. 0. 0. ... 0. 0. 0.]\n",
            " [0. 0. 0. ... 0. 0. 0.]\n",
            " ...\n",
            " [0. 0. 0. ... 0. 0. 0.]\n",
            " [0. 0. 0. ... 0. 0. 0.]\n",
            " [0. 0. 0. ... 0. 0. 0.]]\n"
          ],
          "name": "stdout"
        }
      ]
    },
    {
      "cell_type": "code",
      "metadata": {
        "id": "4bWZxehOgYYZ"
      },
      "source": [
        "hidden_units = (32,4)\n",
        "clothing_embedding_size = 8\n",
        "age_embedding_size=8\n"
      ],
      "execution_count": null,
      "outputs": []
    },
    {
      "cell_type": "code",
      "metadata": {
        "id": "yFD9I5u6k1pc"
      },
      "source": [
        "import keras\n",
        "from keras.layers import Bidirectional, GlobalMaxPool1D\n",
        "from keras import regularizers\n",
        "from keras.layers import concatenate"
      ],
      "execution_count": null,
      "outputs": []
    },
    {
      "cell_type": "code",
      "metadata": {
        "id": "Etuu8ayDb-ef"
      },
      "source": [
        "#clothing_input = Input(shape=(1,), name='clothing_train')\n",
        "#clothing_emb = Embedding(data_dul.Clothing_ID.max()+1, 50, input_length=1, name='clothing_emb')(clothing_input)\n",
        "#clothing_out = Flatten()(clothing_emb)"
      ],
      "execution_count": null,
      "outputs": []
    },
    {
      "cell_type": "code",
      "metadata": {
        "id": "VW5VhkqdqEfY"
      },
      "source": [
        "recommend_input =Input(shape=(2,), name='recommend_train')\n",
        "\n",
        "age_input = Input(shape=(1,), name= 'scaled_train')\n",
        "pos_input = Input(shape=(1,), name= 'pos_train')\n",
        "from keras.layers import LeakyReLU"
      ],
      "execution_count": null,
      "outputs": []
    },
    {
      "cell_type": "code",
      "metadata": {
        "id": "vD0wAOUtuF8f"
      },
      "source": [
        "#Model = Sequential()\n",
        "\n",
        "nlp_input = Input(shape=(500,), name='x_train_pad')\n",
        "\n",
        "emb = Embedding(vocab_size, 50, weights=[embedding_matrix],input_length=500, trainable=True)(nlp_input)\n",
        "nlp_out = LSTM(128, dropout=0.2)(emb)\n",
        "x = concatenate([nlp_out, recommend_input,age_input, pos_input])\n",
        "x = Dense(80, activation= 'relu')(x)\n",
        "x= Dense(40, activation= 'relu')(x)\n",
        "x = Dense(5, activation='softmax')(x)\n",
        "model = keras.models.Model(inputs=[nlp_input, recommend_input, age_input, pos_input], outputs=[x])"
      ],
      "execution_count": null,
      "outputs": []
    },
    {
      "cell_type": "code",
      "metadata": {
        "id": "zJDwtisxzdNE"
      },
      "source": [
        "model.compile(loss='categorical_crossentropy',\n",
        "              optimizer='adam',\n",
        "              #optimizer='rmsprop',\n",
        "              metrics=['accuracy'])"
      ],
      "execution_count": null,
      "outputs": []
    },
    {
      "cell_type": "code",
      "metadata": {
        "id": "FWJKSYsCKmbB",
        "colab": {
          "base_uri": "https://localhost:8080/",
          "height": 544
        },
        "outputId": "bab90f0d-3416-41ff-fb15-aa26ca8ab3f9"
      },
      "source": [
        "model.summary()"
      ],
      "execution_count": null,
      "outputs": [
        {
          "output_type": "stream",
          "text": [
            "Model: \"functional_5\"\n",
            "__________________________________________________________________________________________________\n",
            "Layer (type)                    Output Shape         Param #     Connected to                     \n",
            "==================================================================================================\n",
            "x_train_pad (InputLayer)        [(None, 500)]        0                                            \n",
            "__________________________________________________________________________________________________\n",
            "embedding_2 (Embedding)         (None, 500, 50)      630750      x_train_pad[0][0]                \n",
            "__________________________________________________________________________________________________\n",
            "lstm_2 (LSTM)                   (None, 128)          91648       embedding_2[0][0]                \n",
            "__________________________________________________________________________________________________\n",
            "recommend_train (InputLayer)    [(None, 2)]          0                                            \n",
            "__________________________________________________________________________________________________\n",
            "scaled_train (InputLayer)       [(None, 1)]          0                                            \n",
            "__________________________________________________________________________________________________\n",
            "pos_train (InputLayer)          [(None, 1)]          0                                            \n",
            "__________________________________________________________________________________________________\n",
            "concatenate_2 (Concatenate)     (None, 132)          0           lstm_2[0][0]                     \n",
            "                                                                 recommend_train[0][0]            \n",
            "                                                                 scaled_train[0][0]               \n",
            "                                                                 pos_train[0][0]                  \n",
            "__________________________________________________________________________________________________\n",
            "dense_6 (Dense)                 (None, 80)           10640       concatenate_2[0][0]              \n",
            "__________________________________________________________________________________________________\n",
            "dense_7 (Dense)                 (None, 40)           3240        dense_6[0][0]                    \n",
            "__________________________________________________________________________________________________\n",
            "dense_8 (Dense)                 (None, 5)            205         dense_7[0][0]                    \n",
            "==================================================================================================\n",
            "Total params: 736,483\n",
            "Trainable params: 736,483\n",
            "Non-trainable params: 0\n",
            "__________________________________________________________________________________________________\n"
          ],
          "name": "stdout"
        }
      ]
    },
    {
      "cell_type": "code",
      "metadata": {
        "id": "_SVZFFmaUKqn",
        "colab": {
          "base_uri": "https://localhost:8080/",
          "height": 1000
        },
        "outputId": "43eaae8a-5be8-4017-c26f-7042bae69703"
      },
      "source": [
        "\n",
        "model.fit(x_train,y_train,batch_size=64,epochs=50, validation_data=(x_test,y_test))"
      ],
      "execution_count": null,
      "outputs": [
        {
          "output_type": "stream",
          "text": [
            "Epoch 1/50\n",
            "248/248 [==============================] - 13s 52ms/step - loss: 1.1839 - accuracy: 0.5683 - val_loss: 0.8986 - val_accuracy: 0.6189\n",
            "Epoch 2/50\n",
            "248/248 [==============================] - 12s 50ms/step - loss: 0.7732 - accuracy: 0.6716 - val_loss: 0.8147 - val_accuracy: 0.6296\n",
            "Epoch 3/50\n",
            "248/248 [==============================] - 12s 50ms/step - loss: 0.6745 - accuracy: 0.7087 - val_loss: 0.8360 - val_accuracy: 0.6446\n",
            "Epoch 4/50\n",
            "248/248 [==============================] - 12s 50ms/step - loss: 0.5866 - accuracy: 0.7530 - val_loss: 0.8742 - val_accuracy: 0.6395\n",
            "Epoch 5/50\n",
            "248/248 [==============================] - 12s 50ms/step - loss: 0.5064 - accuracy: 0.7972 - val_loss: 0.9780 - val_accuracy: 0.5987\n",
            "Epoch 6/50\n",
            "248/248 [==============================] - 12s 50ms/step - loss: 0.4384 - accuracy: 0.8271 - val_loss: 1.0815 - val_accuracy: 0.6170\n",
            "Epoch 7/50\n",
            "248/248 [==============================] - 12s 50ms/step - loss: 0.3899 - accuracy: 0.8501 - val_loss: 1.1283 - val_accuracy: 0.6268\n",
            "Epoch 8/50\n",
            "248/248 [==============================] - 12s 50ms/step - loss: 0.3359 - accuracy: 0.8730 - val_loss: 1.1425 - val_accuracy: 0.6078\n",
            "Epoch 9/50\n",
            "248/248 [==============================] - 12s 50ms/step - loss: 0.2920 - accuracy: 0.8917 - val_loss: 1.3165 - val_accuracy: 0.6173\n",
            "Epoch 10/50\n",
            "248/248 [==============================] - 12s 50ms/step - loss: 0.2439 - accuracy: 0.9098 - val_loss: 1.4968 - val_accuracy: 0.6042\n",
            "Epoch 11/50\n",
            "248/248 [==============================] - 12s 50ms/step - loss: 0.2135 - accuracy: 0.9223 - val_loss: 1.5379 - val_accuracy: 0.5899\n",
            "Epoch 12/50\n",
            "248/248 [==============================] - 12s 50ms/step - loss: 0.1916 - accuracy: 0.9320 - val_loss: 1.7705 - val_accuracy: 0.5840\n",
            "Epoch 13/50\n",
            "248/248 [==============================] - 12s 50ms/step - loss: 0.1632 - accuracy: 0.9431 - val_loss: 1.8690 - val_accuracy: 0.5784\n",
            "Epoch 14/50\n",
            "248/248 [==============================] - 12s 50ms/step - loss: 0.1388 - accuracy: 0.9515 - val_loss: 1.9439 - val_accuracy: 0.5969\n",
            "Epoch 15/50\n",
            "248/248 [==============================] - 12s 50ms/step - loss: 0.1299 - accuracy: 0.9539 - val_loss: 2.0065 - val_accuracy: 0.5888\n",
            "Epoch 16/50\n",
            "248/248 [==============================] - 12s 50ms/step - loss: 0.1151 - accuracy: 0.9594 - val_loss: 2.1270 - val_accuracy: 0.5902\n",
            "Epoch 17/50\n",
            "248/248 [==============================] - 12s 50ms/step - loss: 0.1105 - accuracy: 0.9613 - val_loss: 2.2321 - val_accuracy: 0.5953\n",
            "Epoch 18/50\n",
            "248/248 [==============================] - 12s 50ms/step - loss: 0.0955 - accuracy: 0.9669 - val_loss: 2.1954 - val_accuracy: 0.5883\n",
            "Epoch 19/50\n",
            "248/248 [==============================] - 12s 50ms/step - loss: 0.0935 - accuracy: 0.9655 - val_loss: 2.2717 - val_accuracy: 0.5802\n",
            "Epoch 20/50\n",
            "248/248 [==============================] - 12s 50ms/step - loss: 0.0753 - accuracy: 0.9732 - val_loss: 2.3987 - val_accuracy: 0.5890\n",
            "Epoch 21/50\n",
            "248/248 [==============================] - 12s 50ms/step - loss: 0.0677 - accuracy: 0.9775 - val_loss: 2.5780 - val_accuracy: 0.5894\n",
            "Epoch 22/50\n",
            "248/248 [==============================] - 12s 50ms/step - loss: 0.0700 - accuracy: 0.9756 - val_loss: 2.5876 - val_accuracy: 0.5844\n",
            "Epoch 23/50\n",
            "248/248 [==============================] - 13s 50ms/step - loss: 0.0640 - accuracy: 0.9781 - val_loss: 2.7364 - val_accuracy: 0.5800\n",
            "Epoch 24/50\n",
            "248/248 [==============================] - 12s 50ms/step - loss: 0.0668 - accuracy: 0.9758 - val_loss: 2.7857 - val_accuracy: 0.5623\n",
            "Epoch 25/50\n",
            "248/248 [==============================] - 12s 50ms/step - loss: 0.0636 - accuracy: 0.9775 - val_loss: 2.7376 - val_accuracy: 0.5832\n",
            "Epoch 26/50\n",
            "248/248 [==============================] - 12s 50ms/step - loss: 0.0502 - accuracy: 0.9821 - val_loss: 2.8152 - val_accuracy: 0.5696\n",
            "Epoch 27/50\n",
            "248/248 [==============================] - 12s 50ms/step - loss: 0.0548 - accuracy: 0.9809 - val_loss: 2.9630 - val_accuracy: 0.5597\n",
            "Epoch 28/50\n",
            "248/248 [==============================] - 12s 50ms/step - loss: 0.0471 - accuracy: 0.9833 - val_loss: 2.9577 - val_accuracy: 0.5881\n",
            "Epoch 29/50\n",
            "248/248 [==============================] - 12s 50ms/step - loss: 0.0520 - accuracy: 0.9814 - val_loss: 2.9162 - val_accuracy: 0.5885\n",
            "Epoch 30/50\n",
            "248/248 [==============================] - 12s 50ms/step - loss: 0.0476 - accuracy: 0.9840 - val_loss: 2.8800 - val_accuracy: 0.5763\n",
            "Epoch 31/50\n",
            "248/248 [==============================] - 12s 50ms/step - loss: 0.0409 - accuracy: 0.9857 - val_loss: 3.1108 - val_accuracy: 0.5647\n",
            "Epoch 32/50\n",
            "248/248 [==============================] - 12s 50ms/step - loss: 0.0384 - accuracy: 0.9862 - val_loss: 3.1581 - val_accuracy: 0.5812\n",
            "Epoch 33/50\n",
            "248/248 [==============================] - 12s 50ms/step - loss: 0.0425 - accuracy: 0.9854 - val_loss: 3.1622 - val_accuracy: 0.5868\n",
            "Epoch 34/50\n",
            "248/248 [==============================] - 12s 50ms/step - loss: 0.0433 - accuracy: 0.9844 - val_loss: 3.1069 - val_accuracy: 0.5760\n",
            "Epoch 35/50\n",
            "248/248 [==============================] - 12s 50ms/step - loss: 0.0440 - accuracy: 0.9835 - val_loss: 3.1526 - val_accuracy: 0.5835\n",
            "Epoch 36/50\n",
            "248/248 [==============================] - 12s 50ms/step - loss: 0.0381 - accuracy: 0.9859 - val_loss: 3.0508 - val_accuracy: 0.5631\n",
            "Epoch 37/50\n",
            "248/248 [==============================] - 12s 50ms/step - loss: 0.0301 - accuracy: 0.9886 - val_loss: 3.5657 - val_accuracy: 0.5782\n",
            "Epoch 38/50\n",
            "248/248 [==============================] - 12s 50ms/step - loss: 0.0242 - accuracy: 0.9914 - val_loss: 3.5117 - val_accuracy: 0.5815\n",
            "Epoch 39/50\n",
            "248/248 [==============================] - 12s 50ms/step - loss: 0.0304 - accuracy: 0.9889 - val_loss: 3.3215 - val_accuracy: 0.5759\n",
            "Epoch 40/50\n",
            "248/248 [==============================] - 12s 50ms/step - loss: 0.0313 - accuracy: 0.9897 - val_loss: 3.3929 - val_accuracy: 0.5663\n",
            "Epoch 41/50\n",
            "248/248 [==============================] - 12s 50ms/step - loss: 0.0310 - accuracy: 0.9892 - val_loss: 3.2648 - val_accuracy: 0.5749\n",
            "Epoch 42/50\n",
            "248/248 [==============================] - 12s 50ms/step - loss: 0.0360 - accuracy: 0.9878 - val_loss: 3.1464 - val_accuracy: 0.5807\n",
            "Epoch 43/50\n",
            "248/248 [==============================] - 12s 50ms/step - loss: 0.0297 - accuracy: 0.9894 - val_loss: 3.3408 - val_accuracy: 0.5910\n",
            "Epoch 44/50\n",
            "248/248 [==============================] - 12s 50ms/step - loss: 0.0302 - accuracy: 0.9909 - val_loss: 3.1752 - val_accuracy: 0.5809\n",
            "Epoch 45/50\n",
            "248/248 [==============================] - 12s 50ms/step - loss: 0.0257 - accuracy: 0.9913 - val_loss: 3.3597 - val_accuracy: 0.5819\n",
            "Epoch 46/50\n",
            "248/248 [==============================] - 12s 50ms/step - loss: 0.0240 - accuracy: 0.9909 - val_loss: 3.5114 - val_accuracy: 0.5852\n",
            "Epoch 47/50\n",
            "248/248 [==============================] - 12s 50ms/step - loss: 0.0249 - accuracy: 0.9914 - val_loss: 3.4813 - val_accuracy: 0.5713\n",
            "Epoch 48/50\n",
            "248/248 [==============================] - 13s 50ms/step - loss: 0.0204 - accuracy: 0.9931 - val_loss: 3.6150 - val_accuracy: 0.5734\n",
            "Epoch 49/50\n",
            "248/248 [==============================] - 12s 50ms/step - loss: 0.0242 - accuracy: 0.9909 - val_loss: 3.6485 - val_accuracy: 0.5593\n",
            "Epoch 50/50\n",
            "248/248 [==============================] - 12s 50ms/step - loss: 0.0248 - accuracy: 0.9913 - val_loss: 3.5856 - val_accuracy: 0.5819\n"
          ],
          "name": "stdout"
        },
        {
          "output_type": "execute_result",
          "data": {
            "text/plain": [
              "<tensorflow.python.keras.callbacks.History at 0x7f46d01a3c88>"
            ]
          },
          "metadata": {
            "tags": []
          },
          "execution_count": 67
        }
      ]
    },
    {
      "cell_type": "code",
      "metadata": {
        "id": "aNDZDvYvUJrb"
      },
      "source": [
        ""
      ],
      "execution_count": null,
      "outputs": []
    },
    {
      "cell_type": "code",
      "metadata": {
        "id": "DpjNOfPFLpC9",
        "colab": {
          "base_uri": "https://localhost:8080/",
          "height": 34
        },
        "outputId": "64994f9d-381c-4885-cba1-79d0c305bc5b"
      },
      "source": [
        "loss, accuracy = model.evaluate(x_train, y_train, verbose=0 )\n",
        "\n",
        "print('Accuracy: %f' % (accuracy*100))"
      ],
      "execution_count": null,
      "outputs": [
        {
          "output_type": "stream",
          "text": [
            "Accuracy: 99.716055\n"
          ],
          "name": "stdout"
        }
      ]
    },
    {
      "cell_type": "code",
      "metadata": {
        "id": "PCko4om1sb_M",
        "colab": {
          "base_uri": "https://localhost:8080/",
          "height": 34
        },
        "outputId": "0ad59609-f7b4-46a4-c530-a74fa7b6c33b"
      },
      "source": [
        "loss, accuracy = model.evaluate(x_test, y_test, verbose=0 )\n",
        "print('Accuracy: %f' % (accuracy*100))"
      ],
      "execution_count": null,
      "outputs": [
        {
          "output_type": "stream",
          "text": [
            "Accuracy: 58.192259\n"
          ],
          "name": "stdout"
        }
      ]
    },
    {
      "cell_type": "code",
      "metadata": {
        "id": "QbfB9mg9sISO",
        "colab": {
          "base_uri": "https://localhost:8080/",
          "height": 34
        },
        "outputId": "c7ff4990-8f72-42b8-f76c-9ed36cadc844"
      },
      "source": [
        "print(y_test_1.shape)"
      ],
      "execution_count": null,
      "outputs": [
        {
          "output_type": "stream",
          "text": [
            "(6793,)\n"
          ],
          "name": "stdout"
        }
      ]
    },
    {
      "cell_type": "code",
      "metadata": {
        "id": "pQTKENbaMOE2"
      },
      "source": [
        "# 62% , 63% \n",
        "nlp_input = Input(shape=(500,), name='x_train_pad')\n",
        "\n",
        "emb = Embedding(vocab_size, 50, weights=[embedding_matrix],input_length=500, trainable=False)(nlp_input)\n",
        "nlp_out = keras.layers.GlobalAveragePooling1D()(emb)\n",
        "#nlp_out1 = LSTM(32, dropout=0.1)(emb)\n",
        "x = concatenate([nlp_out, recommend_input,age_input, pos_input])\n",
        "x = Dense(80, activation= 'relu')(x)\n",
        "x= Dense(40, activation= 'relu')(x)\n",
        "x = Dense(5, activation='softmax')(x)\n",
        "model = keras.models.Model(inputs=[nlp_input, recommend_input, age_input, pos_input], outputs=[x])"
      ],
      "execution_count": null,
      "outputs": []
    },
    {
      "cell_type": "code",
      "metadata": {
        "id": "14FjPREp0pKx"
      },
      "source": [
        "# 70%, 65%\n",
        "nlp_input = Input(shape=(500,), name='x_train_pad')\n",
        "\n",
        "emb = Embedding(vocab_size, 50, weights=[embedding_matrix],input_length=500, trainable=False)(nlp_input)\n",
        "nlp_out = LSTM(90, dropout= 0.2)(emb)\n",
        "x = concatenate([nlp_out, recommend_input,age_input, pos_input])\n",
        "x = Dense(80, activation= 'relu')(x)\n",
        "x= Dense(40, activation= 'relu')(x)\n",
        "x = Dense(5, activation='softmax')(x)\n",
        "model = keras.models.Model(inputs=[nlp_input, recommend_input, age_input, pos_input], outputs=[x])"
      ],
      "execution_count": null,
      "outputs": []
    },
    {
      "cell_type": "code",
      "metadata": {
        "id": "NUQk2EhpHV55"
      },
      "source": [
        "model = Sequential()\n",
        "model.add(Embedding(vocab_size, 50, weights=[embedding_matrix],input_length=500, trainable=False))\n",
        "model.add(LSTM(50, dropout= 0.2))\n",
        "\n",
        "model.add(Dense(40, activation='relu'))\n",
        "#model.add(Dense(20, activation='relu'))\n",
        "model.add(Dense(5, activation='softmax'))\n",
        "\n",
        "model.compile(loss='categorical_crossentropy',\n",
        "              optimizer='adam',\n",
        "              #optimizer='rmsprop',\n",
        "              metrics=['accuracy'])"
      ],
      "execution_count": null,
      "outputs": []
    },
    {
      "cell_type": "code",
      "metadata": {
        "id": "e6txgkgGI8ZC",
        "colab": {
          "base_uri": "https://localhost:8080/",
          "height": 286
        },
        "outputId": "7502ce7b-8b93-4664-ce7a-d2fe0d5ee91b"
      },
      "source": [
        "model.summary()"
      ],
      "execution_count": null,
      "outputs": [
        {
          "output_type": "stream",
          "text": [
            "Model: \"sequential_2\"\n",
            "_________________________________________________________________\n",
            "Layer (type)                 Output Shape              Param #   \n",
            "=================================================================\n",
            "embedding_15 (Embedding)     (None, 500, 50)           630950    \n",
            "_________________________________________________________________\n",
            "lstm_6 (LSTM)                (None, 50)                20200     \n",
            "_________________________________________________________________\n",
            "dense_13 (Dense)             (None, 40)                2040      \n",
            "_________________________________________________________________\n",
            "dense_14 (Dense)             (None, 5)                 205       \n",
            "=================================================================\n",
            "Total params: 653,395\n",
            "Trainable params: 22,445\n",
            "Non-trainable params: 630,950\n",
            "_________________________________________________________________\n"
          ],
          "name": "stdout"
        }
      ]
    },
    {
      "cell_type": "code",
      "metadata": {
        "id": "4M3vdwtBJIX7"
      },
      "source": [
        "\n",
        "history=model.fit(x_train, y_train, batch_size=64, epochs=10,verbose=0,validation_data=(x_test, y_test))"
      ],
      "execution_count": null,
      "outputs": []
    },
    {
      "cell_type": "code",
      "metadata": {
        "id": "CvLNf9i8bKYg",
        "colab": {
          "base_uri": "https://localhost:8080/",
          "height": 34
        },
        "outputId": "a0fea451-25e3-4ab4-dc73-1995e176b5d3"
      },
      "source": [
        "loss, accuracy = model.evaluate(x_train, y_train, verbose=0, )\n",
        "print('Accuracy: %f' % (accuracy*100))"
      ],
      "execution_count": null,
      "outputs": [
        {
          "output_type": "stream",
          "text": [
            "Accuracy: 70.949018\n"
          ],
          "name": "stdout"
        }
      ]
    },
    {
      "cell_type": "code",
      "metadata": {
        "id": "nQ8CFPX8JPHv",
        "colab": {
          "base_uri": "https://localhost:8080/",
          "height": 34
        },
        "outputId": "420e5ee1-f8e8-4e02-a04e-fc165f9f1519"
      },
      "source": [
        "loss, accuracy = model.evaluate(x_test, y_test, verbose=0, )\n",
        "print('Accuracy: %f' % (accuracy*100))"
      ],
      "execution_count": null,
      "outputs": [
        {
          "output_type": "stream",
          "text": [
            "Accuracy: 61.254233\n"
          ],
          "name": "stdout"
        }
      ]
    },
    {
      "cell_type": "code",
      "metadata": {
        "id": "yjRQ13T4kBhJ",
        "colab": {
          "base_uri": "https://localhost:8080/",
          "height": 295
        },
        "outputId": "76b6fba4-3be5-443b-f437-7d714e421665"
      },
      "source": [
        "import keras\n",
        "from matplotlib import pyplot as plt\n",
        "plt.plot(mod.history['accuracy'])\n",
        "plt.plot(mod.history['val_accuracy'])\n",
        "plt.title('model accuracy')\n",
        "plt.ylabel('accuracy')\n",
        "plt.xlabel('epoch')\n",
        "plt.legend(['train','Val'], loc='upper left')\n",
        "plt.show()"
      ],
      "execution_count": null,
      "outputs": [
        {
          "output_type": "display_data",
          "data": {
            "image/png": "[encoded data removed]",
            "text/plain": [
              "<Figure size 432x288 with 1 Axes>"
            ]
          },
          "metadata": {
            "tags": [],
            "needs_background": "light"
          }
        }
      ]
    }
  ]
}